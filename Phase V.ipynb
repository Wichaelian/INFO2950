{
 "cells": [
  {
   "cell_type": "markdown",
   "metadata": {},
   "source": [
    "# INFO 2950 Final Project"
   ]
  },
  {
   "cell_type": "markdown",
   "metadata": {},
   "source": [
    "By Michael Wang, John Lo, Patricio Fraga-Errecart, and Colin Hoffer "
   ]
  },
  {
   "cell_type": "markdown",
   "metadata": {},
   "source": [
    "---\n",
    "## Introduction"
   ]
  },
  {
   "cell_type": "markdown",
   "metadata": {},
   "source": [
    "We began this project by first thinking about what sorts of factors can affect housing prices within the United States. A common life goal for many individuals and families within the United States is buying a home. However, hosuing prices can vary greatly according to different factors like geography, climate, etc. We wanted to see what sorts of factors have the biggest effects on typical housing prices. Having such information can be useful for a variety of reasons. People looking to buy a home could have a better idea as to where to look in order to find cheaper houses. Moreover, homeowners looking to sell could have a better idea as to how local housing prices are determined and have more information during the appraisal process. All in all, knowing how typical housing prices fluctuate due outside factors besides the houses themselves is useful for those looking to buy and sell homes.\n",
    "\n",
    "After some deliberation, we decided to narrow our focus to housing prices within various cities, and chose potential factors based on what we each thought might affect housing prices. We came up with two distinct research questions:\n",
    "\n",
    "- What factors (including education, taxes, weather, etc.) have the highest correlation with typical housing prices in cities in the USA?\n",
    "- Can such factors be used to accurately predict housing prices within the USA?\n",
    "\n",
    "We gathered housing price data from Zillow, education and economic data from the Census, weather data from the National Weather Service and crime data from the FBI website. We performed multivariate and univariate linear regressions to see if the factors listed can be used to predict typical housing prices. We gathered our most promising results and performed significance tests on them.\n",
    "\n",
    "After performing all our analyses, we did not find particularly high r^2 values for any of our suggested factors, although some of the factors landed within the .4 to .6 range, which demonstrate some correlation. We suspected this was due to the high variability of housing prices within various cities, as well as the variation of housing prices from city to city. We also have no reference point for a \"significant\" correlation for real estate data. However, our significance testing seems to indicate that our results were not random, so we can gather that predictions can be made utilzing our chosen factors with at least some accuracy.\n",
    "\n",
    "Overall, the best predictors for housing prices that we discovered seem to be the percentage of educated population, mean income, and climate."
   ]
  },
  {
   "cell_type": "markdown",
   "metadata": {},
   "source": [
    "---\n",
    "## Data Description\n"
   ]
  },
  {
   "cell_type": "markdown",
   "metadata": {},
   "source": [
    "\n",
    "### Data Overview"
   ]
  },
  {
   "cell_type": "markdown",
   "metadata": {},
   "source": [
    "Because our Data Collection and Cleaning was quite extensive, we placed it in a separate Jupyter file.\n",
    "\n",
    "In our final dataset (msazhvi), the rows represent 52 Metropolitan Statistical Areas (MSAs) throughout different geographical regions of the US. The columns are different attributes of each MSA, including typical home value (2018 ZHVI), average percent of highest education attained, average income, average property taxes, average rent as a percent of income, average high temperature of the year, average low temperature of the year, average mean temperature of the year, and various forms of crime per 100k individuals.\n",
    "\n",
    "The home value data in the 2018 ZHVI is sourced from Zillow and their public data. Zillow has their proprietary home value estimates called 'Zestimates' sourced from a variety of metrics. These metrics come from third party sources, some which are not disclosed due to zestimates being Zillow's special metric. However, other sources are known, such as data.gov, Google Places, and Multiple Listing Service (MLS) data. MLS data is used by real estate brokers to make transactions more efficient, therefore, this data provides Zillow with pricing info. Zillow receives MLS data directly in a data feed when brokers opt into have their listing syndicated by Zillow. Because of their sources and direct connections to real-time transactions, Zillow is able to get provide accurate aggregated estimates for MSAs and their housing prices. \n",
    "\n",
    "Much of the other data comes directly from the census, including average percent of highest education attained, average income, average property taxes, average rent as a percent. Specifically, this data comes from the American Community Survey Data from the census, which is collected every year rather than every 10 years to provide 5-year estimates regarding community metrics. This data is sent out to select members of communities on a rotating basis to guage a sample size to help estimate the metrics. \n",
    "\n",
    "The crime data comes from the FBI and is sorted by all MSAs throughout the country. The data is posted every year, however not every MSA is available each year. The data provides metrics on violent crimes and thievery. Because the FBI is federal, they do not collect the data themselves. Law enforcement agencies around the country provide the data to the FBI yearly, at which point they compile and publish the Uniform Crime Report. \n",
    "\n",
    "The temperature data comes from NOAA and was taken only from the major city in each MSA. This is because the data is not published by MSA but still provides the most accurate estimate since the city is typically located in the geographical center of the MSA. NOAA collects their real-time data from satelites, bouys, weather stations, scientists, and local stations. An interactive map of the US allows the user to click on a geographical region and then a city within. Data from each city had to be collected individually and compiled into a csv by hand, as there was no way to download all available data. \n",
    "\n",
    "This dataset was created in order to more effectively compare various factors and their effects on typical home values within cities. We decided to focus on an entire year (2018), so we had to consolidate the ZHVI data, which was calculated monthly. We also focused on Metropolitan Statistical Areas surrounding cities, so we also consolidated the Census data by performing weighted averages of the county variables.\n",
    "\n",
    "All the data we collected was free and we required no funding. There are links in the Data Collection section to the specific sources where we gathered our data from. \n",
    "\n",
    "We chose factors somewhat arbitrarily; we chose them based on what we suspected would have an effect on typical house price.\n"
   ]
  },
  {
   "cell_type": "code",
   "execution_count": 1,
   "metadata": {},
   "outputs": [
    {
     "data": {
      "text/html": [
       "<div>\n",
       "<style scoped>\n",
       "    .dataframe tbody tr th:only-of-type {\n",
       "        vertical-align: middle;\n",
       "    }\n",
       "\n",
       "    .dataframe tbody tr th {\n",
       "        vertical-align: top;\n",
       "    }\n",
       "\n",
       "    .dataframe thead th {\n",
       "        text-align: right;\n",
       "    }\n",
       "</style>\n",
       "<table border=\"1\" class=\"dataframe\">\n",
       "  <thead>\n",
       "    <tr style=\"text-align: right;\">\n",
       "      <th></th>\n",
       "      <th>Unnamed: 0</th>\n",
       "      <th>RegionName</th>\n",
       "      <th>2018 ZHVI</th>\n",
       "      <th>Mean Percent HS/Equivalent Educated</th>\n",
       "      <th>Mean Percent Bachelor's Degree Holding</th>\n",
       "      <th>Mean Percent Postgraduate Educated</th>\n",
       "      <th>Mean Income</th>\n",
       "      <th>Mean Property Tax</th>\n",
       "      <th>Mean Rent as a Percentage of Income</th>\n",
       "      <th>Mean High Temp</th>\n",
       "      <th>Mean Low Temp</th>\n",
       "      <th>Mean Annual Temp</th>\n",
       "      <th>Violent Crime per 100k</th>\n",
       "      <th>Robbery per 100k</th>\n",
       "      <th>Property Crime per 100k</th>\n",
       "      <th>Burglary per 100k</th>\n",
       "    </tr>\n",
       "  </thead>\n",
       "  <tbody>\n",
       "    <tr>\n",
       "      <th>0</th>\n",
       "      <td>1</td>\n",
       "      <td>New York, NY</td>\n",
       "      <td>4.710252e+05</td>\n",
       "      <td>0.194727</td>\n",
       "      <td>0.181194</td>\n",
       "      <td>0.123487</td>\n",
       "      <td>97918.579350</td>\n",
       "      <td>4080.629834</td>\n",
       "      <td>16.965818</td>\n",
       "      <td>97.0</td>\n",
       "      <td>5.0</td>\n",
       "      <td>53.4</td>\n",
       "      <td>332.9</td>\n",
       "      <td>107.5</td>\n",
       "      <td>1335.6</td>\n",
       "      <td>152.6</td>\n",
       "    </tr>\n",
       "    <tr>\n",
       "      <th>1</th>\n",
       "      <td>2</td>\n",
       "      <td>Los Angeles-Long Beach-Anaheim, CA</td>\n",
       "      <td>6.613750e+05</td>\n",
       "      <td>0.163148</td>\n",
       "      <td>0.166903</td>\n",
       "      <td>0.083846</td>\n",
       "      <td>91473.680944</td>\n",
       "      <td>2495.099228</td>\n",
       "      <td>19.548604</td>\n",
       "      <td>101.0</td>\n",
       "      <td>38.0</td>\n",
       "      <td>66.0</td>\n",
       "      <td>494.8</td>\n",
       "      <td>162.7</td>\n",
       "      <td>2246.9</td>\n",
       "      <td>390.5</td>\n",
       "    </tr>\n",
       "    <tr>\n",
       "      <th>2</th>\n",
       "      <td>3</td>\n",
       "      <td>Chicago, IL</td>\n",
       "      <td>2.395608e+05</td>\n",
       "      <td>0.196159</td>\n",
       "      <td>0.170818</td>\n",
       "      <td>0.105563</td>\n",
       "      <td>84038.028714</td>\n",
       "      <td>3621.713256</td>\n",
       "      <td>11.552303</td>\n",
       "      <td>95.0</td>\n",
       "      <td>-7.0</td>\n",
       "      <td>50.5</td>\n",
       "      <td>443.0</td>\n",
       "      <td>166.8</td>\n",
       "      <td>2081.6</td>\n",
       "      <td>330.7</td>\n",
       "    </tr>\n",
       "    <tr>\n",
       "      <th>3</th>\n",
       "      <td>4</td>\n",
       "      <td>Dallas-Fort Worth, TX</td>\n",
       "      <td>2.448314e+05</td>\n",
       "      <td>0.178769</td>\n",
       "      <td>0.159131</td>\n",
       "      <td>0.083052</td>\n",
       "      <td>83355.597543</td>\n",
       "      <td>2734.003335</td>\n",
       "      <td>13.185533</td>\n",
       "      <td>106.0</td>\n",
       "      <td>18.0</td>\n",
       "      <td>68.0</td>\n",
       "      <td>351.0</td>\n",
       "      <td>103.6</td>\n",
       "      <td>2232.7</td>\n",
       "      <td>360.9</td>\n",
       "    </tr>\n",
       "    <tr>\n",
       "      <th>4</th>\n",
       "      <td>6</td>\n",
       "      <td>Houston, TX</td>\n",
       "      <td>2.106382e+05</td>\n",
       "      <td>0.182125</td>\n",
       "      <td>0.140816</td>\n",
       "      <td>0.077357</td>\n",
       "      <td>75547.037009</td>\n",
       "      <td>2507.561749</td>\n",
       "      <td>12.354341</td>\n",
       "      <td>103.0</td>\n",
       "      <td>26.0</td>\n",
       "      <td>70.3</td>\n",
       "      <td>593.1</td>\n",
       "      <td>176.7</td>\n",
       "      <td>2604.7</td>\n",
       "      <td>443.5</td>\n",
       "    </tr>\n",
       "    <tr>\n",
       "      <th>5</th>\n",
       "      <td>7</td>\n",
       "      <td>Washington, DC</td>\n",
       "      <td>4.158648e+05</td>\n",
       "      <td>0.141638</td>\n",
       "      <td>0.198190</td>\n",
       "      <td>0.184021</td>\n",
       "      <td>123028.151092</td>\n",
       "      <td>2998.814976</td>\n",
       "      <td>12.758984</td>\n",
       "      <td>99.0</td>\n",
       "      <td>13.0</td>\n",
       "      <td>59.0</td>\n",
       "      <td>264.8</td>\n",
       "      <td>84.3</td>\n",
       "      <td>1656.8</td>\n",
       "      <td>137.9</td>\n",
       "    </tr>\n",
       "    <tr>\n",
       "      <th>6</th>\n",
       "      <td>8</td>\n",
       "      <td>Miami-Fort Lauderdale, FL</td>\n",
       "      <td>2.848126e+05</td>\n",
       "      <td>0.207246</td>\n",
       "      <td>0.162260</td>\n",
       "      <td>0.099602</td>\n",
       "      <td>60800.129049</td>\n",
       "      <td>1837.925430</td>\n",
       "      <td>14.352038</td>\n",
       "      <td>95.0</td>\n",
       "      <td>42.0</td>\n",
       "      <td>77.5</td>\n",
       "      <td>427.7</td>\n",
       "      <td>116.3</td>\n",
       "      <td>2781.1</td>\n",
       "      <td>315.1</td>\n",
       "    </tr>\n",
       "    <tr>\n",
       "      <th>7</th>\n",
       "      <td>9</td>\n",
       "      <td>Atlanta, GA</td>\n",
       "      <td>2.208773e+05</td>\n",
       "      <td>0.189890</td>\n",
       "      <td>0.171760</td>\n",
       "      <td>0.101076</td>\n",
       "      <td>81266.775866</td>\n",
       "      <td>1559.728686</td>\n",
       "      <td>11.909968</td>\n",
       "      <td>97.0</td>\n",
       "      <td>15.0</td>\n",
       "      <td>63.3</td>\n",
       "      <td>320.7</td>\n",
       "      <td>94.1</td>\n",
       "      <td>2575.0</td>\n",
       "      <td>393.9</td>\n",
       "    </tr>\n",
       "    <tr>\n",
       "      <th>8</th>\n",
       "      <td>10</td>\n",
       "      <td>Boston, MA</td>\n",
       "      <td>4.779737e+05</td>\n",
       "      <td>0.172954</td>\n",
       "      <td>0.204811</td>\n",
       "      <td>0.165631</td>\n",
       "      <td>108235.822458</td>\n",
       "      <td>3530.419099</td>\n",
       "      <td>14.053450</td>\n",
       "      <td>97.0</td>\n",
       "      <td>2.0</td>\n",
       "      <td>52.1</td>\n",
       "      <td>284.4</td>\n",
       "      <td>54.4</td>\n",
       "      <td>1167.3</td>\n",
       "      <td>151.2</td>\n",
       "    </tr>\n",
       "    <tr>\n",
       "      <th>9</th>\n",
       "      <td>11</td>\n",
       "      <td>San Francisco, CA</td>\n",
       "      <td>1.079899e+06</td>\n",
       "      <td>0.130278</td>\n",
       "      <td>0.234833</td>\n",
       "      <td>0.158303</td>\n",
       "      <td>136294.213613</td>\n",
       "      <td>3939.445843</td>\n",
       "      <td>14.528505</td>\n",
       "      <td>93.0</td>\n",
       "      <td>39.0</td>\n",
       "      <td>57.8</td>\n",
       "      <td>472.4</td>\n",
       "      <td>217.6</td>\n",
       "      <td>3283.5</td>\n",
       "      <td>400.9</td>\n",
       "    </tr>\n",
       "    <tr>\n",
       "      <th>10</th>\n",
       "      <td>12</td>\n",
       "      <td>Detroit, MI</td>\n",
       "      <td>1.711354e+05</td>\n",
       "      <td>0.208448</td>\n",
       "      <td>0.146476</td>\n",
       "      <td>0.090281</td>\n",
       "      <td>66976.922389</td>\n",
       "      <td>1974.512852</td>\n",
       "      <td>9.822774</td>\n",
       "      <td>95.0</td>\n",
       "      <td>-3.0</td>\n",
       "      <td>50.8</td>\n",
       "      <td>535.1</td>\n",
       "      <td>82.2</td>\n",
       "      <td>1945.5</td>\n",
       "      <td>395.0</td>\n",
       "    </tr>\n",
       "    <tr>\n",
       "      <th>11</th>\n",
       "      <td>14</td>\n",
       "      <td>Phoenix, AZ</td>\n",
       "      <td>2.589312e+05</td>\n",
       "      <td>0.187847</td>\n",
       "      <td>0.143424</td>\n",
       "      <td>0.078810</td>\n",
       "      <td>70373.747698</td>\n",
       "      <td>1093.280357</td>\n",
       "      <td>11.070163</td>\n",
       "      <td>116.0</td>\n",
       "      <td>33.0</td>\n",
       "      <td>76.0</td>\n",
       "      <td>446.2</td>\n",
       "      <td>98.2</td>\n",
       "      <td>2608.7</td>\n",
       "      <td>431.8</td>\n",
       "    </tr>\n",
       "    <tr>\n",
       "      <th>12</th>\n",
       "      <td>15</td>\n",
       "      <td>Seattle, WA</td>\n",
       "      <td>4.961385e+05</td>\n",
       "      <td>0.157849</td>\n",
       "      <td>0.201722</td>\n",
       "      <td>0.119531</td>\n",
       "      <td>105208.398922</td>\n",
       "      <td>2899.723062</td>\n",
       "      <td>13.514096</td>\n",
       "      <td>94.0</td>\n",
       "      <td>21.0</td>\n",
       "      <td>52.9</td>\n",
       "      <td>359.0</td>\n",
       "      <td>105.5</td>\n",
       "      <td>3331.3</td>\n",
       "      <td>592.2</td>\n",
       "    </tr>\n",
       "    <tr>\n",
       "      <th>13</th>\n",
       "      <td>16</td>\n",
       "      <td>Minneapolis-St Paul, MN</td>\n",
       "      <td>2.752242e+05</td>\n",
       "      <td>0.166731</td>\n",
       "      <td>0.201858</td>\n",
       "      <td>0.104080</td>\n",
       "      <td>93311.972678</td>\n",
       "      <td>2346.959904</td>\n",
       "      <td>10.301250</td>\n",
       "      <td>97.0</td>\n",
       "      <td>-16.0</td>\n",
       "      <td>47.3</td>\n",
       "      <td>253.4</td>\n",
       "      <td>73.0</td>\n",
       "      <td>2160.5</td>\n",
       "      <td>294.2</td>\n",
       "    </tr>\n",
       "    <tr>\n",
       "      <th>14</th>\n",
       "      <td>18</td>\n",
       "      <td>St. Louis, MO</td>\n",
       "      <td>1.697432e+05</td>\n",
       "      <td>0.209521</td>\n",
       "      <td>0.149726</td>\n",
       "      <td>0.096961</td>\n",
       "      <td>69058.901283</td>\n",
       "      <td>1713.489058</td>\n",
       "      <td>9.866394</td>\n",
       "      <td>102.0</td>\n",
       "      <td>2.0</td>\n",
       "      <td>57.8</td>\n",
       "      <td>455.1</td>\n",
       "      <td>93.3</td>\n",
       "      <td>2438.5</td>\n",
       "      <td>408.6</td>\n",
       "    </tr>\n",
       "    <tr>\n",
       "      <th>15</th>\n",
       "      <td>19</td>\n",
       "      <td>Tampa, FL</td>\n",
       "      <td>2.069838e+05</td>\n",
       "      <td>0.241241</td>\n",
       "      <td>0.150800</td>\n",
       "      <td>0.079328</td>\n",
       "      <td>57071.590516</td>\n",
       "      <td>1297.513119</td>\n",
       "      <td>11.967870</td>\n",
       "      <td>96.0</td>\n",
       "      <td>32.0</td>\n",
       "      <td>74.0</td>\n",
       "      <td>306.4</td>\n",
       "      <td>55.0</td>\n",
       "      <td>1855.0</td>\n",
       "      <td>256.6</td>\n",
       "    </tr>\n",
       "    <tr>\n",
       "      <th>16</th>\n",
       "      <td>20</td>\n",
       "      <td>Baltimore, MD</td>\n",
       "      <td>2.906508e+05</td>\n",
       "      <td>0.204757</td>\n",
       "      <td>0.167407</td>\n",
       "      <td>0.127767</td>\n",
       "      <td>86937.937500</td>\n",
       "      <td>2237.666570</td>\n",
       "      <td>11.531652</td>\n",
       "      <td>98.0</td>\n",
       "      <td>7.0</td>\n",
       "      <td>56.1</td>\n",
       "      <td>720.8</td>\n",
       "      <td>258.4</td>\n",
       "      <td>3470.6</td>\n",
       "      <td>399.8</td>\n",
       "    </tr>\n",
       "    <tr>\n",
       "      <th>17</th>\n",
       "      <td>21</td>\n",
       "      <td>Denver, CO</td>\n",
       "      <td>4.226690e+05</td>\n",
       "      <td>0.166424</td>\n",
       "      <td>0.205639</td>\n",
       "      <td>0.117813</td>\n",
       "      <td>115959.097716</td>\n",
       "      <td>1795.045364</td>\n",
       "      <td>11.831118</td>\n",
       "      <td>101.0</td>\n",
       "      <td>-12.0</td>\n",
       "      <td>51.3</td>\n",
       "      <td>413.9</td>\n",
       "      <td>93.1</td>\n",
       "      <td>2954.0</td>\n",
       "      <td>525.7</td>\n",
       "    </tr>\n",
       "    <tr>\n",
       "      <th>18</th>\n",
       "      <td>22</td>\n",
       "      <td>Pittsburgh, PA</td>\n",
       "      <td>1.533281e+05</td>\n",
       "      <td>0.272947</td>\n",
       "      <td>0.161802</td>\n",
       "      <td>0.100880</td>\n",
       "      <td>64496.588984</td>\n",
       "      <td>1890.401387</td>\n",
       "      <td>8.777013</td>\n",
       "      <td>92.0</td>\n",
       "      <td>-1.0</td>\n",
       "      <td>52.0</td>\n",
       "      <td>274.6</td>\n",
       "      <td>58.8</td>\n",
       "      <td>1413.1</td>\n",
       "      <td>196.1</td>\n",
       "    </tr>\n",
       "    <tr>\n",
       "      <th>19</th>\n",
       "      <td>23</td>\n",
       "      <td>Portland, OR</td>\n",
       "      <td>4.012636e+05</td>\n",
       "      <td>0.166604</td>\n",
       "      <td>0.183359</td>\n",
       "      <td>0.105991</td>\n",
       "      <td>88700.335805</td>\n",
       "      <td>2503.416686</td>\n",
       "      <td>12.909205</td>\n",
       "      <td>101.0</td>\n",
       "      <td>21.0</td>\n",
       "      <td>54.7</td>\n",
       "      <td>299.1</td>\n",
       "      <td>70.7</td>\n",
       "      <td>2870.0</td>\n",
       "      <td>364.6</td>\n",
       "    </tr>\n",
       "    <tr>\n",
       "      <th>20</th>\n",
       "      <td>24</td>\n",
       "      <td>Charlotte, NC</td>\n",
       "      <td>2.200540e+05</td>\n",
       "      <td>0.189396</td>\n",
       "      <td>0.168072</td>\n",
       "      <td>0.080263</td>\n",
       "      <td>72225.197094</td>\n",
       "      <td>1286.162434</td>\n",
       "      <td>10.350378</td>\n",
       "      <td>98.0</td>\n",
       "      <td>13.0</td>\n",
       "      <td>61.3</td>\n",
       "      <td>426.9</td>\n",
       "      <td>101.3</td>\n",
       "      <td>2739.7</td>\n",
       "      <td>502.3</td>\n",
       "    </tr>\n",
       "    <tr>\n",
       "      <th>21</th>\n",
       "      <td>28</td>\n",
       "      <td>Cincinnati, OH</td>\n",
       "      <td>1.743408e+05</td>\n",
       "      <td>0.244401</td>\n",
       "      <td>0.140038</td>\n",
       "      <td>0.084483</td>\n",
       "      <td>68906.179356</td>\n",
       "      <td>1678.020877</td>\n",
       "      <td>10.342079</td>\n",
       "      <td>95.0</td>\n",
       "      <td>-2.0</td>\n",
       "      <td>54.7</td>\n",
       "      <td>225.2</td>\n",
       "      <td>67.4</td>\n",
       "      <td>2060.7</td>\n",
       "      <td>337.0</td>\n",
       "    </tr>\n",
       "    <tr>\n",
       "      <th>22</th>\n",
       "      <td>30</td>\n",
       "      <td>Kansas City, MO</td>\n",
       "      <td>1.918300e+05</td>\n",
       "      <td>0.203160</td>\n",
       "      <td>0.169248</td>\n",
       "      <td>0.093087</td>\n",
       "      <td>74612.033597</td>\n",
       "      <td>1647.551122</td>\n",
       "      <td>10.761052</td>\n",
       "      <td>101.0</td>\n",
       "      <td>-5.0</td>\n",
       "      <td>55.3</td>\n",
       "      <td>1431.0</td>\n",
       "      <td>290.9</td>\n",
       "      <td>3856.0</td>\n",
       "      <td>430.4</td>\n",
       "    </tr>\n",
       "    <tr>\n",
       "      <th>23</th>\n",
       "      <td>31</td>\n",
       "      <td>Las Vegas, NV</td>\n",
       "      <td>2.720638e+05</td>\n",
       "      <td>0.228403</td>\n",
       "      <td>0.114952</td>\n",
       "      <td>0.058746</td>\n",
       "      <td>63378.989913</td>\n",
       "      <td>969.651412</td>\n",
       "      <td>15.211926</td>\n",
       "      <td>114.0</td>\n",
       "      <td>28.0</td>\n",
       "      <td>70.4</td>\n",
       "      <td>607.9</td>\n",
       "      <td>151.4</td>\n",
       "      <td>2670.8</td>\n",
       "      <td>657.6</td>\n",
       "    </tr>\n",
       "    <tr>\n",
       "      <th>24</th>\n",
       "      <td>33</td>\n",
       "      <td>Indianapolis, IN</td>\n",
       "      <td>1.702638e+05</td>\n",
       "      <td>0.214102</td>\n",
       "      <td>0.163642</td>\n",
       "      <td>0.081554</td>\n",
       "      <td>69329.888067</td>\n",
       "      <td>1116.317109</td>\n",
       "      <td>11.192508</td>\n",
       "      <td>95.0</td>\n",
       "      <td>-3.0</td>\n",
       "      <td>53.9</td>\n",
       "      <td>641.5</td>\n",
       "      <td>166.8</td>\n",
       "      <td>2643.8</td>\n",
       "      <td>496.7</td>\n",
       "    </tr>\n",
       "    <tr>\n",
       "      <th>25</th>\n",
       "      <td>36</td>\n",
       "      <td>Virginia Beach, VA</td>\n",
       "      <td>2.357176e+05</td>\n",
       "      <td>0.200692</td>\n",
       "      <td>0.144119</td>\n",
       "      <td>0.088144</td>\n",
       "      <td>71092.606355</td>\n",
       "      <td>1429.195552</td>\n",
       "      <td>13.574026</td>\n",
       "      <td>99.0</td>\n",
       "      <td>17.0</td>\n",
       "      <td>61.2</td>\n",
       "      <td>306.8</td>\n",
       "      <td>73.0</td>\n",
       "      <td>2405.0</td>\n",
       "      <td>274.4</td>\n",
       "    </tr>\n",
       "    <tr>\n",
       "      <th>26</th>\n",
       "      <td>37</td>\n",
       "      <td>Nashville, TN</td>\n",
       "      <td>2.645574e+05</td>\n",
       "      <td>0.221618</td>\n",
       "      <td>0.164221</td>\n",
       "      <td>0.082468</td>\n",
       "      <td>73598.232167</td>\n",
       "      <td>1148.417129</td>\n",
       "      <td>10.494462</td>\n",
       "      <td>99.0</td>\n",
       "      <td>9.0</td>\n",
       "      <td>60.5</td>\n",
       "      <td>599.1</td>\n",
       "      <td>128.8</td>\n",
       "      <td>2558.6</td>\n",
       "      <td>342.4</td>\n",
       "    </tr>\n",
       "    <tr>\n",
       "      <th>27</th>\n",
       "      <td>38</td>\n",
       "      <td>Providence, RI</td>\n",
       "      <td>3.052081e+05</td>\n",
       "      <td>0.235165</td>\n",
       "      <td>0.154134</td>\n",
       "      <td>0.103252</td>\n",
       "      <td>66785.270261</td>\n",
       "      <td>2534.941870</td>\n",
       "      <td>11.579327</td>\n",
       "      <td>96.0</td>\n",
       "      <td>2.0</td>\n",
       "      <td>52.2</td>\n",
       "      <td>284.1</td>\n",
       "      <td>49.9</td>\n",
       "      <td>1533.1</td>\n",
       "      <td>259.4</td>\n",
       "    </tr>\n",
       "    <tr>\n",
       "      <th>28</th>\n",
       "      <td>39</td>\n",
       "      <td>Milwaukee, WI</td>\n",
       "      <td>1.744366e+05</td>\n",
       "      <td>0.215021</td>\n",
       "      <td>0.165680</td>\n",
       "      <td>0.093838</td>\n",
       "      <td>72986.544501</td>\n",
       "      <td>2377.784401</td>\n",
       "      <td>13.393543</td>\n",
       "      <td>94.0</td>\n",
       "      <td>-6.0</td>\n",
       "      <td>40.9</td>\n",
       "      <td>609.7</td>\n",
       "      <td>165.0</td>\n",
       "      <td>2080.0</td>\n",
       "      <td>355.2</td>\n",
       "    </tr>\n",
       "    <tr>\n",
       "      <th>29</th>\n",
       "      <td>42</td>\n",
       "      <td>Oklahoma City, OK</td>\n",
       "      <td>1.527868e+05</td>\n",
       "      <td>0.216612</td>\n",
       "      <td>0.131141</td>\n",
       "      <td>0.076073</td>\n",
       "      <td>64184.759469</td>\n",
       "      <td>1130.180787</td>\n",
       "      <td>11.444776</td>\n",
       "      <td>104.0</td>\n",
       "      <td>7.0</td>\n",
       "      <td>61.4</td>\n",
       "      <td>529.5</td>\n",
       "      <td>24.8</td>\n",
       "      <td>1793.3</td>\n",
       "      <td>280.8</td>\n",
       "    </tr>\n",
       "    <tr>\n",
       "      <th>30</th>\n",
       "      <td>43</td>\n",
       "      <td>Louisville-Jefferson County, KY</td>\n",
       "      <td>1.683836e+05</td>\n",
       "      <td>0.228403</td>\n",
       "      <td>0.114952</td>\n",
       "      <td>0.058746</td>\n",
       "      <td>63378.989913</td>\n",
       "      <td>969.651412</td>\n",
       "      <td>15.211926</td>\n",
       "      <td>97.0</td>\n",
       "      <td>4.0</td>\n",
       "      <td>58.2</td>\n",
       "      <td>417.7</td>\n",
       "      <td>123.1</td>\n",
       "      <td>3094.7</td>\n",
       "      <td>588.9</td>\n",
       "    </tr>\n",
       "    <tr>\n",
       "      <th>31</th>\n",
       "      <td>46</td>\n",
       "      <td>New Orleans, LA</td>\n",
       "      <td>1.986175e+05</td>\n",
       "      <td>0.233256</td>\n",
       "      <td>0.137162</td>\n",
       "      <td>0.077438</td>\n",
       "      <td>53034.859555</td>\n",
       "      <td>813.574702</td>\n",
       "      <td>11.686035</td>\n",
       "      <td>98.0</td>\n",
       "      <td>27.0</td>\n",
       "      <td>70.4</td>\n",
       "      <td>563.8</td>\n",
       "      <td>134.3</td>\n",
       "      <td>2948.1</td>\n",
       "      <td>372.9</td>\n",
       "    </tr>\n",
       "    <tr>\n",
       "      <th>32</th>\n",
       "      <td>49</td>\n",
       "      <td>Birmingham, AL</td>\n",
       "      <td>1.579948e+05</td>\n",
       "      <td>0.210539</td>\n",
       "      <td>0.150134</td>\n",
       "      <td>0.081812</td>\n",
       "      <td>58114.243706</td>\n",
       "      <td>670.020548</td>\n",
       "      <td>8.809099</td>\n",
       "      <td>99.0</td>\n",
       "      <td>14.0</td>\n",
       "      <td>63.9</td>\n",
       "      <td>682.0</td>\n",
       "      <td>157.7</td>\n",
       "      <td>3344.9</td>\n",
       "      <td>817.6</td>\n",
       "    </tr>\n",
       "    <tr>\n",
       "      <th>33</th>\n",
       "      <td>50</td>\n",
       "      <td>Salt Lake City, UT</td>\n",
       "      <td>3.486588e+05</td>\n",
       "      <td>0.185457</td>\n",
       "      <td>0.143177</td>\n",
       "      <td>0.081380</td>\n",
       "      <td>87125.351626</td>\n",
       "      <td>1448.854421</td>\n",
       "      <td>10.309013</td>\n",
       "      <td>103.0</td>\n",
       "      <td>3.0</td>\n",
       "      <td>53.9</td>\n",
       "      <td>368.9</td>\n",
       "      <td>78.3</td>\n",
       "      <td>2241.7</td>\n",
       "      <td>419.2</td>\n",
       "    </tr>\n",
       "    <tr>\n",
       "      <th>34</th>\n",
       "      <td>54</td>\n",
       "      <td>Urban Honolulu, HI</td>\n",
       "      <td>7.096232e+05</td>\n",
       "      <td>0.220414</td>\n",
       "      <td>0.165338</td>\n",
       "      <td>0.084421</td>\n",
       "      <td>83883.381426</td>\n",
       "      <td>1182.387124</td>\n",
       "      <td>15.303356</td>\n",
       "      <td>91.0</td>\n",
       "      <td>59.0</td>\n",
       "      <td>78.0</td>\n",
       "      <td>249.6</td>\n",
       "      <td>81.9</td>\n",
       "      <td>2941.5</td>\n",
       "      <td>381.4</td>\n",
       "    </tr>\n",
       "    <tr>\n",
       "      <th>35</th>\n",
       "      <td>59</td>\n",
       "      <td>Albuquerque, NM</td>\n",
       "      <td>1.939724e+05</td>\n",
       "      <td>0.196799</td>\n",
       "      <td>0.134090</td>\n",
       "      <td>0.098978</td>\n",
       "      <td>59840.374264</td>\n",
       "      <td>1250.288030</td>\n",
       "      <td>12.257202</td>\n",
       "      <td>100.0</td>\n",
       "      <td>11.0</td>\n",
       "      <td>58.4</td>\n",
       "      <td>1084.7</td>\n",
       "      <td>238.2</td>\n",
       "      <td>4256.6</td>\n",
       "      <td>869.9</td>\n",
       "    </tr>\n",
       "    <tr>\n",
       "      <th>36</th>\n",
       "      <td>61</td>\n",
       "      <td>Omaha, NE</td>\n",
       "      <td>1.859762e+05</td>\n",
       "      <td>0.187494</td>\n",
       "      <td>0.161616</td>\n",
       "      <td>0.085619</td>\n",
       "      <td>73750.735898</td>\n",
       "      <td>2225.756175</td>\n",
       "      <td>10.847557</td>\n",
       "      <td>101.0</td>\n",
       "      <td>-10.0</td>\n",
       "      <td>52.1</td>\n",
       "      <td>384.5</td>\n",
       "      <td>79.5</td>\n",
       "      <td>2764.9</td>\n",
       "      <td>358.1</td>\n",
       "    </tr>\n",
       "    <tr>\n",
       "      <th>37</th>\n",
       "      <td>72</td>\n",
       "      <td>Columbia, SC</td>\n",
       "      <td>1.550458e+05</td>\n",
       "      <td>0.226105</td>\n",
       "      <td>0.135940</td>\n",
       "      <td>0.079369</td>\n",
       "      <td>53429.877561</td>\n",
       "      <td>748.529497</td>\n",
       "      <td>10.858180</td>\n",
       "      <td>102.0</td>\n",
       "      <td>16.0</td>\n",
       "      <td>64.9</td>\n",
       "      <td>567.9</td>\n",
       "      <td>86.9</td>\n",
       "      <td>3506.0</td>\n",
       "      <td>578.0</td>\n",
       "    </tr>\n",
       "    <tr>\n",
       "      <th>38</th>\n",
       "      <td>76</td>\n",
       "      <td>Little Rock, AR</td>\n",
       "      <td>1.567670e+05</td>\n",
       "      <td>0.241087</td>\n",
       "      <td>0.128744</td>\n",
       "      <td>0.074373</td>\n",
       "      <td>74822.331990</td>\n",
       "      <td>851.212045</td>\n",
       "      <td>10.566342</td>\n",
       "      <td>102.0</td>\n",
       "      <td>13.0</td>\n",
       "      <td>63.2</td>\n",
       "      <td>738.1</td>\n",
       "      <td>89.1</td>\n",
       "      <td>4088.2</td>\n",
       "      <td>797.4</td>\n",
       "    </tr>\n",
       "    <tr>\n",
       "      <th>39</th>\n",
       "      <td>85</td>\n",
       "      <td>Boise City, ID</td>\n",
       "      <td>2.698939e+05</td>\n",
       "      <td>0.212944</td>\n",
       "      <td>0.146998</td>\n",
       "      <td>0.064122</td>\n",
       "      <td>74121.335684</td>\n",
       "      <td>1454.851822</td>\n",
       "      <td>9.454240</td>\n",
       "      <td>106.0</td>\n",
       "      <td>5.0</td>\n",
       "      <td>53.4</td>\n",
       "      <td>244.0</td>\n",
       "      <td>3.6</td>\n",
       "      <td>1135.7</td>\n",
       "      <td>141.8</td>\n",
       "    </tr>\n",
       "    <tr>\n",
       "      <th>40</th>\n",
       "      <td>91</td>\n",
       "      <td>Des Moines, IA</td>\n",
       "      <td>1.979078e+05</td>\n",
       "      <td>0.210896</td>\n",
       "      <td>0.170818</td>\n",
       "      <td>0.073954</td>\n",
       "      <td>72723.953480</td>\n",
       "      <td>2262.445281</td>\n",
       "      <td>8.874927</td>\n",
       "      <td>98.0</td>\n",
       "      <td>-11.0</td>\n",
       "      <td>51.8</td>\n",
       "      <td>367.5</td>\n",
       "      <td>54.0</td>\n",
       "      <td>2349.8</td>\n",
       "      <td>525.3</td>\n",
       "    </tr>\n",
       "    <tr>\n",
       "      <th>41</th>\n",
       "      <td>92</td>\n",
       "      <td>Jackson, MS</td>\n",
       "      <td>1.383625e+05</td>\n",
       "      <td>0.201663</td>\n",
       "      <td>0.136877</td>\n",
       "      <td>0.082746</td>\n",
       "      <td>60001.612077</td>\n",
       "      <td>815.392043</td>\n",
       "      <td>6.612537</td>\n",
       "      <td>100.0</td>\n",
       "      <td>17.0</td>\n",
       "      <td>65.5</td>\n",
       "      <td>489.5</td>\n",
       "      <td>38.4</td>\n",
       "      <td>2188.4</td>\n",
       "      <td>319.4</td>\n",
       "    </tr>\n",
       "    <tr>\n",
       "      <th>42</th>\n",
       "      <td>103</td>\n",
       "      <td>Portland, ME</td>\n",
       "      <td>2.966726e+05</td>\n",
       "      <td>0.207937</td>\n",
       "      <td>0.190873</td>\n",
       "      <td>0.116137</td>\n",
       "      <td>63460.399863</td>\n",
       "      <td>2326.355649</td>\n",
       "      <td>8.168195</td>\n",
       "      <td>93.0</td>\n",
       "      <td>-9.0</td>\n",
       "      <td>47.1</td>\n",
       "      <td>114.5</td>\n",
       "      <td>20.9</td>\n",
       "      <td>1326.9</td>\n",
       "      <td>182.4</td>\n",
       "    </tr>\n",
       "    <tr>\n",
       "      <th>43</th>\n",
       "      <td>131</td>\n",
       "      <td>Manchester, NH</td>\n",
       "      <td>2.876974e+05</td>\n",
       "      <td>0.217391</td>\n",
       "      <td>0.185717</td>\n",
       "      <td>0.102195</td>\n",
       "      <td>91210.839036</td>\n",
       "      <td>3984.842867</td>\n",
       "      <td>11.191499</td>\n",
       "      <td>96.0</td>\n",
       "      <td>-4.0</td>\n",
       "      <td>49.8</td>\n",
       "      <td>229.7</td>\n",
       "      <td>42.3</td>\n",
       "      <td>1363.4</td>\n",
       "      <td>142.3</td>\n",
       "    </tr>\n",
       "    <tr>\n",
       "      <th>44</th>\n",
       "      <td>133</td>\n",
       "      <td>Anchorage, AK</td>\n",
       "      <td>3.006189e+05</td>\n",
       "      <td>0.211584</td>\n",
       "      <td>0.133691</td>\n",
       "      <td>0.084208</td>\n",
       "      <td>71085.575984</td>\n",
       "      <td>1966.408984</td>\n",
       "      <td>9.980859</td>\n",
       "      <td>78.0</td>\n",
       "      <td>-12.0</td>\n",
       "      <td>38.0</td>\n",
       "      <td>1263.6</td>\n",
       "      <td>235.1</td>\n",
       "      <td>5016.8</td>\n",
       "      <td>703.4</td>\n",
       "    </tr>\n",
       "    <tr>\n",
       "      <th>45</th>\n",
       "      <td>193</td>\n",
       "      <td>Sioux Falls, SD</td>\n",
       "      <td>2.109915e+05</td>\n",
       "      <td>0.203953</td>\n",
       "      <td>0.161220</td>\n",
       "      <td>0.072172</td>\n",
       "      <td>64040.743360</td>\n",
       "      <td>1664.137276</td>\n",
       "      <td>11.288087</td>\n",
       "      <td>97.0</td>\n",
       "      <td>-19.0</td>\n",
       "      <td>46.7</td>\n",
       "      <td>343.7</td>\n",
       "      <td>41.1</td>\n",
       "      <td>2344.3</td>\n",
       "      <td>350.8</td>\n",
       "    </tr>\n",
       "    <tr>\n",
       "      <th>46</th>\n",
       "      <td>194</td>\n",
       "      <td>Charleston, WV</td>\n",
       "      <td>9.896817e+04</td>\n",
       "      <td>0.320369</td>\n",
       "      <td>0.108281</td>\n",
       "      <td>0.061430</td>\n",
       "      <td>41627.163424</td>\n",
       "      <td>512.114503</td>\n",
       "      <td>6.465667</td>\n",
       "      <td>95.0</td>\n",
       "      <td>3.0</td>\n",
       "      <td>56.1</td>\n",
       "      <td>449.9</td>\n",
       "      <td>43.2</td>\n",
       "      <td>2669.3</td>\n",
       "      <td>582.2</td>\n",
       "    </tr>\n",
       "    <tr>\n",
       "      <th>47</th>\n",
       "      <td>201</td>\n",
       "      <td>Burlington, VT</td>\n",
       "      <td>2.920306e+05</td>\n",
       "      <td>0.198528</td>\n",
       "      <td>0.216227</td>\n",
       "      <td>0.128218</td>\n",
       "      <td>70174.354200</td>\n",
       "      <td>3058.930750</td>\n",
       "      <td>11.952143</td>\n",
       "      <td>95.0</td>\n",
       "      <td>-14.0</td>\n",
       "      <td>47.0</td>\n",
       "      <td>174.2</td>\n",
       "      <td>11.8</td>\n",
       "      <td>1548.0</td>\n",
       "      <td>223.7</td>\n",
       "    </tr>\n",
       "    <tr>\n",
       "      <th>48</th>\n",
       "      <td>206</td>\n",
       "      <td>Fargo, ND</td>\n",
       "      <td>2.295720e+05</td>\n",
       "      <td>0.195202</td>\n",
       "      <td>0.165215</td>\n",
       "      <td>0.061296</td>\n",
       "      <td>67750.405066</td>\n",
       "      <td>1375.755632</td>\n",
       "      <td>10.828653</td>\n",
       "      <td>96.0</td>\n",
       "      <td>-25.0</td>\n",
       "      <td>42.8</td>\n",
       "      <td>280.9</td>\n",
       "      <td>31.9</td>\n",
       "      <td>2441.9</td>\n",
       "      <td>421.3</td>\n",
       "    </tr>\n",
       "    <tr>\n",
       "      <th>49</th>\n",
       "      <td>254</td>\n",
       "      <td>Billings, MT</td>\n",
       "      <td>2.502614e+05</td>\n",
       "      <td>0.242484</td>\n",
       "      <td>0.133352</td>\n",
       "      <td>0.044528</td>\n",
       "      <td>50581.394237</td>\n",
       "      <td>1121.683584</td>\n",
       "      <td>8.016791</td>\n",
       "      <td>102.0</td>\n",
       "      <td>-15.0</td>\n",
       "      <td>48.5</td>\n",
       "      <td>428.1</td>\n",
       "      <td>64.0</td>\n",
       "      <td>3508.7</td>\n",
       "      <td>462.3</td>\n",
       "    </tr>\n",
       "    <tr>\n",
       "      <th>50</th>\n",
       "      <td>405</td>\n",
       "      <td>Cheyenne, WY</td>\n",
       "      <td>2.668526e+05</td>\n",
       "      <td>0.213279</td>\n",
       "      <td>0.146415</td>\n",
       "      <td>0.080600</td>\n",
       "      <td>58683.686010</td>\n",
       "      <td>850.709200</td>\n",
       "      <td>11.059812</td>\n",
       "      <td>96.0</td>\n",
       "      <td>-14.0</td>\n",
       "      <td>47.0</td>\n",
       "      <td>295.4</td>\n",
       "      <td>35.9</td>\n",
       "      <td>2843.3</td>\n",
       "      <td>386.7</td>\n",
       "    </tr>\n",
       "  </tbody>\n",
       "</table>\n",
       "</div>"
      ],
      "text/plain": [
       "    Unnamed: 0                          RegionName     2018 ZHVI  \\\n",
       "0            1                        New York, NY  4.710252e+05   \n",
       "1            2  Los Angeles-Long Beach-Anaheim, CA  6.613750e+05   \n",
       "2            3                         Chicago, IL  2.395608e+05   \n",
       "3            4               Dallas-Fort Worth, TX  2.448314e+05   \n",
       "4            6                         Houston, TX  2.106382e+05   \n",
       "5            7                      Washington, DC  4.158648e+05   \n",
       "6            8           Miami-Fort Lauderdale, FL  2.848126e+05   \n",
       "7            9                         Atlanta, GA  2.208773e+05   \n",
       "8           10                          Boston, MA  4.779737e+05   \n",
       "9           11                   San Francisco, CA  1.079899e+06   \n",
       "10          12                         Detroit, MI  1.711354e+05   \n",
       "11          14                         Phoenix, AZ  2.589312e+05   \n",
       "12          15                         Seattle, WA  4.961385e+05   \n",
       "13          16             Minneapolis-St Paul, MN  2.752242e+05   \n",
       "14          18                       St. Louis, MO  1.697432e+05   \n",
       "15          19                           Tampa, FL  2.069838e+05   \n",
       "16          20                       Baltimore, MD  2.906508e+05   \n",
       "17          21                          Denver, CO  4.226690e+05   \n",
       "18          22                      Pittsburgh, PA  1.533281e+05   \n",
       "19          23                        Portland, OR  4.012636e+05   \n",
       "20          24                       Charlotte, NC  2.200540e+05   \n",
       "21          28                      Cincinnati, OH  1.743408e+05   \n",
       "22          30                     Kansas City, MO  1.918300e+05   \n",
       "23          31                       Las Vegas, NV  2.720638e+05   \n",
       "24          33                    Indianapolis, IN  1.702638e+05   \n",
       "25          36                  Virginia Beach, VA  2.357176e+05   \n",
       "26          37                       Nashville, TN  2.645574e+05   \n",
       "27          38                      Providence, RI  3.052081e+05   \n",
       "28          39                       Milwaukee, WI  1.744366e+05   \n",
       "29          42                   Oklahoma City, OK  1.527868e+05   \n",
       "30          43     Louisville-Jefferson County, KY  1.683836e+05   \n",
       "31          46                     New Orleans, LA  1.986175e+05   \n",
       "32          49                      Birmingham, AL  1.579948e+05   \n",
       "33          50                  Salt Lake City, UT  3.486588e+05   \n",
       "34          54                  Urban Honolulu, HI  7.096232e+05   \n",
       "35          59                     Albuquerque, NM  1.939724e+05   \n",
       "36          61                           Omaha, NE  1.859762e+05   \n",
       "37          72                        Columbia, SC  1.550458e+05   \n",
       "38          76                     Little Rock, AR  1.567670e+05   \n",
       "39          85                      Boise City, ID  2.698939e+05   \n",
       "40          91                      Des Moines, IA  1.979078e+05   \n",
       "41          92                         Jackson, MS  1.383625e+05   \n",
       "42         103                        Portland, ME  2.966726e+05   \n",
       "43         131                      Manchester, NH  2.876974e+05   \n",
       "44         133                       Anchorage, AK  3.006189e+05   \n",
       "45         193                     Sioux Falls, SD  2.109915e+05   \n",
       "46         194                      Charleston, WV  9.896817e+04   \n",
       "47         201                      Burlington, VT  2.920306e+05   \n",
       "48         206                           Fargo, ND  2.295720e+05   \n",
       "49         254                        Billings, MT  2.502614e+05   \n",
       "50         405                        Cheyenne, WY  2.668526e+05   \n",
       "\n",
       "    Mean Percent HS/Equivalent Educated  \\\n",
       "0                              0.194727   \n",
       "1                              0.163148   \n",
       "2                              0.196159   \n",
       "3                              0.178769   \n",
       "4                              0.182125   \n",
       "5                              0.141638   \n",
       "6                              0.207246   \n",
       "7                              0.189890   \n",
       "8                              0.172954   \n",
       "9                              0.130278   \n",
       "10                             0.208448   \n",
       "11                             0.187847   \n",
       "12                             0.157849   \n",
       "13                             0.166731   \n",
       "14                             0.209521   \n",
       "15                             0.241241   \n",
       "16                             0.204757   \n",
       "17                             0.166424   \n",
       "18                             0.272947   \n",
       "19                             0.166604   \n",
       "20                             0.189396   \n",
       "21                             0.244401   \n",
       "22                             0.203160   \n",
       "23                             0.228403   \n",
       "24                             0.214102   \n",
       "25                             0.200692   \n",
       "26                             0.221618   \n",
       "27                             0.235165   \n",
       "28                             0.215021   \n",
       "29                             0.216612   \n",
       "30                             0.228403   \n",
       "31                             0.233256   \n",
       "32                             0.210539   \n",
       "33                             0.185457   \n",
       "34                             0.220414   \n",
       "35                             0.196799   \n",
       "36                             0.187494   \n",
       "37                             0.226105   \n",
       "38                             0.241087   \n",
       "39                             0.212944   \n",
       "40                             0.210896   \n",
       "41                             0.201663   \n",
       "42                             0.207937   \n",
       "43                             0.217391   \n",
       "44                             0.211584   \n",
       "45                             0.203953   \n",
       "46                             0.320369   \n",
       "47                             0.198528   \n",
       "48                             0.195202   \n",
       "49                             0.242484   \n",
       "50                             0.213279   \n",
       "\n",
       "    Mean Percent Bachelor's Degree Holding  \\\n",
       "0                                 0.181194   \n",
       "1                                 0.166903   \n",
       "2                                 0.170818   \n",
       "3                                 0.159131   \n",
       "4                                 0.140816   \n",
       "5                                 0.198190   \n",
       "6                                 0.162260   \n",
       "7                                 0.171760   \n",
       "8                                 0.204811   \n",
       "9                                 0.234833   \n",
       "10                                0.146476   \n",
       "11                                0.143424   \n",
       "12                                0.201722   \n",
       "13                                0.201858   \n",
       "14                                0.149726   \n",
       "15                                0.150800   \n",
       "16                                0.167407   \n",
       "17                                0.205639   \n",
       "18                                0.161802   \n",
       "19                                0.183359   \n",
       "20                                0.168072   \n",
       "21                                0.140038   \n",
       "22                                0.169248   \n",
       "23                                0.114952   \n",
       "24                                0.163642   \n",
       "25                                0.144119   \n",
       "26                                0.164221   \n",
       "27                                0.154134   \n",
       "28                                0.165680   \n",
       "29                                0.131141   \n",
       "30                                0.114952   \n",
       "31                                0.137162   \n",
       "32                                0.150134   \n",
       "33                                0.143177   \n",
       "34                                0.165338   \n",
       "35                                0.134090   \n",
       "36                                0.161616   \n",
       "37                                0.135940   \n",
       "38                                0.128744   \n",
       "39                                0.146998   \n",
       "40                                0.170818   \n",
       "41                                0.136877   \n",
       "42                                0.190873   \n",
       "43                                0.185717   \n",
       "44                                0.133691   \n",
       "45                                0.161220   \n",
       "46                                0.108281   \n",
       "47                                0.216227   \n",
       "48                                0.165215   \n",
       "49                                0.133352   \n",
       "50                                0.146415   \n",
       "\n",
       "    Mean Percent Postgraduate Educated    Mean Income  Mean Property Tax  \\\n",
       "0                             0.123487   97918.579350        4080.629834   \n",
       "1                             0.083846   91473.680944        2495.099228   \n",
       "2                             0.105563   84038.028714        3621.713256   \n",
       "3                             0.083052   83355.597543        2734.003335   \n",
       "4                             0.077357   75547.037009        2507.561749   \n",
       "5                             0.184021  123028.151092        2998.814976   \n",
       "6                             0.099602   60800.129049        1837.925430   \n",
       "7                             0.101076   81266.775866        1559.728686   \n",
       "8                             0.165631  108235.822458        3530.419099   \n",
       "9                             0.158303  136294.213613        3939.445843   \n",
       "10                            0.090281   66976.922389        1974.512852   \n",
       "11                            0.078810   70373.747698        1093.280357   \n",
       "12                            0.119531  105208.398922        2899.723062   \n",
       "13                            0.104080   93311.972678        2346.959904   \n",
       "14                            0.096961   69058.901283        1713.489058   \n",
       "15                            0.079328   57071.590516        1297.513119   \n",
       "16                            0.127767   86937.937500        2237.666570   \n",
       "17                            0.117813  115959.097716        1795.045364   \n",
       "18                            0.100880   64496.588984        1890.401387   \n",
       "19                            0.105991   88700.335805        2503.416686   \n",
       "20                            0.080263   72225.197094        1286.162434   \n",
       "21                            0.084483   68906.179356        1678.020877   \n",
       "22                            0.093087   74612.033597        1647.551122   \n",
       "23                            0.058746   63378.989913         969.651412   \n",
       "24                            0.081554   69329.888067        1116.317109   \n",
       "25                            0.088144   71092.606355        1429.195552   \n",
       "26                            0.082468   73598.232167        1148.417129   \n",
       "27                            0.103252   66785.270261        2534.941870   \n",
       "28                            0.093838   72986.544501        2377.784401   \n",
       "29                            0.076073   64184.759469        1130.180787   \n",
       "30                            0.058746   63378.989913         969.651412   \n",
       "31                            0.077438   53034.859555         813.574702   \n",
       "32                            0.081812   58114.243706         670.020548   \n",
       "33                            0.081380   87125.351626        1448.854421   \n",
       "34                            0.084421   83883.381426        1182.387124   \n",
       "35                            0.098978   59840.374264        1250.288030   \n",
       "36                            0.085619   73750.735898        2225.756175   \n",
       "37                            0.079369   53429.877561         748.529497   \n",
       "38                            0.074373   74822.331990         851.212045   \n",
       "39                            0.064122   74121.335684        1454.851822   \n",
       "40                            0.073954   72723.953480        2262.445281   \n",
       "41                            0.082746   60001.612077         815.392043   \n",
       "42                            0.116137   63460.399863        2326.355649   \n",
       "43                            0.102195   91210.839036        3984.842867   \n",
       "44                            0.084208   71085.575984        1966.408984   \n",
       "45                            0.072172   64040.743360        1664.137276   \n",
       "46                            0.061430   41627.163424         512.114503   \n",
       "47                            0.128218   70174.354200        3058.930750   \n",
       "48                            0.061296   67750.405066        1375.755632   \n",
       "49                            0.044528   50581.394237        1121.683584   \n",
       "50                            0.080600   58683.686010         850.709200   \n",
       "\n",
       "    Mean Rent as a Percentage of Income  Mean High Temp  Mean Low Temp  \\\n",
       "0                             16.965818            97.0            5.0   \n",
       "1                             19.548604           101.0           38.0   \n",
       "2                             11.552303            95.0           -7.0   \n",
       "3                             13.185533           106.0           18.0   \n",
       "4                             12.354341           103.0           26.0   \n",
       "5                             12.758984            99.0           13.0   \n",
       "6                             14.352038            95.0           42.0   \n",
       "7                             11.909968            97.0           15.0   \n",
       "8                             14.053450            97.0            2.0   \n",
       "9                             14.528505            93.0           39.0   \n",
       "10                             9.822774            95.0           -3.0   \n",
       "11                            11.070163           116.0           33.0   \n",
       "12                            13.514096            94.0           21.0   \n",
       "13                            10.301250            97.0          -16.0   \n",
       "14                             9.866394           102.0            2.0   \n",
       "15                            11.967870            96.0           32.0   \n",
       "16                            11.531652            98.0            7.0   \n",
       "17                            11.831118           101.0          -12.0   \n",
       "18                             8.777013            92.0           -1.0   \n",
       "19                            12.909205           101.0           21.0   \n",
       "20                            10.350378            98.0           13.0   \n",
       "21                            10.342079            95.0           -2.0   \n",
       "22                            10.761052           101.0           -5.0   \n",
       "23                            15.211926           114.0           28.0   \n",
       "24                            11.192508            95.0           -3.0   \n",
       "25                            13.574026            99.0           17.0   \n",
       "26                            10.494462            99.0            9.0   \n",
       "27                            11.579327            96.0            2.0   \n",
       "28                            13.393543            94.0           -6.0   \n",
       "29                            11.444776           104.0            7.0   \n",
       "30                            15.211926            97.0            4.0   \n",
       "31                            11.686035            98.0           27.0   \n",
       "32                             8.809099            99.0           14.0   \n",
       "33                            10.309013           103.0            3.0   \n",
       "34                            15.303356            91.0           59.0   \n",
       "35                            12.257202           100.0           11.0   \n",
       "36                            10.847557           101.0          -10.0   \n",
       "37                            10.858180           102.0           16.0   \n",
       "38                            10.566342           102.0           13.0   \n",
       "39                             9.454240           106.0            5.0   \n",
       "40                             8.874927            98.0          -11.0   \n",
       "41                             6.612537           100.0           17.0   \n",
       "42                             8.168195            93.0           -9.0   \n",
       "43                            11.191499            96.0           -4.0   \n",
       "44                             9.980859            78.0          -12.0   \n",
       "45                            11.288087            97.0          -19.0   \n",
       "46                             6.465667            95.0            3.0   \n",
       "47                            11.952143            95.0          -14.0   \n",
       "48                            10.828653            96.0          -25.0   \n",
       "49                             8.016791           102.0          -15.0   \n",
       "50                            11.059812            96.0          -14.0   \n",
       "\n",
       "    Mean Annual Temp  Violent Crime per 100k  Robbery per 100k  \\\n",
       "0               53.4                   332.9             107.5   \n",
       "1               66.0                   494.8             162.7   \n",
       "2               50.5                   443.0             166.8   \n",
       "3               68.0                   351.0             103.6   \n",
       "4               70.3                   593.1             176.7   \n",
       "5               59.0                   264.8              84.3   \n",
       "6               77.5                   427.7             116.3   \n",
       "7               63.3                   320.7              94.1   \n",
       "8               52.1                   284.4              54.4   \n",
       "9               57.8                   472.4             217.6   \n",
       "10              50.8                   535.1              82.2   \n",
       "11              76.0                   446.2              98.2   \n",
       "12              52.9                   359.0             105.5   \n",
       "13              47.3                   253.4              73.0   \n",
       "14              57.8                   455.1              93.3   \n",
       "15              74.0                   306.4              55.0   \n",
       "16              56.1                   720.8             258.4   \n",
       "17              51.3                   413.9              93.1   \n",
       "18              52.0                   274.6              58.8   \n",
       "19              54.7                   299.1              70.7   \n",
       "20              61.3                   426.9             101.3   \n",
       "21              54.7                   225.2              67.4   \n",
       "22              55.3                  1431.0             290.9   \n",
       "23              70.4                   607.9             151.4   \n",
       "24              53.9                   641.5             166.8   \n",
       "25              61.2                   306.8              73.0   \n",
       "26              60.5                   599.1             128.8   \n",
       "27              52.2                   284.1              49.9   \n",
       "28              40.9                   609.7             165.0   \n",
       "29              61.4                   529.5              24.8   \n",
       "30              58.2                   417.7             123.1   \n",
       "31              70.4                   563.8             134.3   \n",
       "32              63.9                   682.0             157.7   \n",
       "33              53.9                   368.9              78.3   \n",
       "34              78.0                   249.6              81.9   \n",
       "35              58.4                  1084.7             238.2   \n",
       "36              52.1                   384.5              79.5   \n",
       "37              64.9                   567.9              86.9   \n",
       "38              63.2                   738.1              89.1   \n",
       "39              53.4                   244.0               3.6   \n",
       "40              51.8                   367.5              54.0   \n",
       "41              65.5                   489.5              38.4   \n",
       "42              47.1                   114.5              20.9   \n",
       "43              49.8                   229.7              42.3   \n",
       "44              38.0                  1263.6             235.1   \n",
       "45              46.7                   343.7              41.1   \n",
       "46              56.1                   449.9              43.2   \n",
       "47              47.0                   174.2              11.8   \n",
       "48              42.8                   280.9              31.9   \n",
       "49              48.5                   428.1              64.0   \n",
       "50              47.0                   295.4              35.9   \n",
       "\n",
       "    Property Crime per 100k  Burglary per 100k  \n",
       "0                    1335.6              152.6  \n",
       "1                    2246.9              390.5  \n",
       "2                    2081.6              330.7  \n",
       "3                    2232.7              360.9  \n",
       "4                    2604.7              443.5  \n",
       "5                    1656.8              137.9  \n",
       "6                    2781.1              315.1  \n",
       "7                    2575.0              393.9  \n",
       "8                    1167.3              151.2  \n",
       "9                    3283.5              400.9  \n",
       "10                   1945.5              395.0  \n",
       "11                   2608.7              431.8  \n",
       "12                   3331.3              592.2  \n",
       "13                   2160.5              294.2  \n",
       "14                   2438.5              408.6  \n",
       "15                   1855.0              256.6  \n",
       "16                   3470.6              399.8  \n",
       "17                   2954.0              525.7  \n",
       "18                   1413.1              196.1  \n",
       "19                   2870.0              364.6  \n",
       "20                   2739.7              502.3  \n",
       "21                   2060.7              337.0  \n",
       "22                   3856.0              430.4  \n",
       "23                   2670.8              657.6  \n",
       "24                   2643.8              496.7  \n",
       "25                   2405.0              274.4  \n",
       "26                   2558.6              342.4  \n",
       "27                   1533.1              259.4  \n",
       "28                   2080.0              355.2  \n",
       "29                   1793.3              280.8  \n",
       "30                   3094.7              588.9  \n",
       "31                   2948.1              372.9  \n",
       "32                   3344.9              817.6  \n",
       "33                   2241.7              419.2  \n",
       "34                   2941.5              381.4  \n",
       "35                   4256.6              869.9  \n",
       "36                   2764.9              358.1  \n",
       "37                   3506.0              578.0  \n",
       "38                   4088.2              797.4  \n",
       "39                   1135.7              141.8  \n",
       "40                   2349.8              525.3  \n",
       "41                   2188.4              319.4  \n",
       "42                   1326.9              182.4  \n",
       "43                   1363.4              142.3  \n",
       "44                   5016.8              703.4  \n",
       "45                   2344.3              350.8  \n",
       "46                   2669.3              582.2  \n",
       "47                   1548.0              223.7  \n",
       "48                   2441.9              421.3  \n",
       "49                   3508.7              462.3  \n",
       "50                   2843.3              386.7  "
      ]
     },
     "execution_count": 1,
     "metadata": {},
     "output_type": "execute_result"
    }
   ],
   "source": [
    "import pandas as pd\n",
    "msazhvi=pd.read_csv(\"finaldataset.csv\")\n",
    "msazhvi"
   ]
  },
  {
   "cell_type": "markdown",
   "metadata": {},
   "source": [
    "---\n",
    "## Preregistration Statement"
   ]
  },
  {
   "cell_type": "markdown",
   "metadata": {},
   "source": [
    "We promised to perform the following analyses:\n",
    "- Multivariable linear regression predicting housing prices based on all factors to test correlation between these factors and the housing price.\n",
    "- Permutation tests on the strongest correlated variables to see if the relationships are generalizable\n",
    "    - We had substantial difficulty figuring out how to perform permutation tests on multivariable linear regressions. We had chosen to write this analysis before we fully understood its implications. As a result, we unfortunately do not have any permutation tests, but we did perform F tests and T tests to test the signficance of our findings."
   ]
  },
  {
   "cell_type": "markdown",
   "metadata": {},
   "source": [
    "---\n",
    "## Data Analysis"
   ]
  },
  {
   "cell_type": "code",
   "execution_count": 2,
   "metadata": {},
   "outputs": [],
   "source": [
    "import numpy as np\n",
    "import matplotlib.pyplot as plt\n",
    "from matplotlib import pyplot as plt\n",
    "from sklearn.linear_model import LinearRegression\n",
    "from scipy import stats\n",
    "from scipy.stats import poisson, ttest_ind\n",
    "from sklearn.model_selection import train_test_split"
   ]
  },
  {
   "cell_type": "markdown",
   "metadata": {},
   "source": [
    "These are the two functions that we use to calculate R-squared values for each variable in the table. performRsquaredNoOutliers() removes outliers with z-score > 3 before calculating R-squared, to give us some insight into the robustness of the calculated R-squared from performRsquared().\n"
   ]
  },
  {
   "cell_type": "code",
   "execution_count": 3,
   "metadata": {},
   "outputs": [],
   "source": [
    "'''  \n",
    "Calculates the R-squared value for the given variable \"var\" and the 2018 Zillow Home Value Index\n",
    "Parameters:\n",
    "    var: a string corresponding to the variable to be tested. Must be a column in the main dataframe\n",
    "    isGraph: a boolean. If true, generates a scatterplot. \n",
    "'''\n",
    "def performRsquared(var, isGraph):\n",
    "    model = LinearRegression()\n",
    "    model.fit(msazhvi[[var]], msazhvi['2018 ZHVI'])\n",
    "    print(var + \" R-Squared: \" + str(round(model.score(msazhvi[[var]], msazhvi['2018 ZHVI']),2)))\n",
    "    if(isGraph):\n",
    "        plt.scatter(msazhvi[var], msazhvi['2018 ZHVI'])\n",
    "        plt.xlabel(var)\n",
    "        plt.ylabel('2018 ZHVI')\n",
    "        plt.title(\"2018 ZHVI vs \" + var)\n"
   ]
  },
  {
   "cell_type": "code",
   "execution_count": 4,
   "metadata": {},
   "outputs": [],
   "source": [
    "'''   \n",
    "Calculates the R-squared value for the given variable \"var\" and the 2018 Zillow Home Value Index. \n",
    "Excludes outliers with z-score greater than 3. \n",
    "Parameters:\n",
    "    var: a string corresponding to the variable to be tested. Must be a column in the main dataframe\n",
    "    isGraph: a boolean. If true, generates a scatterplot. \n",
    "'''\n",
    "def performRsquaredNoOutliers(var, isGraph):\n",
    "    selectedmsazhvi = msazhvi[[var, '2018 ZHVI']]\n",
    "    nonoutliermsazhvi = selectedmsazhvi[(np.abs(stats.zscore(selectedmsazhvi)) < 3).all(axis=1)]\n",
    "    noOutlierModel = LinearRegression()\n",
    "    noOutlierModel.fit(nonoutliermsazhvi[[var]], nonoutliermsazhvi['2018 ZHVI'])\n",
    "    print('No outliers ' + var + \" R-Squared: \" + str(round(noOutlierModel.score(nonoutliermsazhvi[[var]], nonoutliermsazhvi['2018 ZHVI']),2)))\n",
    "    if(isGraph):\n",
    "        plt.scatter(nonoutliermsazhvi[var], nonoutliermsazhvi['2018 ZHVI'])\n",
    "        plt.xlabel(var)\n",
    "        plt.ylabel('2018 ZHVI')"
   ]
  },
  {
   "cell_type": "markdown",
   "metadata": {},
   "source": [
    "This is a function that plots the original data set and the removed-outlier set of data onto the same scatterplot. Data points that were classified as outliers are red while data points that were not classified as outliers are blue."
   ]
  },
  {
   "cell_type": "code",
   "execution_count": 5,
   "metadata": {},
   "outputs": [],
   "source": [
    "def graphBoth(var):\n",
    "    selectedmsazhvi = msazhvi[[var, '2018 ZHVI']]\n",
    "    nonoutliermsazhvi = selectedmsazhvi[(np.abs(stats.zscore(selectedmsazhvi)) < 3).all(axis=1)]\n",
    "    plt.scatter(msazhvi[var], msazhvi['2018 ZHVI'], c='red')\n",
    "    plt.scatter(nonoutliermsazhvi[var], nonoutliermsazhvi['2018 ZHVI'])\n",
    "    plt.xlabel(var)\n",
    "    plt.ylabel('2018 ZHVI')\n",
    "    plt.title(\"2018 ZHVI vs \" + var)"
   ]
  },
  {
   "cell_type": "markdown",
   "metadata": {},
   "source": [
    "---\n",
    "### Education, Income, Property Tax, Rent Data Analysis"
   ]
  },
  {
   "cell_type": "markdown",
   "metadata": {},
   "source": [
    "For our education analysis, we wanted to perform analysis using education as a single factor, since we believed it was more relevant to talk about people who obtained at least a high school diploma as opposed to specifically people whose highest attainment was a high school deiploma, a bachelor's degree, or a postgraduate degree. We added the averages together to obtain the percentage of people with at least a high school diploma. "
   ]
  },
  {
   "cell_type": "code",
   "execution_count": 6,
   "metadata": {},
   "outputs": [],
   "source": [
    "##giving different weights to each level of education so we create an education score later \n",
    "msazhvi['Education Score'] = msazhvi['Mean Percent HS/Equivalent Educated'] + msazhvi[\"Mean Percent Bachelor's Degree Holding\"] + msazhvi['Mean Percent Postgraduate Educated']"
   ]
  },
  {
   "cell_type": "code",
   "execution_count": 7,
   "metadata": {},
   "outputs": [
    {
     "data": {
      "text/plain": [
       "LinearRegression()"
      ]
     },
     "execution_count": 7,
     "metadata": {},
     "output_type": "execute_result"
    }
   ],
   "source": [
    "model = LinearRegression()\n",
    "model.fit(msazhvi[['Education Score', 'Mean Income', 'Mean Property Tax', 'Mean Rent as a Percentage of Income']], msazhvi['2018 ZHVI'])"
   ]
  },
  {
   "cell_type": "markdown",
   "metadata": {},
   "source": [
    "---\n",
    "We decided to perform a multivariate linear regression by grouping together education, income, property tax, and rent as a percentage of income. We did this because we suspected that education and economic data is interrelated.\n",
    "\n",
    "---"
   ]
  },
  {
   "cell_type": "code",
   "execution_count": 8,
   "metadata": {
    "scrolled": false
   },
   "outputs": [
    {
     "name": "stdout",
     "output_type": "stream",
     "text": [
      "Education Score Slope: 572356.039129301\n",
      "Income Slope: 5.700640869626827\n",
      "Property Tax Slope: -23.777494942994153\n",
      "RPI Slope: 23721.077657744958\n"
     ]
    }
   ],
   "source": [
    "print('Education Score Slope: ' + str(model.coef_[0]))\n",
    "print('Income Slope: ' + str(model.coef_[1]))\n",
    "print('Property Tax Slope: ' + str(model.coef_[2]))\n",
    "print('RPI Slope: ' + str(model.coef_[3]))"
   ]
  },
  {
   "cell_type": "markdown",
   "metadata": {},
   "source": [
    "---\n",
    "Below, the r^2 value of the linear regression above is not extremely high (.8-.9). This doesn't necessarily mean that the factors involved don't influence typical housing prices. In fact, it means that they are at least somewhat correlated with housing prices.\n",
    "\n",
    "---"
   ]
  },
  {
   "cell_type": "code",
   "execution_count": 9,
   "metadata": {
    "scrolled": true
   },
   "outputs": [
    {
     "name": "stdout",
     "output_type": "stream",
     "text": [
      "R-Squared: 0.64369793901456\n"
     ]
    }
   ],
   "source": [
    "print('R-Squared: ' + str(model.score(msazhvi[['Education Score', 'Mean Income', 'Mean Property Tax', 'Mean Rent as a Percentage of Income']], msazhvi['2018 ZHVI'])))"
   ]
  },
  {
   "cell_type": "markdown",
   "metadata": {},
   "source": [
    "---\n",
    "Below are r^2 calculations for each variable separately as well as scatterplots showing the relationships between the variables and typical housing prices.\n",
    "\n",
    "---"
   ]
  },
  {
   "cell_type": "code",
   "execution_count": 34,
   "metadata": {
    "scrolled": false
   },
   "outputs": [
    {
     "name": "stdout",
     "output_type": "stream",
     "text": [
      "Education Score R-Squared: 0.11\n",
      "No outliers Education Score R-Squared: 0.05\n"
     ]
    },
    {
     "data": {
      "image/png": "[encoded data removed]",
      "text/plain": [
       "<Figure size 432x288 with 1 Axes>"
      ]
     },
     "metadata": {
      "needs_background": "light"
     },
     "output_type": "display_data"
    }
   ],
   "source": [
    "performRsquared('Education Score', False)\n",
    "performRsquaredNoOutliers('Education Score', False)\n",
    "graphBoth('Education Score')"
   ]
  },
  {
   "cell_type": "code",
   "execution_count": 35,
   "metadata": {},
   "outputs": [
    {
     "name": "stdout",
     "output_type": "stream",
     "text": [
      "Mean Income R-Squared: 0.56\n",
      "No outliers Mean Income R-Squared: 0.44\n"
     ]
    },
    {
     "data": {
      "image/png": "[encoded data removed]",
      "text/plain": [
       "<Figure size 432x288 with 1 Axes>"
      ]
     },
     "metadata": {
      "needs_background": "light"
     },
     "output_type": "display_data"
    }
   ],
   "source": [
    "performRsquared('Mean Income', False)\n",
    "performRsquaredNoOutliers('Mean Income', False)\n",
    "graphBoth('Mean Income')"
   ]
  },
  {
   "cell_type": "code",
   "execution_count": 36,
   "metadata": {},
   "outputs": [
    {
     "name": "stdout",
     "output_type": "stream",
     "text": [
      "Mean Property Tax R-Squared: 0.27\n",
      "No outliers Mean Property Tax R-Squared: 0.19\n"
     ]
    },
    {
     "data": {
      "image/png": "[encoded data removed]",
      "text/plain": [
       "<Figure size 432x288 with 1 Axes>"
      ]
     },
     "metadata": {
      "needs_background": "light"
     },
     "output_type": "display_data"
    }
   ],
   "source": [
    "performRsquared('Mean Property Tax', False)\n",
    "performRsquaredNoOutliers('Mean Property Tax', False)\n",
    "graphBoth('Mean Property Tax')"
   ]
  },
  {
   "cell_type": "code",
   "execution_count": 38,
   "metadata": {
    "scrolled": false
   },
   "outputs": [
    {
     "name": "stdout",
     "output_type": "stream",
     "text": [
      "Mean Rent as a Percentage of Income R-Squared: 0.34\n",
      "No outliers Mean Rent as a Percentage of Income R-Squared: 0.29\n"
     ]
    },
    {
     "data": {
      "image/png": "[encoded data removed]",
      "text/plain": [
       "<Figure size 432x288 with 1 Axes>"
      ]
     },
     "metadata": {
      "needs_background": "light"
     },
     "output_type": "display_data"
    }
   ],
   "source": [
    "performRsquared('Mean Rent as a Percentage of Income', False)\n",
    "performRsquaredNoOutliers('Mean Rent as a Percentage of Income', False)\n",
    "graphBoth('Mean Rent as a Percentage of Income')"
   ]
  },
  {
   "cell_type": "markdown",
   "metadata": {},
   "source": [
    "---\n",
    "From the graphs and r^2 values above, the variable with the strongest correlation with typical housing prices seems to be mean income.\n",
    "\n",
    "---"
   ]
  },
  {
   "cell_type": "markdown",
   "metadata": {},
   "source": [
    "### Crime Data Analysis"
   ]
  },
  {
   "cell_type": "markdown",
   "metadata": {},
   "source": [
    "---\n",
    "Similar to above, we decided to place all the crime data together in one multivariate linear regression since we believed they were probably interrelated.\n",
    "\n",
    "---"
   ]
  },
  {
   "cell_type": "code",
   "execution_count": 14,
   "metadata": {},
   "outputs": [],
   "source": [
    "import matplotlib.pyplot as plt\n",
    "from matplotlib import pyplot as plt"
   ]
  },
  {
   "cell_type": "code",
   "execution_count": 15,
   "metadata": {},
   "outputs": [
    {
     "data": {
      "text/plain": [
       "LinearRegression()"
      ]
     },
     "execution_count": 15,
     "metadata": {},
     "output_type": "execute_result"
    }
   ],
   "source": [
    "crimemodel = LinearRegression()\n",
    "crimemodel.fit(msazhvi[[\"Violent Crime per 100k\", \"Robbery per 100k\", \"Property Crime per 100k\", \"Burglary per 100k\"]], msazhvi[\"2018 ZHVI\"])"
   ]
  },
  {
   "cell_type": "code",
   "execution_count": 16,
   "metadata": {
    "scrolled": true
   },
   "outputs": [
    {
     "name": "stdout",
     "output_type": "stream",
     "text": [
      "Violent Crime Slope: -632.896735330978\n",
      "Robbery Slope: 2030.9793200461822\n",
      "Property Crime Slope: 103.45299129808791\n",
      "Burglary Slope: -378.6723588684764\n"
     ]
    }
   ],
   "source": [
    "print('Violent Crime Slope: ' + str(crimemodel.coef_[0]))\n",
    "print('Robbery Slope: ' + str(crimemodel.coef_[1]))\n",
    "print('Property Crime Slope: ' + str(crimemodel.coef_[2]))\n",
    "print('Burglary Slope: ' + str(crimemodel.coef_[3]))"
   ]
  },
  {
   "cell_type": "markdown",
   "metadata": {},
   "source": [
    "---\n",
    "Below, the r^2 value with all the factors taken in account is relatively low. We performed r^2 calculations on each of the values separately, and they all were extremely low. As such, we don't believe there is a high correlation between crime and housing prices.\n",
    "\n",
    "---"
   ]
  },
  {
   "cell_type": "code",
   "execution_count": 17,
   "metadata": {
    "scrolled": false
   },
   "outputs": [
    {
     "name": "stdout",
     "output_type": "stream",
     "text": [
      "Crime R-squared: 0.3668526058836281\n"
     ]
    }
   ],
   "source": [
    "print(\"Crime R-squared: \" + str(crimemodel.score(msazhvi[[\"Violent Crime per 100k\", \"Robbery per 100k\", \"Property Crime per 100k\", \"Burglary per 100k\"]], msazhvi[\"2018 ZHVI\"])))"
   ]
  },
  {
   "cell_type": "code",
   "execution_count": 18,
   "metadata": {},
   "outputs": [
    {
     "name": "stdout",
     "output_type": "stream",
     "text": [
      "Violent Crime per 100k R-Squared: 0.03\n",
      "No outliers Violent Crime per 100k R-Squared: 0.1\n"
     ]
    }
   ],
   "source": [
    "performRsquared('Violent Crime per 100k', False)\n",
    "performRsquaredNoOutliers('Violent Crime per 100k', False)"
   ]
  },
  {
   "cell_type": "code",
   "execution_count": 19,
   "metadata": {},
   "outputs": [
    {
     "name": "stdout",
     "output_type": "stream",
     "text": [
      "Robbery per 100k R-Squared: 0.03\n",
      "No outliers Robbery per 100k R-Squared: 0.0\n"
     ]
    }
   ],
   "source": [
    "performRsquared('Robbery per 100k', False)\n",
    "performRsquaredNoOutliers('Robbery per 100k', False)"
   ]
  },
  {
   "cell_type": "code",
   "execution_count": 20,
   "metadata": {},
   "outputs": [
    {
     "name": "stdout",
     "output_type": "stream",
     "text": [
      "Property Crime per 100k R-Squared: 0.0\n",
      "No outliers Property Crime per 100k R-Squared: 0.02\n"
     ]
    }
   ],
   "source": [
    "performRsquared('Property Crime per 100k', False)\n",
    "performRsquaredNoOutliers('Property Crime per 100k', False)"
   ]
  },
  {
   "cell_type": "code",
   "execution_count": 21,
   "metadata": {},
   "outputs": [
    {
     "name": "stdout",
     "output_type": "stream",
     "text": [
      "Burglary per 100k R-Squared: 0.03\n",
      "No outliers Burglary per 100k R-Squared: 0.05\n"
     ]
    }
   ],
   "source": [
    "performRsquared('Burglary per 100k', False)\n",
    "performRsquaredNoOutliers('Burglary per 100k', False)"
   ]
  },
  {
   "cell_type": "markdown",
   "metadata": {},
   "source": [
    "### Climate Data Analysis"
   ]
  },
  {
   "cell_type": "markdown",
   "metadata": {},
   "source": [
    "---\n",
    "Similar to above, we grouped all of the climate data into one multivariate linear regression, since we believed that the factors were interrelated.\n",
    "\n",
    "---"
   ]
  },
  {
   "cell_type": "code",
   "execution_count": 22,
   "metadata": {},
   "outputs": [
    {
     "data": {
      "text/plain": [
       "LinearRegression()"
      ]
     },
     "execution_count": 22,
     "metadata": {},
     "output_type": "execute_result"
    }
   ],
   "source": [
    "tempmodel = LinearRegression()\n",
    "tempmodel.fit(msazhvi[[\"Mean High Temp\", \"Mean Low Temp\", \"Mean Annual Temp\"]], msazhvi[\"2018 ZHVI\"])"
   ]
  },
  {
   "cell_type": "code",
   "execution_count": 23,
   "metadata": {},
   "outputs": [
    {
     "name": "stdout",
     "output_type": "stream",
     "text": [
      "Mean High Temp Slope: 2993.153035983507\n",
      "Mean Low Temp Slope: 15497.949109693433\n",
      "Mean Annual Temp: -25272.991115293007\n"
     ]
    }
   ],
   "source": [
    "print('Mean High Temp Slope: ' + str(tempmodel.coef_[0]))\n",
    "print('Mean Low Temp Slope: ' + str(tempmodel.coef_[1]))\n",
    "print('Mean Annual Temp: ' + str(tempmodel.coef_[2]))"
   ]
  },
  {
   "cell_type": "markdown",
   "metadata": {},
   "source": [
    "---\n",
    "Similar to the education and economic data, the r^2 value with all three climate factors taken into account is somewhat high. As such, we believe that climate is somewhat correlated with housing prices. Interestingly, the r^2 values for each individual factor is substantially low except potentially mean low temperature. \n",
    "\n",
    "---"
   ]
  },
  {
   "cell_type": "code",
   "execution_count": 24,
   "metadata": {},
   "outputs": [
    {
     "name": "stdout",
     "output_type": "stream",
     "text": [
      "Climate R-squared: 0.5815732745123695\n"
     ]
    }
   ],
   "source": [
    "print(\"Climate R-squared: \" + str(tempmodel.score(msazhvi[[\"Mean High Temp\", \"Mean Low Temp\", \"Mean Annual Temp\"]], msazhvi[\"2018 ZHVI\"])))"
   ]
  },
  {
   "cell_type": "code",
   "execution_count": 40,
   "metadata": {},
   "outputs": [
    {
     "name": "stdout",
     "output_type": "stream",
     "text": [
      "Mean High Temp R-Squared: 0.03\n",
      "No outliers Mean High Temp R-Squared: 0.01\n"
     ]
    },
    {
     "data": {
      "image/png": "[encoded data removed]",
      "text/plain": [
       "<Figure size 432x288 with 1 Axes>"
      ]
     },
     "metadata": {
      "needs_background": "light"
     },
     "output_type": "display_data"
    }
   ],
   "source": [
    "performRsquared('Mean High Temp', False)\n",
    "performRsquaredNoOutliers('Mean High Temp', False)\n",
    "graphBoth('Mean High Temp')"
   ]
  },
  {
   "cell_type": "code",
   "execution_count": 41,
   "metadata": {
    "scrolled": true
   },
   "outputs": [
    {
     "name": "stdout",
     "output_type": "stream",
     "text": [
      "Mean Low Temp R-Squared: 0.19\n",
      "No outliers Mean Low Temp R-Squared: 0.13\n"
     ]
    },
    {
     "data": {
      "image/png": "[encoded data removed]",
      "text/plain": [
       "<Figure size 432x288 with 1 Axes>"
      ]
     },
     "metadata": {
      "needs_background": "light"
     },
     "output_type": "display_data"
    }
   ],
   "source": [
    "performRsquared('Mean Low Temp', False)\n",
    "performRsquaredNoOutliers('Mean Low Temp', False)\n",
    "graphBoth('Mean Low Temp')"
   ]
  },
  {
   "cell_type": "code",
   "execution_count": 42,
   "metadata": {
    "scrolled": true
   },
   "outputs": [
    {
     "name": "stdout",
     "output_type": "stream",
     "text": [
      "Mean Annual Temp R-Squared: 0.01\n",
      "No outliers Mean Annual Temp R-Squared: 0.01\n"
     ]
    },
    {
     "data": {
      "image/png": "[encoded data removed]",
      "text/plain": [
       "<Figure size 432x288 with 1 Axes>"
      ]
     },
     "metadata": {
      "needs_background": "light"
     },
     "output_type": "display_data"
    }
   ],
   "source": [
    "performRsquared('Mean Annual Temp', False)\n",
    "performRsquaredNoOutliers('Mean Annual Temp', False)\n",
    "graphBoth('Mean Annual Temp')"
   ]
  },
  {
   "cell_type": "markdown",
   "metadata": {},
   "source": [
    "---\n",
    "After performing multiple linear regressions, we wondered if overall temeprature range had an effect on housing prices, so we calculated the typical temperature range of an MSA by subtracting the mean low temperature column from the mean high temperature column. From the scatterplot and linear regressions below, it seems that temperature range has a low correlation with housing prices.\n",
    "\n",
    "---"
   ]
  },
  {
   "cell_type": "code",
   "execution_count": 43,
   "metadata": {
    "scrolled": false
   },
   "outputs": [
    {
     "name": "stdout",
     "output_type": "stream",
     "text": [
      "Temperature Range R-Squared: 0.25\n",
      "No outliers Temperature Range R-Squared: 0.04\n"
     ]
    },
    {
     "data": {
      "image/png": "[encoded data removed]",
      "text/plain": [
       "<Figure size 432x288 with 1 Axes>"
      ]
     },
     "metadata": {
      "needs_background": "light"
     },
     "output_type": "display_data"
    }
   ],
   "source": [
    "msazhvi[\"Temperature Range\"] = msazhvi['Mean High Temp'] - msazhvi['Mean Low Temp']\n",
    "performRsquared('Temperature Range', False)\n",
    "performRsquaredNoOutliers('Temperature Range', False)\n",
    "graphBoth(\"Temperature Range\")"
   ]
  },
  {
   "cell_type": "markdown",
   "metadata": {},
   "source": [
    "---\n",
    "## Evaluation of Significance"
   ]
  },
  {
   "cell_type": "markdown",
   "metadata": {},
   "source": [
    "# F Test\n",
    "H0: B_high = B_low = B_annual = 0\n",
    "\n",
    "HA: B_j != 0 for at least 1 value of j\n",
    "\n",
    "\n",
    "F = MSM/MSE = (SSR/DFM) / (SSE/DFE) = (Σ(yi^ - y)^2 / (p - 1)) / (Σ(yi - yi^)^2 / (n - p))\n",
    "\n",
    "n = 49 (data points)\n",
    "\n",
    "p = 4 (parameters)"
   ]
  },
  {
   "cell_type": "code",
   "execution_count": 29,
   "metadata": {},
   "outputs": [
    {
     "name": "stdout",
     "output_type": "stream",
     "text": [
      "F-Value: 20.829780560629665\n"
     ]
    }
   ],
   "source": [
    "msazhvi[\"Climate Predictions\"] = tempmodel.predict(msazhvi[[\"Mean High Temp\", \"Mean Low Temp\", \"Mean Annual Temp\"]])\n",
    "y_mean = msazhvi[\"Climate Predictions\"].mean()\n",
    "y_predictions = msazhvi[\"Climate Predictions\"].tolist()\n",
    "actual_y = msazhvi[\"2018 ZHVI\"].tolist()\n",
    "ssr = 0\n",
    "sse = 0\n",
    "for i in range(len(y_predictions) - 1):\n",
    "    ssr += (y_predictions[i] - y_mean) ** 2\n",
    "    sse += (actual_y[i] - y_predictions[i]) ** 2\n",
    "f = (ssr/3) / (sse/45)\n",
    "print(\"F-Value: \" + str(f))"
   ]
  },
  {
   "cell_type": "markdown",
   "metadata": {},
   "source": [
    "With an F-value of 20.83, we have sufficient evidence to reject the null hypothesis at a = 0.05. Thus, we can conclude that at least one of the independent variables that make up the Climate metric in in the model is statistically significant. As such, we can conclude that there is a real, tangible relationship between how much properties are worth in a metropolitan area and the local weather patterns, which generally increases as the weather gets warmer.\n"
   ]
  },
  {
   "cell_type": "markdown",
   "metadata": {},
   "source": [
    "# T Test for Education\n",
    "H0: B1 = 0\n",
    "\n",
    "HA: B1 != 0 \n",
    "\n",
    "\n",
    "t = B1 / sqrt(Σ(yi - yi^)^2 / (n-2)* Σ(xi - xbar)^2))\n",
    "\n",
    "B1 = 1024587.53 in the EdModel regression"
   ]
  },
  {
   "cell_type": "code",
   "execution_count": 30,
   "metadata": {
    "scrolled": true
   },
   "outputs": [
    {
     "data": {
      "text/plain": [
       "LinearRegression()"
      ]
     },
     "execution_count": 30,
     "metadata": {},
     "output_type": "execute_result"
    }
   ],
   "source": [
    "edModel = LinearRegression()\n",
    "edModel.fit(msazhvi[['Education Score']], msazhvi['2018 ZHVI'])"
   ]
  },
  {
   "cell_type": "code",
   "execution_count": 31,
   "metadata": {},
   "outputs": [
    {
     "name": "stdout",
     "output_type": "stream",
     "text": [
      "T Statistic: 1.6683418039949254\n"
     ]
    }
   ],
   "source": [
    "edMean = msazhvi[\"Education Score\"].mean()\n",
    "edScores = msazhvi[\"Education Score\"].tolist()\n",
    "y_predictions = edModel.predict(msazhvi[[\"Education Score\"]])\n",
    "y_sum = 0\n",
    "x_sum = 0\n",
    "for i in range(len(y_predictions) - 1):\n",
    "    y_sum += (actual_y[i] - y_predictions[i]) ** 2\n",
    "    x_sum += (edScores[i] - edMean) ** 2\n",
    "\n",
    "t = 1024587.52970274 / np.sqrt(y_sum / (47 * x_sum))\n",
    "print(\"T Statistic: \" + str(t))"
   ]
  },
  {
   "cell_type": "markdown",
   "metadata": {},
   "source": [
    "With a T statistic of 1.67, we have sufficient evident to reject the null hypothesis at a = 0.05, as our P-value is far lower. Thus, we can conclude that the slope determined by the edModel regression is significant and there appears to be a real correlation between the Education Score of an MSA and the property value."
   ]
  },
  {
   "cell_type": "markdown",
   "metadata": {},
   "source": [
    "# T Test for Income\n",
    "H0: B1 = 0\n",
    "\n",
    "HA: B1 != 0 \n",
    "\n",
    "\n",
    "t = B1 / sqrt(Σ(yi - yi^)^2 / (n-2)* Σ(xi - xbar)^2))\n",
    "\n",
    "B1 = 6.91485957 in the IncModel regression"
   ]
  },
  {
   "cell_type": "code",
   "execution_count": 32,
   "metadata": {},
   "outputs": [
    {
     "data": {
      "text/plain": [
       "LinearRegression()"
      ]
     },
     "execution_count": 32,
     "metadata": {},
     "output_type": "execute_result"
    }
   ],
   "source": [
    "incModel = LinearRegression()\n",
    "incModel.fit(msazhvi[['Mean Income']], msazhvi['2018 ZHVI'])"
   ]
  },
  {
   "cell_type": "code",
   "execution_count": 33,
   "metadata": {},
   "outputs": [
    {
     "name": "stdout",
     "output_type": "stream",
     "text": [
      "T Statistic: 7.871024821502164\n"
     ]
    }
   ],
   "source": [
    "incMean = msazhvi[\"Mean Income\"].mean()\n",
    "incomes = msazhvi[\"Mean Income\"].tolist()\n",
    "y_predictions = incModel.predict(msazhvi[[\"Mean Income\"]])\n",
    "y_sum = 0\n",
    "x_sum = 0\n",
    "for i in range(len(y_predictions) - 1):\n",
    "    y_sum += (actual_y[i] - y_predictions[i]) ** 2\n",
    "    x_sum += (incomes[i] - incMean) ** 2\n",
    "\n",
    "t = 6.91485957 / np.sqrt(y_sum / (47 * x_sum))\n",
    "print(\"T Statistic: \" + str(t))"
   ]
  },
  {
   "cell_type": "markdown",
   "metadata": {},
   "source": [
    "With a T statistic of 7.87, we have sufficient evident to reject the null hypothesis at a = 0.05, as our P-value is far lower. Thus, we can conclude that the slope determined by the incModel regression is significant and there appears to be a real correlation between the Mean Income of an MSA and the property value."
   ]
  },
  {
   "cell_type": "markdown",
   "metadata": {},
   "source": [
    "---\n",
    "## Interpretations"
   ]
  },
  {
   "cell_type": "markdown",
   "metadata": {},
   "source": [
    "\n",
    "### Education and Economic Factors\n",
    "\n",
    "#### Multivariate Linear Regression\n",
    "The MLR slopes from above can be interpreted as follows:\n",
    "- Every time the average percentage of the population that is at least high school educated goes up by 1 percentage point, the typical house price for that city goes up by around 3000 dollars.\n",
    "- Every time the mean income for a city goes up by 1 dollar, the typical house price increases by 5 dollars. \n",
    "- Every time the average property tax for a city increases by a dollar, the typical house price decreases by 26 dollars.\n",
    "- Finally, every time the average percent of income spent on rent increases by 1 percentage point, the typical house price for that city goes up by 227 dollars.\n",
    "\n",
    "The r^2 value from the MLR is .65, which may not seem particularly high, but it implies that there is at least some number of housing prices that can be predicted with these factors.\n",
    "\n",
    "Overall, there seems to be a relatively large positive correlation between the amount of high-school educated individuals in a city and the typical house price. However, this does not necessarily point to a causative relationship. While a better education may lead to a higher income, there is also a chance that wealthier individuals (who can afford more expensive homes), are more likely to pursue or have their children pursue a better education.\n",
    "\n",
    "The positive correlation between income and housing price, albeit small, can be explained by the idea that individuals with higher paying jobs have more disposable income. In response, housing prices could potentially increase to \"keep up\" with higher incomes.\n",
    "\n",
    "We are unsure as to why there is a negative relationship between property taxes and housing prices when performing MLR.\n",
    "\n",
    "The positive correlation between percent of income spent on rent and housing price seems relatively self-evident. The more expensive it is to rent a house, the more expensive it should be to own a house. This does not necessarily imply causation.\n",
    "\n",
    "#### Univariate Linear Regressions\n",
    "\n",
    "For the education linear regression, there seems to be a slightly positive slope with a r^2 value of .27. This doesn't seem extremely statistically significant. It seems that education has a higher correlation with housing prices when taking other factors into account.\n",
    "\n",
    "For the mean income linear regression, there seems to be a slightly positive slope with a r^2 value of .57. This is somewhat higher than the other linear regressions, which seems to imply that some housing prices can be predicted utilizing mean income.\n",
    "\n",
    "For the linear regressions of property tax and percentage of income spent on rent, there are slightly positive slopes and low r^2 values. They don't seem statistically significant.\n",
    "\n",
    "### Crime Data\n",
    "\n",
    "Both the Multivariate and Univariate Linear Regessions had relatively low r^2 values, so crime doesn't seem to be an effective predictor of housing prices.\n",
    "\n",
    "### Climate Data\n",
    "\n",
    "#### Multivariate Linear Regression\n",
    "The MLR slopes can be interpreted as follows:\n",
    "- Every time the average high temperature increases by 1 degree Fahrenheit, the housing price increases by around 3000 dollars.\n",
    "- Every time the average low temperature increases by 1 degree Fahrenheit, the housing price increases by around 16000 dollars.\n",
    "- Every time the average annual temperature increases by 1 degree Fahrenheit, the housing price decreases by around 26000 dollars.\n",
    "\n",
    "The r^2 value from the MLR is .59, which may not seem particularly high, but it implies that there is at least some number of housing prices that can be predicted by temperature. \n",
    "\n",
    "It seems that the average overall temperature has the largest slope with housing prices. If housing prices are used to determine desirability of living within a location, perhaps higher overall temperatures are less desirable, and lead to a lower price. In addition, average low temperatures also have a relatively high slope. Perhaps people care more about avoiding the cold rather than seeking out the heat. This would mean that locations with milder weather are more desirable.\n",
    "\n",
    "The univariate linear regressions did not have particularly high r^2 values, so they don't seem to be statistically significant. However, when calculating average temperature range by subtracting the mean high and mean low temperatures, there is a negative relationship with housing prices and a low r^2 value. This could potentially indicate that less variable weather is more desirable, which leads to higher house prices.\n",
    "\n",
    "### A Word About Outliers...\n",
    "So far, we have only discussed the r^2 values from the function that includes outliers (performRsquared()). Taking a look at the r^2 values calculated by the function that does not include outliers (performRsquaredNoOutliers()) we can observe in some cases, signifigant differences from the outlier-included r^2 values, and in most cases, this was a decrease. Specifically, we observed decreases in the r^2 of almost all of our variables except those in the crime category. It should be noted that in most cases, outliers were removed by performRsquaredNoOutliers() due to having a very high ZHVI. What this suggests is that our observed correlations are still applicable to MSAs with high ZHVIs rather than just strictly applying to the main \"pack\".  "
   ]
  },
  {
   "cell_type": "markdown",
   "metadata": {},
   "source": [
    "## Conclusion\n",
    "\n",
    "The strongest predictors for housing prices seem to be percentage of educated population, income, and climate."
   ]
  },
  {
   "cell_type": "markdown",
   "metadata": {},
   "source": [
    "---\n",
    "## Limitations"
   ]
  },
  {
   "cell_type": "markdown",
   "metadata": {},
   "source": [
    "Much of our data is quite interrelated (Education, Income, Taxes, etc.), so the correlations that we discover are not necessarily causative relationships. It is also difficult to interpret the Multivariate Linear Regressions with this fact in mind.\n",
    "\n",
    "There could also be limitations in the data that we have collected. Our Education and Economic data is calculated for each MSA by finding the weighted means of the individual counties that make up each MSA. There could be outliers that skew these values. Furthermore, \n",
    "\n",
    "We are also limited in that we somewhat arbitrarily chose factors that we thought could affect housing prices without any prior knowledge or expertise in how real estate prices can vary or change.\n",
    "\n"
   ]
  },
  {
   "cell_type": "markdown",
   "metadata": {},
   "source": [
    "---\n",
    "## Source Code"
   ]
  },
  {
   "cell_type": "markdown",
   "metadata": {},
   "source": [
    "[Repository](https://github.com/Wichaelian/INFO2950)"
   ]
  },
  {
   "cell_type": "markdown",
   "metadata": {},
   "source": [
    "---\n",
    "## Questions for Reviewers"
   ]
  },
  {
   "cell_type": "markdown",
   "metadata": {},
   "source": [
    "- Our data overview section shares a lot of information with our data collection and cleaning section. Should we move all the information to just one section?\n",
    "\n",
    "- When we put all of our data into the dataset, we did not take into account the difference in units between different factors. For example, some factors are percentages (rent as a percentage of income, education), while others are dollar values. We are unsure if this disparity would have an effect on our multivariate linear regressions. Should we make it so all of the factors have similar units? I.E. multiply the percentages by 100, or find the crime rate percentage instead of over 100k?\n",
    "\n",
    "- We are having trouble performing a permutation test on a multivariate linear regression. Is it possible to do? Should we even try? \n",
    "\n",
    "- Should we perform other tests like a train/test split or a bootstrap test?\n",
    "\n",
    "- We divided our multivariate linear regressions between education and economic data, climate data, and crime data. Would it be worthwhile to perform a MLR on all of the factors to predict median housing price, even though the r^2 value always increases when more factors are introduced?"
   ]
  },
  {
   "cell_type": "code",
   "execution_count": null,
   "metadata": {},
   "outputs": [],
   "source": []
  }
 ],
 "metadata": {
  "kernelspec": {
   "display_name": "Python 3",
   "language": "python",
   "name": "python3"
  },
  "language_info": {
   "codemirror_mode": {
    "name": "ipython",
    "version": 3
   },
   "file_extension": ".py",
   "mimetype": "text/x-python",
   "name": "python",
   "nbconvert_exporter": "python",
   "pygments_lexer": "ipython3",
   "version": "3.6.10"
  }
 },
 "nbformat": 4,
 "nbformat_minor": 4
}
