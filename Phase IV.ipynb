{
 "cells": [
  {
   "cell_type": "markdown",
   "metadata": {},
   "source": [
    "# INFO 2950 Project Phase IV"
   ]
  },
  {
   "cell_type": "markdown",
   "metadata": {},
   "source": [
    "By Michael Wang, John Lo, Patricio Fraga-Errecart, and Colin Hoffer "
   ]
  },
  {
   "cell_type": "markdown",
   "metadata": {},
   "source": [
    "---\n",
    "## Introduction"
   ]
  },
  {
   "cell_type": "markdown",
   "metadata": {},
   "source": [
    "We began this project by first thinking about what sorts of factors can effect housing prices within the United States. After some deliberation, we decided to narrow our focus to housing prices within various cities, and chose potential factors based on what we each thought might affect housing prices. We came up with two distinct research questions:\n",
    "\n",
    "- What factors (including education, taxes, weather, etc.) have the highest correlation with typical housing prices in cities in the USA?\n",
    "- Can such factors be used to accurately predict housing prices within the USA?\n",
    "\n",
    "\n",
    "After performing our analyses, we did not find particularly high r^2 values for any of our suggested factors, although some of the factors landed within the .4 to .6 range, which demonstrate some correlation. We suspected this was due to the high variability of housing prices within various cities, as well as the variation of housing prices from city to city. We also have no reference point for a \"significant\" correlation for real estate data. These values could potentially be significant for the data that we chose to analyze.\n",
    "\n",
    "Overall, the best predictors for housing prices seem to be percentage of educated population, income, and climate."
   ]
  },
  {
   "cell_type": "markdown",
   "metadata": {},
   "source": [
    "---\n",
    "## Data Description\n"
   ]
  },
  {
   "cell_type": "markdown",
   "metadata": {},
   "source": [
    "\n",
    "### Data Overview"
   ]
  },
  {
   "cell_type": "markdown",
   "metadata": {},
   "source": [
    "Because our Data Collection and Cleaning was quite extensive, we placed it in a separate Jupyter file.\n",
    "\n",
    "In our final dataset (msazhvi), the rows represent 52 Metropolitan Statistical Areas (MSAs) throughout different geographical regions of the US. The columns are different attributes of each MSA, including typical home value (2018 ZHVI), average percent of highest education attained, average income, average property taxes, average rent as a percent of income, average high temperature of the year, average low temperature of the year, average mean temperature of the year, and various forms of crime per 100k individuals.\n",
    "\n",
    "The home value data in the 2018 ZHVI is sourced from Zillow and their public data. Zillow has their proprietary home value estimates called 'Zestimates' sourced from a variety of metrics. These metrics come from third party sources, some which are not disclosed due to zestimates being Zillow's special metric. However, other sources are known, such as data.gov, Google Places, and Multiple Listing Service (MLS) data. MLS data is used by real estate brokers to make transactions more efficient, therefore, this data provides Zillow with pricing info. Zillow receives MLS data directly in a data feed when brokers opt into have their listing syndicated by Zillow. Because of their sources and direct connections to real-time transactions, Zillow is able to get provide accurate aggregated estimates for MSAs and their housing prices. \n",
    "\n",
    "Much of the other data comes directly from the census, including average percent of highest education attained, average income, average property taxes, average rent as a percent. Specifically, this data comes from the American Community Survey Data from the census, which is collected every year rather than every 10 years to provide 5-year estimates regarding community metrics. This data is sent out to select members of communities on a rotating basis to guage a sample size to help estimate the metrics. \n",
    "\n",
    "The crime data comes from the FBI and is sorted by all MSAs throughout the country. The data is posted every year, however not every MSA is available each year. The data provides metrics on violent crimes and thievery. Because the FBI is federal, they do not collect the data themselves. Law enforcement agencies around the country provide the data to the FBI yearly, at which point they compile and publish the Uniform Crime Report. \n",
    "\n",
    "The temperature data comes from NOAA and was taken only from the major city in each MSA. This is because the data is not published by MSA but still provides the most accurate estimate since the city is typically located in the geographical center of the MSA. NOAA collects their real-time data from satelites, bouys, weather stations, scientists, and local stations. An interactive map of the US allows the user to click on a geographical region and then a city within. Data from each city had to be collected individually and compiled into a csv by hand, as there was no way to download all available data. \n",
    "\n",
    "This dataset was created in order to more effectively compare various factors and their effects on typical home values within cities. We decided to focus on an entire year (2018), so we had to consolidate the ZHVI data, which was calculated monthly. We also focused on Metropolitan Statistical Areas surrounding cities, so we also consolidated the Census data by performing weighted averages of the county variables. A more detailed look at this process is above.\n",
    "\n",
    "All the data we collected was free and we required no funding. There are links in the Data Collection section to the specific sources where we gathered our data from. \n",
    "\n",
    "We chose factors somewhat arbitrarily; we chose them based on what we suspected would have an effect on typical house price.\n"
   ]
  },
  {
   "cell_type": "code",
   "execution_count": 14,
   "metadata": {},
   "outputs": [
    {
     "data": {
      "text/html": [
       "<div>\n",
       "<style scoped>\n",
       "    .dataframe tbody tr th:only-of-type {\n",
       "        vertical-align: middle;\n",
       "    }\n",
       "\n",
       "    .dataframe tbody tr th {\n",
       "        vertical-align: top;\n",
       "    }\n",
       "\n",
       "    .dataframe thead th {\n",
       "        text-align: right;\n",
       "    }\n",
       "</style>\n",
       "<table border=\"1\" class=\"dataframe\">\n",
       "  <thead>\n",
       "    <tr style=\"text-align: right;\">\n",
       "      <th></th>\n",
       "      <th>Unnamed: 0</th>\n",
       "      <th>RegionName</th>\n",
       "      <th>2018 ZHVI</th>\n",
       "      <th>Mean Percent HS/Equivalent Educated</th>\n",
       "      <th>Mean Percent Bachelor's Degree Holding</th>\n",
       "      <th>Mean Percent Postgraduate Educated</th>\n",
       "      <th>Mean Income</th>\n",
       "      <th>Mean Property Tax</th>\n",
       "      <th>Mean Rent as a Percentage of Income</th>\n",
       "      <th>Mean High Temp</th>\n",
       "      <th>Mean Low Temp</th>\n",
       "      <th>Mean Annual Temp</th>\n",
       "      <th>Violent Crime per 100k</th>\n",
       "      <th>Robbery per 100k</th>\n",
       "      <th>Property Crime per 100k</th>\n",
       "      <th>Burglary per 100k</th>\n",
       "    </tr>\n",
       "  </thead>\n",
       "  <tbody>\n",
       "    <tr>\n",
       "      <th>0</th>\n",
       "      <td>1</td>\n",
       "      <td>New York, NY</td>\n",
       "      <td>470289.833333</td>\n",
       "      <td>0.194727</td>\n",
       "      <td>0.181194</td>\n",
       "      <td>0.123487</td>\n",
       "      <td>97918.579350</td>\n",
       "      <td>4080.629834</td>\n",
       "      <td>16.965818</td>\n",
       "      <td>97.0</td>\n",
       "      <td>5.0</td>\n",
       "      <td>53.4</td>\n",
       "      <td>332.9</td>\n",
       "      <td>107.5</td>\n",
       "      <td>1335.6</td>\n",
       "      <td>152.6</td>\n",
       "    </tr>\n",
       "    <tr>\n",
       "      <th>1</th>\n",
       "      <td>2</td>\n",
       "      <td>Los Angeles-Long Beach-Anaheim, CA</td>\n",
       "      <td>658484.166667</td>\n",
       "      <td>0.163148</td>\n",
       "      <td>0.166903</td>\n",
       "      <td>0.083846</td>\n",
       "      <td>91473.680944</td>\n",
       "      <td>2495.099228</td>\n",
       "      <td>19.548604</td>\n",
       "      <td>101.0</td>\n",
       "      <td>38.0</td>\n",
       "      <td>66.0</td>\n",
       "      <td>494.8</td>\n",
       "      <td>162.7</td>\n",
       "      <td>2246.9</td>\n",
       "      <td>390.5</td>\n",
       "    </tr>\n",
       "    <tr>\n",
       "      <th>2</th>\n",
       "      <td>3</td>\n",
       "      <td>Chicago, IL</td>\n",
       "      <td>236369.000000</td>\n",
       "      <td>0.196159</td>\n",
       "      <td>0.170818</td>\n",
       "      <td>0.105563</td>\n",
       "      <td>84038.028714</td>\n",
       "      <td>3621.713256</td>\n",
       "      <td>11.552303</td>\n",
       "      <td>95.0</td>\n",
       "      <td>-7.0</td>\n",
       "      <td>50.5</td>\n",
       "      <td>443.0</td>\n",
       "      <td>166.8</td>\n",
       "      <td>2081.6</td>\n",
       "      <td>330.7</td>\n",
       "    </tr>\n",
       "    <tr>\n",
       "      <th>3</th>\n",
       "      <td>4</td>\n",
       "      <td>Dallas-Fort Worth, TX</td>\n",
       "      <td>240213.666667</td>\n",
       "      <td>0.178769</td>\n",
       "      <td>0.159131</td>\n",
       "      <td>0.083052</td>\n",
       "      <td>83355.597543</td>\n",
       "      <td>2734.003335</td>\n",
       "      <td>13.185533</td>\n",
       "      <td>106.0</td>\n",
       "      <td>18.0</td>\n",
       "      <td>68.0</td>\n",
       "      <td>351.0</td>\n",
       "      <td>103.6</td>\n",
       "      <td>2232.7</td>\n",
       "      <td>360.9</td>\n",
       "    </tr>\n",
       "    <tr>\n",
       "      <th>4</th>\n",
       "      <td>6</td>\n",
       "      <td>Houston, TX</td>\n",
       "      <td>207693.416667</td>\n",
       "      <td>0.182125</td>\n",
       "      <td>0.140816</td>\n",
       "      <td>0.077357</td>\n",
       "      <td>75547.037009</td>\n",
       "      <td>2507.561749</td>\n",
       "      <td>12.354341</td>\n",
       "      <td>103.0</td>\n",
       "      <td>26.0</td>\n",
       "      <td>70.3</td>\n",
       "      <td>593.1</td>\n",
       "      <td>176.7</td>\n",
       "      <td>2604.7</td>\n",
       "      <td>443.5</td>\n",
       "    </tr>\n",
       "  </tbody>\n",
       "</table>\n",
       "</div>"
      ],
      "text/plain": [
       "   Unnamed: 0                          RegionName      2018 ZHVI  \\\n",
       "0           1                        New York, NY  470289.833333   \n",
       "1           2  Los Angeles-Long Beach-Anaheim, CA  658484.166667   \n",
       "2           3                         Chicago, IL  236369.000000   \n",
       "3           4               Dallas-Fort Worth, TX  240213.666667   \n",
       "4           6                         Houston, TX  207693.416667   \n",
       "\n",
       "   Mean Percent HS/Equivalent Educated  \\\n",
       "0                             0.194727   \n",
       "1                             0.163148   \n",
       "2                             0.196159   \n",
       "3                             0.178769   \n",
       "4                             0.182125   \n",
       "\n",
       "   Mean Percent Bachelor's Degree Holding  Mean Percent Postgraduate Educated  \\\n",
       "0                                0.181194                            0.123487   \n",
       "1                                0.166903                            0.083846   \n",
       "2                                0.170818                            0.105563   \n",
       "3                                0.159131                            0.083052   \n",
       "4                                0.140816                            0.077357   \n",
       "\n",
       "    Mean Income  Mean Property Tax  Mean Rent as a Percentage of Income  \\\n",
       "0  97918.579350        4080.629834                            16.965818   \n",
       "1  91473.680944        2495.099228                            19.548604   \n",
       "2  84038.028714        3621.713256                            11.552303   \n",
       "3  83355.597543        2734.003335                            13.185533   \n",
       "4  75547.037009        2507.561749                            12.354341   \n",
       "\n",
       "   Mean High Temp  Mean Low Temp  Mean Annual Temp  Violent Crime per 100k  \\\n",
       "0            97.0            5.0              53.4                   332.9   \n",
       "1           101.0           38.0              66.0                   494.8   \n",
       "2            95.0           -7.0              50.5                   443.0   \n",
       "3           106.0           18.0              68.0                   351.0   \n",
       "4           103.0           26.0              70.3                   593.1   \n",
       "\n",
       "   Robbery per 100k  Property Crime per 100k  Burglary per 100k  \n",
       "0             107.5                   1335.6              152.6  \n",
       "1             162.7                   2246.9              390.5  \n",
       "2             166.8                   2081.6              330.7  \n",
       "3             103.6                   2232.7              360.9  \n",
       "4             176.7                   2604.7              443.5  "
      ]
     },
     "execution_count": 14,
     "metadata": {},
     "output_type": "execute_result"
    }
   ],
   "source": [
    "import pandas as pd\n",
    "msazhvi=pd.read_csv(\"finaldataset.csv\")\n",
    "msazhvi.head()"
   ]
  },
  {
   "cell_type": "markdown",
   "metadata": {},
   "source": [
    "---\n",
    "## Preregistration Statement"
   ]
  },
  {
   "cell_type": "markdown",
   "metadata": {},
   "source": [
    "We promised to perform the following analyses:\n",
    "- Multivariable linear regression predicting housing prices based on all factors to test correlation between these factors and the housing price.\n",
    "- Permutation tests on the strongest correlated variables to see if the relationships are generalizable"
   ]
  },
  {
   "cell_type": "markdown",
   "metadata": {},
   "source": [
    "---\n",
    "## Data Analysis\n",
    "\n",
    "---\n",
    "### Education, Income, Property Tax, Rent Data Analysis"
   ]
  },
  {
   "cell_type": "code",
   "execution_count": 15,
   "metadata": {},
   "outputs": [],
   "source": [
    "import numpy as np\n",
    "import matplotlib.pyplot as plt\n",
    "from matplotlib import pyplot as plt\n",
    "from sklearn.linear_model import LinearRegression\n",
    "from scipy import stats\n",
    "from scipy.stats import poisson, ttest_ind"
   ]
  },
  {
   "cell_type": "markdown",
   "metadata": {},
   "source": [
    "For our education analysis, we wanted to perform analysis using education as a single factor, since we believed it was more relevant to talk about people who obtained at least a high school diploma as opposed to specifically people whose highest attainment was a high school diploma, or a bachelor's degree, or a postgraduate degree."
   ]
  },
  {
   "cell_type": "code",
   "execution_count": 16,
   "metadata": {},
   "outputs": [],
   "source": [
    "\n",
    "##giving different weights to each level of education so we create an education score later \n",
    "msazhvi['Education Score'] = msazhvi['Mean Percent HS/Equivalent Educated'] + 1.8*msazhvi[\"Mean Percent Bachelor's Degree Holding\"] + 2.3*msazhvi['Mean Percent Postgraduate Educated']\n"
   ]
  },
  {
   "cell_type": "code",
   "execution_count": 17,
   "metadata": {},
   "outputs": [
    {
     "data": {
      "text/plain": [
       "LinearRegression()"
      ]
     },
     "execution_count": 17,
     "metadata": {},
     "output_type": "execute_result"
    }
   ],
   "source": [
    "model = LinearRegression()\n",
    "##model.fit(msazhvi[['Mean Percent HS/Equivalent Educated',\"Mean Percent Bachelor's Degree Holding\",'Mean Percent Postgraduate Educated','Mean Income', 'Mean Property Tax', 'Mean Rent as a Percentage of Income']], msazhvi['2018 ZHVI'])\n",
    "model.fit(msazhvi[['Education Score', 'Mean Income', 'Mean Property Tax', 'Mean Rent as a Percentage of Income']], msazhvi['2018 ZHVI'])"
   ]
  },
  {
   "cell_type": "code",
   "execution_count": 18,
   "metadata": {
    "scrolled": true
   },
   "outputs": [
    {
     "name": "stdout",
     "output_type": "stream",
     "text": [
      "Education Score Slope: 288401.09748791787\n",
      "Income Slope: 5.367968171754194\n",
      "Property Tax Slope: -22.586712464529683\n",
      "RPI Slope: 23453.983237070337\n"
     ]
    }
   ],
   "source": [
    "print('Education Score Slope: ' + str(model.coef_[0]))\n",
    "print('Income Slope: ' + str(model.coef_[1]))\n",
    "print('Property Tax Slope: ' + str(model.coef_[2]))\n",
    "print('RPI Slope: ' + str(model.coef_[3]))"
   ]
  },
  {
   "cell_type": "code",
   "execution_count": 19,
   "metadata": {},
   "outputs": [],
   "source": [
    "msazhvi['Predictions'] = model.predict(msazhvi[['Education Score', 'Mean Income', 'Mean Property Tax', 'Mean Rent as a Percentage of Income']])\n",
    "msazhvi['Difference'] = msazhvi['2018 ZHVI'] - msazhvi['Predictions']"
   ]
  },
  {
   "cell_type": "code",
   "execution_count": 20,
   "metadata": {},
   "outputs": [
    {
     "name": "stdout",
     "output_type": "stream",
     "text": [
      "R-Squared: 0.6405299730326726\n"
     ]
    }
   ],
   "source": [
    "print('R-Squared: ' + str(model.score(msazhvi[['Education Score', 'Mean Income', 'Mean Property Tax', 'Mean Rent as a Percentage of Income']], msazhvi['2018 ZHVI'])))"
   ]
  },
  {
   "cell_type": "code",
   "execution_count": 21,
   "metadata": {},
   "outputs": [
    {
     "name": "stdout",
     "output_type": "stream",
     "text": [
      "R-Squared: 0.26533077563629326\n"
     ]
    },
    {
     "data": {
      "text/plain": [
       "Text(0, 0.5, '2018 ZHVI')"
      ]
     },
     "execution_count": 21,
     "metadata": {},
     "output_type": "execute_result"
    },
    {
     "data": {
      "image/png": "[encoded data removed]",
      "text/plain": [
       "<Figure size 432x288 with 1 Axes>"
      ]
     },
     "metadata": {
      "needs_background": "light"
     },
     "output_type": "display_data"
    }
   ],
   "source": [
    "edModel = LinearRegression()\n",
    "edModel.fit(msazhvi[['Education Score']], msazhvi['2018 ZHVI'])\n",
    "print('R-Squared: ' + str(edModel.score(msazhvi[['Education Score']], msazhvi['2018 ZHVI'])))\n",
    "plt.scatter(msazhvi['Education Score'], msazhvi['2018 ZHVI'])\n",
    "plt.xlabel('Education Score')\n",
    "plt.ylabel('2018 ZHVI')"
   ]
  },
  {
   "cell_type": "code",
   "execution_count": 22,
   "metadata": {},
   "outputs": [
    {
     "name": "stdout",
     "output_type": "stream",
     "text": [
      "R-Squared: 0.5614094889931451\n"
     ]
    },
    {
     "data": {
      "text/plain": [
       "Text(0, 0.5, '2018 ZHVI')"
      ]
     },
     "execution_count": 22,
     "metadata": {},
     "output_type": "execute_result"
    },
    {
     "data": {
      "image/png": "[encoded data removed]",
      "text/plain": [
       "<Figure size 432x288 with 1 Axes>"
      ]
     },
     "metadata": {
      "needs_background": "light"
     },
     "output_type": "display_data"
    }
   ],
   "source": [
    "incModel = LinearRegression()\n",
    "incModel.fit(msazhvi[['Mean Income']], msazhvi['2018 ZHVI'])\n",
    "print('R-Squared: ' + str(incModel.score(msazhvi[['Mean Income']], msazhvi['2018 ZHVI'])))\n",
    "plt.scatter(msazhvi['Mean Income'], msazhvi['2018 ZHVI'])\n",
    "plt.xlabel('Mean Income')\n",
    "plt.ylabel('2018 ZHVI')"
   ]
  },
  {
   "cell_type": "code",
   "execution_count": 23,
   "metadata": {},
   "outputs": [
    {
     "name": "stdout",
     "output_type": "stream",
     "text": [
      "R-Squared: 0.2745815159496049\n"
     ]
    },
    {
     "data": {
      "text/plain": [
       "Text(0, 0.5, '2018 ZHVI')"
      ]
     },
     "execution_count": 23,
     "metadata": {},
     "output_type": "execute_result"
    },
    {
     "data": {
      "image/png": "[encoded data removed]",
      "text/plain": [
       "<Figure size 432x288 with 1 Axes>"
      ]
     },
     "metadata": {
      "needs_background": "light"
     },
     "output_type": "display_data"
    }
   ],
   "source": [
    "taxModel = LinearRegression()\n",
    "taxModel.fit(msazhvi[['Mean Property Tax']], msazhvi['2018 ZHVI'])\n",
    "print('R-Squared: ' + str(taxModel.score(msazhvi[['Mean Property Tax']], msazhvi['2018 ZHVI'])))\n",
    "plt.scatter(msazhvi['Mean Property Tax'], msazhvi['2018 ZHVI'])\n",
    "plt.xlabel('Mean Property Tax')\n",
    "plt.ylabel('2018 ZHVI')"
   ]
  },
  {
   "cell_type": "code",
   "execution_count": 24,
   "metadata": {},
   "outputs": [
    {
     "name": "stdout",
     "output_type": "stream",
     "text": [
      "R-Squared: 0.33771713594370345\n"
     ]
    },
    {
     "data": {
      "text/plain": [
       "Text(0, 0.5, '2018 ZHVI')"
      ]
     },
     "execution_count": 24,
     "metadata": {},
     "output_type": "execute_result"
    },
    {
     "data": {
      "image/png": "[encoded data removed]",
      "text/plain": [
       "<Figure size 432x288 with 1 Axes>"
      ]
     },
     "metadata": {
      "needs_background": "light"
     },
     "output_type": "display_data"
    }
   ],
   "source": [
    "rentModel = LinearRegression()\n",
    "rentModel.fit(msazhvi[['Mean Rent as a Percentage of Income']], msazhvi['2018 ZHVI'])\n",
    "print('R-Squared: ' + str(rentModel.score(msazhvi[['Mean Rent as a Percentage of Income']], msazhvi['2018 ZHVI'])))\n",
    "plt.scatter(msazhvi['Mean Rent as a Percentage of Income'], msazhvi['2018 ZHVI'])\n",
    "plt.xlabel('Mean Rent as a Percentage of Income')\n",
    "plt.ylabel('2018 ZHVI')"
   ]
  },
  {
   "cell_type": "code",
   "execution_count": 25,
   "metadata": {
    "scrolled": true
   },
   "outputs": [],
   "source": [
    "##%matplotlib notebook\n",
    "##from mpl_toolkits.mplot3d import Axes3D\n",
    "\n",
    "##twoDModel = LinearRegression()\n",
    "##twoDModel.fit(msazhvi[['Mean Income', 'Mean Rent as a Percentage of Income']], msazhvi['2018 ZHVI'])\n",
    "\n",
    "##inc_pred = np.linspace(40000, 140000, 200)\n",
    "##RPI_pred = np.linspace(6, 20, 200)\n",
    "\n",
    "##x, y = np.meshgrid(inc_pred, RPI_pred)\n",
    "\n",
    "##samples = pd.DataFrame({'Income':inc_pred, 'RPI':RPI_pred})\n",
    "\n",
    "#samples = pd.DataFrame({'Income':x, 'RPI':y})\n",
    "\n",
    "##pred = twoDModel.predict(samples)\n",
    "\n",
    "##fig = plt.figure()\n",
    "##ax = fig.add_subplot(111, projection='3d')\n",
    "\n",
    "##ax.scatter(msazhvi['Mean Income'], msazhvi['Mean Rent as a Percentage of Income'], msazhvi['2018 ZHVI'], c='r')\n",
    "##ax.plot(inc_pred, RPI_pred, pred, c='blue')\n",
    "##ax.legend\n",
    "##ax.set_xlabel('Mean Income')\n",
    "##ax.set_ylabel('Mean Rent as a Percentage of Income')\n",
    "##ax.set_zlabel('2018 ZHVI')\n",
    "\n",
    "##plt.show()"
   ]
  },
  {
   "cell_type": "code",
   "execution_count": 26,
   "metadata": {
    "scrolled": true
   },
   "outputs": [],
   "source": [
    "##msazhvi"
   ]
  },
  {
   "cell_type": "markdown",
   "metadata": {},
   "source": [
    "### Crime Data Analysis"
   ]
  },
  {
   "cell_type": "code",
   "execution_count": 27,
   "metadata": {},
   "outputs": [],
   "source": [
    "import matplotlib.pyplot as plt\n",
    "from matplotlib import pyplot as plt"
   ]
  },
  {
   "cell_type": "code",
   "execution_count": 28,
   "metadata": {},
   "outputs": [
    {
     "data": {
      "text/plain": [
       "LinearRegression()"
      ]
     },
     "execution_count": 28,
     "metadata": {},
     "output_type": "execute_result"
    }
   ],
   "source": [
    "crimemodel = LinearRegression()\n",
    "crimemodel.fit(msazhvi[[\"Violent Crime per 100k\", \"Robbery per 100k\", \"Property Crime per 100k\", \"Burglary per 100k\"]], msazhvi[\"2018 ZHVI\"])"
   ]
  },
  {
   "cell_type": "code",
   "execution_count": 29,
   "metadata": {
    "scrolled": true
   },
   "outputs": [
    {
     "name": "stdout",
     "output_type": "stream",
     "text": [
      "Violent Crime Slope: -645.3454380240722\n",
      "Robbery Slope: 2090.187196829615\n",
      "Property Crime Slope: 102.94551985578293\n",
      "Burglary Slope: -380.8115071429349\n"
     ]
    }
   ],
   "source": [
    "print('Violent Crime Slope: ' + str(crimemodel.coef_[0]))\n",
    "print('Robbery Slope: ' + str(crimemodel.coef_[1]))\n",
    "print('Property Crime Slope: ' + str(crimemodel.coef_[2]))\n",
    "print('Burglary Slope: ' + str(crimemodel.coef_[3]))"
   ]
  },
  {
   "cell_type": "code",
   "execution_count": 30,
   "metadata": {},
   "outputs": [],
   "source": [
    "msazhvi[\"Crime Predictions\"] = crimemodel.predict(msazhvi[[\"Violent Crime per 100k\", \"Robbery per 100k\", \"Property Crime per 100k\", \"Burglary per 100k\"]])\n",
    "msazhvi['Crime Difference'] = msazhvi['2018 ZHVI'] - msazhvi['Crime Predictions']"
   ]
  },
  {
   "cell_type": "code",
   "execution_count": 31,
   "metadata": {
    "scrolled": true
   },
   "outputs": [
    {
     "name": "stdout",
     "output_type": "stream",
     "text": [
      "Crime R-squared: 0.37076023238578015\n"
     ]
    }
   ],
   "source": [
    "print(\"Crime R-squared: \" + str(crimemodel.score(msazhvi[[\"Violent Crime per 100k\", \"Robbery per 100k\", \"Property Crime per 100k\", \"Burglary per 100k\"]], msazhvi[\"2018 ZHVI\"])))"
   ]
  },
  {
   "cell_type": "code",
   "execution_count": 32,
   "metadata": {},
   "outputs": [
    {
     "name": "stdout",
     "output_type": "stream",
     "text": [
      "Violent Crime R-Squared: 0.03071125366546168\n"
     ]
    }
   ],
   "source": [
    "vioModel = LinearRegression()\n",
    "vioModel.fit(msazhvi[[\"Violent Crime per 100k\"]], msazhvi['2018 ZHVI'])\n",
    "print('Violent Crime R-Squared: ' + str(vioModel.score(msazhvi[['Violent Crime per 100k']], msazhvi['2018 ZHVI'])))"
   ]
  },
  {
   "cell_type": "code",
   "execution_count": 33,
   "metadata": {},
   "outputs": [
    {
     "name": "stdout",
     "output_type": "stream",
     "text": [
      "Robbery R-Squared: 0.031028909026894036\n"
     ]
    }
   ],
   "source": [
    "robModel = LinearRegression()\n",
    "robModel.fit(msazhvi[[\"Robbery per 100k\"]], msazhvi['2018 ZHVI'])\n",
    "print('Robbery R-Squared: ' + str(robModel.score(msazhvi[['Robbery per 100k']], msazhvi['2018 ZHVI'])))"
   ]
  },
  {
   "cell_type": "code",
   "execution_count": 34,
   "metadata": {},
   "outputs": [
    {
     "name": "stdout",
     "output_type": "stream",
     "text": [
      "Property Crime R-Squared: 1.1151738287251689e-05\n"
     ]
    }
   ],
   "source": [
    "propModel = LinearRegression()\n",
    "propModel.fit(msazhvi[[\"Property Crime per 100k\"]], msazhvi['2018 ZHVI'])\n",
    "print('Property Crime R-Squared: ' + str(propModel.score(msazhvi[['Property Crime per 100k']], msazhvi['2018 ZHVI'])))"
   ]
  },
  {
   "cell_type": "code",
   "execution_count": 35,
   "metadata": {},
   "outputs": [
    {
     "name": "stdout",
     "output_type": "stream",
     "text": [
      "Burglary R-Squared: 0.030495704317751393\n"
     ]
    }
   ],
   "source": [
    "burgModel = LinearRegression()\n",
    "burgModel.fit(msazhvi[[\"Burglary per 100k\"]], msazhvi['2018 ZHVI'])\n",
    "print('Burglary R-Squared: ' + str(burgModel.score(msazhvi[['Burglary per 100k']], msazhvi['2018 ZHVI'])))"
   ]
  },
  {
   "cell_type": "code",
   "execution_count": 36,
   "metadata": {},
   "outputs": [],
   "source": [
    "##propCrimeArray = msazhvi[\"Property Crime per 100k\"].to_numpy().astype(int)\n",
    "##zhviArray = msazhvi['2018 ZHVI'].to_numpy().astype(int)"
   ]
  },
  {
   "cell_type": "markdown",
   "metadata": {},
   "source": [
    "### Climate Data Analysis"
   ]
  },
  {
   "cell_type": "code",
   "execution_count": 37,
   "metadata": {},
   "outputs": [
    {
     "data": {
      "text/plain": [
       "LinearRegression()"
      ]
     },
     "execution_count": 37,
     "metadata": {},
     "output_type": "execute_result"
    }
   ],
   "source": [
    "tempmodel = LinearRegression()\n",
    "tempmodel.fit(msazhvi[[\"Mean High Temp\", \"Mean Low Temp\", \"Mean Annual Temp\"]], msazhvi[\"2018 ZHVI\"])"
   ]
  },
  {
   "cell_type": "code",
   "execution_count": 38,
   "metadata": {},
   "outputs": [
    {
     "name": "stdout",
     "output_type": "stream",
     "text": [
      "Mean High Temp Slope: 3138.8835579338484\n",
      "Mean Low Temp Slope: 15841.746921314796\n",
      "Mean Annual Temp: -25881.458609540554\n"
     ]
    }
   ],
   "source": [
    "print('Mean High Temp Slope: ' + str(tempmodel.coef_[0]))\n",
    "print('Mean Low Temp Slope: ' + str(tempmodel.coef_[1]))\n",
    "print('Mean Annual Temp: ' + str(tempmodel.coef_[2]))"
   ]
  },
  {
   "cell_type": "code",
   "execution_count": 39,
   "metadata": {},
   "outputs": [],
   "source": [
    "##msazhvi[\"Climate Predictions\"] = tempmodel.predict(msazhvi[[\"Mean High Temp\", \"Mean Low Temp\", \"Mean Annual Temp\"]])"
   ]
  },
  {
   "cell_type": "code",
   "execution_count": 40,
   "metadata": {},
   "outputs": [
    {
     "name": "stdout",
     "output_type": "stream",
     "text": [
      "Climate R-squared: 0.5881900961047768\n"
     ]
    }
   ],
   "source": [
    "print(\"Climate R-squared: \" + str(tempmodel.score(msazhvi[[\"Mean High Temp\", \"Mean Low Temp\", \"Mean Annual Temp\"]], msazhvi[\"2018 ZHVI\"])))"
   ]
  },
  {
   "cell_type": "code",
   "execution_count": 41,
   "metadata": {},
   "outputs": [
    {
     "name": "stdout",
     "output_type": "stream",
     "text": [
      "Mean High Temp R-Squared: 0.027844518248844263\n"
     ]
    },
    {
     "data": {
      "text/plain": [
       "Text(0, 0.5, '2018 ZHVI')"
      ]
     },
     "execution_count": 41,
     "metadata": {},
     "output_type": "execute_result"
    },
    {
     "data": {
      "image/png": "[encoded data removed]",
      "text/plain": [
       "<Figure size 432x288 with 1 Axes>"
      ]
     },
     "metadata": {
      "needs_background": "light"
     },
     "output_type": "display_data"
    }
   ],
   "source": [
    "highModel = LinearRegression()\n",
    "highModel.fit(msazhvi[[\"Mean High Temp\"]], msazhvi['2018 ZHVI'])\n",
    "print('Mean High Temp R-Squared: ' + str(highModel.score(msazhvi[['Mean High Temp']], msazhvi['2018 ZHVI'])))\n",
    "plt.scatter(msazhvi['Mean High Temp'], msazhvi['2018 ZHVI'])\n",
    "plt.xlabel('Mean High Temp')\n",
    "plt.ylabel('2018 ZHVI')"
   ]
  },
  {
   "cell_type": "code",
   "execution_count": 42,
   "metadata": {},
   "outputs": [
    {
     "name": "stdout",
     "output_type": "stream",
     "text": [
      "Mean Low Temp R-Squared: 0.18753060643542352\n"
     ]
    },
    {
     "data": {
      "text/plain": [
       "Text(0, 0.5, '2018 ZHVI')"
      ]
     },
     "execution_count": 42,
     "metadata": {},
     "output_type": "execute_result"
    },
    {
     "data": {
      "image/png": "[encoded data removed]",
      "text/plain": [
       "<Figure size 432x288 with 1 Axes>"
      ]
     },
     "metadata": {
      "needs_background": "light"
     },
     "output_type": "display_data"
    }
   ],
   "source": [
    "lowModel = LinearRegression()\n",
    "lowModel.fit(msazhvi[[\"Mean Low Temp\"]], msazhvi['2018 ZHVI'])\n",
    "print('Mean Low Temp R-Squared: ' + str(lowModel.score(msazhvi[['Mean Low Temp']], msazhvi['2018 ZHVI'])))\n",
    "plt.scatter(msazhvi['Mean Low Temp'], msazhvi['2018 ZHVI'])\n",
    "plt.xlabel('Mean Low Temp')\n",
    "plt.ylabel('2018 ZHVI')"
   ]
  },
  {
   "cell_type": "code",
   "execution_count": 43,
   "metadata": {},
   "outputs": [
    {
     "name": "stdout",
     "output_type": "stream",
     "text": [
      "Mean Annual Temp R-Squared: 0.005597336113390083\n"
     ]
    },
    {
     "data": {
      "text/plain": [
       "Text(0, 0.5, '2018 ZHVI')"
      ]
     },
     "execution_count": 43,
     "metadata": {},
     "output_type": "execute_result"
    },
    {
     "data": {
      "image/png": "[encoded data removed]",
      "text/plain": [
       "<Figure size 432x288 with 1 Axes>"
      ]
     },
     "metadata": {
      "needs_background": "light"
     },
     "output_type": "display_data"
    }
   ],
   "source": [
    "annualModel = LinearRegression()\n",
    "annualModel.fit(msazhvi[[\"Mean Annual Temp\"]], msazhvi['2018 ZHVI'])\n",
    "print('Mean Annual Temp R-Squared: ' + str(annualModel.score(msazhvi[['Mean Annual Temp']], msazhvi['2018 ZHVI'])))\n",
    "plt.scatter(msazhvi['Mean Annual Temp'], msazhvi['2018 ZHVI'])\n",
    "plt.xlabel('Mean Annual Temp')\n",
    "plt.ylabel('2018 ZHVI')"
   ]
  },
  {
   "cell_type": "code",
   "execution_count": 44,
   "metadata": {
    "scrolled": true
   },
   "outputs": [
    {
     "name": "stdout",
     "output_type": "stream",
     "text": [
      "Temperature Range\" R-Squared: 0.24775420146027816\n"
     ]
    },
    {
     "data": {
      "text/plain": [
       "Text(0, 0.5, '2018 ZHVI')"
      ]
     },
     "execution_count": 44,
     "metadata": {},
     "output_type": "execute_result"
    },
    {
     "data": {
      "image/png": "[encoded data removed]",
      "text/plain": [
       "<Figure size 432x288 with 1 Axes>"
      ]
     },
     "metadata": {
      "needs_background": "light"
     },
     "output_type": "display_data"
    }
   ],
   "source": [
    "msazhvi[\"Temperature Range\"] = msazhvi['Mean High Temp'] - msazhvi['Mean Low Temp']\n",
    "rangeModel = LinearRegression()\n",
    "rangeModel.fit(msazhvi[[\"Temperature Range\"]], msazhvi['2018 ZHVI'])\n",
    "print('Temperature Range\" R-Squared: ' + str(rangeModel.score(msazhvi[['Temperature Range']], msazhvi['2018 ZHVI'])))\n",
    "plt.scatter(msazhvi['Temperature Range'], msazhvi['2018 ZHVI'])\n",
    "plt.xlabel('Temperature Range')\n",
    "plt.ylabel('2018 ZHVI')"
   ]
  },
  {
   "cell_type": "markdown",
   "metadata": {},
   "source": [
    "---\n",
    "## Evaluation of Significance"
   ]
  },
  {
   "cell_type": "markdown",
   "metadata": {},
   "source": [
    "# F Test\n",
    "H0: B_high = B_low = B_annual = 0\n",
    "\n",
    "HA: B_j != 0 for at least 1 value of j\n",
    "\n",
    "\n",
    "F = MSM/MSE = (SSR/DFM) / (SSE/DFE) = (Σ(yi^ - y)^2 / (p - 1)) / (Σ(yi - yi^)^2 / (n - p))\n",
    "\n",
    "n = 49 (data points)\n",
    "\n",
    "p = 4 (parameters)"
   ]
  },
  {
   "cell_type": "code",
   "execution_count": 45,
   "metadata": {},
   "outputs": [
    {
     "name": "stdout",
     "output_type": "stream",
     "text": [
      "F-Value: 21.385023087902074\n"
     ]
    }
   ],
   "source": [
    "msazhvi[\"Climate Predictions\"] = tempmodel.predict(msazhvi[[\"Mean High Temp\", \"Mean Low Temp\", \"Mean Annual Temp\"]])\n",
    "y_mean = msazhvi[\"Climate Predictions\"].mean()\n",
    "y_predictions = msazhvi[\"Climate Predictions\"].tolist()\n",
    "actual_y = msazhvi[\"2018 ZHVI\"].tolist()\n",
    "ssr = 0\n",
    "sse = 0\n",
    "for i in range(len(y_predictions) - 1):\n",
    "    ssr += (y_predictions[i] - y_mean) ** 2\n",
    "    sse += (actual_y[i] - y_predictions[i]) ** 2\n",
    "f = (ssr/3) / (sse/45)\n",
    "print(\"F-Value: \" + str(f))"
   ]
  },
  {
   "cell_type": "markdown",
   "metadata": {},
   "source": [
    "With an F-value of 21.8545, we have sufficient evidence to reject the null hypothesis at a = 0.05. Thus, we can conclude that at least one of the independent variables that make up the Climate metric in in the model is statistically significant. As such, we can conclude that there is a real, tangible relationship between how much properties are worth in a metropolitan area and the local weather patterns, which generally increases as the weather gets warmer.\n"
   ]
  },
  {
   "cell_type": "markdown",
   "metadata": {},
   "source": [
    "---\n",
    "## Interpretations"
   ]
  },
  {
   "cell_type": "markdown",
   "metadata": {},
   "source": [
    "\n",
    "### Education and Economic Factors\n",
    "\n",
    "#### Multivariate Linear Regression\n",
    "The MLR slopes from above can be interpreted as follows:\n",
    "- Every time the average percentage of the population that is at least high school educated goes up by 1 percentage point, the typical house price for that city goes up by around 3000 dollars.\n",
    "- Every time the mean income for a city goes up by 1 dollar, the typical house price increases by 5 dollars. \n",
    "- Every time the average property tax for a city increases by a dollar, the typical house price decreases by 26 dollars.\n",
    "- Finally, every time the average percent of income spent on rent increases by 1 percentage point, the typical house price for that city goes up by 227 dollars.\n",
    "\n",
    "The r^2 value from the MLR is .65, which may not seem particularly high, but it implies that there is at least some number of housing prices that can be predicted with these factors.\n",
    "\n",
    "Overall, there seems to be a relatively large positive correlation between the amount of high-school educated individuals in a city and the typical house price. However, this does not necessarily point to a causative relationship. While a better education may lead to a higher income, there is also a chance that wealthier individuals (who can afford more expensive homes), are more likely to pursue or have their children pursue a better education.\n",
    "\n",
    "The positive correlation between income and housing price, albeit small, can be explained by the idea that individuals with higher paying jobs have more disposable income. In response, housing prices could potentially increase to \"keep up\" with higher incomes.\n",
    "\n",
    "We are unsure as to why there is a negative relationship between property taxes and housing prices when performing MLR.\n",
    "\n",
    "The positive correlation between percent of income spent on rent and housing price seems relatively self-evident. The more expensive it is to rent a house, the more expensive it should be to own a house. This does not necessarily imply causation.\n",
    "\n",
    "#### Univariate Linear Regressions\n",
    "\n",
    "For the education linear regression, there seems to be a slightly positive slope with a r^2 value of .27. This doesn't seem extremely statistically significant. It seems that education has a higher correlation with housing prices when taking other factors into account.\n",
    "\n",
    "For the mean income linear regression, there seems to be a slightly positive slope with a r^2 value of .57. This is somewhat higher than the other linear regressions, which seems to imply that some housing prices can be predicted utilizing mean income.\n",
    "\n",
    "For the linear regressions of property tax and percentage of income spent on rent, there are slightly positive slopes and low r^2 values. They don't seem statistically significant.\n",
    "\n",
    "### Crime Data\n",
    "\n",
    "Both the Multivariate and Univariate Linear Regessions had relatively low r^2 values, so crime doesn't seem to be an effective predictor of housing prices.\n",
    "\n",
    "### Climate Data\n",
    "\n",
    "#### Multivariate Linear Regression\n",
    "The MLR slopes can be interpreted as follows:\n",
    "- Every time the average high temperature increases by 1 degree Fahrenheit, the housing price increases by around 3000 dollars.\n",
    "- Every time the average low temperature increases by 1 degree Fahrenheit, the housing price increases by around 16000 dollars.\n",
    "- Every time the average annual temperature increases by 1 degree Fahrenheit, the housing price decreases by around 26000 dollars.\n",
    "\n",
    "The r^2 value from the MLR is .59, which may not seem particularly high, but it implies that there is at least some number of housing prices that can be predicted by temperature. \n",
    "\n",
    "It seems that the average overall temperature has the largest slope with housing prices. If housing prices are used to determine desirability of living within a location, perhaps higher overall temperatures are less desirable, and lead to a lower price. In addition, average low temperatures also have a relatively high slope. Perhaps people care more about how cold a location has the potential to be rather than how hot a location can be. This would mean that locations with milder weather are more desirable.\n",
    "\n",
    "The univariate linear regressions did not have particularly high r^2 values, so they don't seem to be statistically significant. However, when calculating average temperature range by subtracting the mean high and mean low temperatures, there is a negative relationship with housing prices and a low r^2 value. This could potentially indicate that less variable weather is more desirable, which leads to higher house prices."
   ]
  },
  {
   "cell_type": "markdown",
   "metadata": {},
   "source": [
    "## Conclusion\n",
    "\n",
    "The strongest predictors for housing prices seem to be percentage of educated population, income, and climate."
   ]
  },
  {
   "cell_type": "markdown",
   "metadata": {},
   "source": [
    "---\n",
    "## Limitations"
   ]
  },
  {
   "cell_type": "markdown",
   "metadata": {},
   "source": [
    "Much of our data is quite interrelated (Education, Income, Taxes, etc.), so the correlations that we discover are not necessarily causative relationships. It is also difficult to interpret the Multivariate Linear Regressions with this fact in mind.\n",
    "\n",
    "There could also be limitations in the data that we have collected. Our Education and Economic data is calculated for each MSA by finding the weighted means of the individual counties that make up each MSA. There could be outliers that skew these values.\n",
    "\n",
    "We are also limited in that we somewhat arbitrarily chose factors that we thought could affect housing prices without any prior knowledge or expertise in how real estate prices can vary or change.\n"
   ]
  },
  {
   "cell_type": "markdown",
   "metadata": {},
   "source": [
    "---\n",
    "## Source Code"
   ]
  },
  {
   "cell_type": "markdown",
   "metadata": {},
   "source": [
    "[Repository](https://github.com/Wichaelian/INFO2950)"
   ]
  },
  {
   "cell_type": "markdown",
   "metadata": {},
   "source": [
    "---\n",
    "## Questions for Reviewers"
   ]
  },
  {
   "cell_type": "markdown",
   "metadata": {},
   "source": [
    "- Our data overview section shares a lot of information with our data collection and cleaning section. Should we move all the information to just one section?\n",
    "\n",
    "- When we put all of our data into the dataset, we did not take into account the difference in units between different factors. For example, some factors are percentages (rent as a percentage of income, education), while others are dollar values. We are unsure if this disparity would have an effect on our multivariate linear regressions. Should we make it so all of the factors have similar units? I.E. multiply the percentages by 100, or find the crime rate percentage instead of over 100k?\n",
    "\n",
    "- We are having trouble performing a permutation test on a multivariate linear regression. Is it possible to do? Should we even try? \n",
    "\n",
    "- Should we perform other tests like a train/test split or a bootstrap test?\n",
    "\n",
    "- We divided our multivariate linear regressions between education and economic data, climate data, and crime data. Would it be worthwhile to perform a MLR on all of the factors to predict median housing price, even though the r^2 value always increases when more factors are introduced?"
   ]
  },
  {
   "cell_type": "code",
   "execution_count": null,
   "metadata": {},
   "outputs": [],
   "source": []
  }
 ],
 "metadata": {
  "kernelspec": {
   "display_name": "Python 3",
   "language": "python",
   "name": "python3"
  },
  "language_info": {
   "codemirror_mode": {
    "name": "ipython",
    "version": 3
   },
   "file_extension": ".py",
   "mimetype": "text/x-python",
   "name": "python",
   "nbconvert_exporter": "python",
   "pygments_lexer": "ipython3",
   "version": "3.7.4"
  }
 },
 "nbformat": 4,
 "nbformat_minor": 4
}
