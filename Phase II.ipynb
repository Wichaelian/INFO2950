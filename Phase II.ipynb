{
 "cells": [
  {
   "cell_type": "markdown",
   "metadata": {},
   "source": [
    "# INFO 2950 Project Phase II"
   ]
  },
  {
   "cell_type": "markdown",
   "metadata": {},
   "source": [
    "By Colin Hoffer, Michael Wang, John Lo, and Patricio Fraga-Errecart"
   ]
  },
  {
   "cell_type": "markdown",
   "metadata": {},
   "source": [
    "---\n",
    "## Research Questions"
   ]
  },
  {
   "cell_type": "markdown",
   "metadata": {},
   "source": [
    "What sorts of factors influence housing prices in cities?\n",
    "What factors are the best for predicting housing prices within a particular city?"
   ]
  },
  {
   "cell_type": "markdown",
   "metadata": {},
   "source": [
    "---\n",
    "## Data Collection and Cleaning"
   ]
  },
  {
   "cell_type": "markdown",
   "metadata": {},
   "source": [
    "The first dataset we decided to use was the Zillow Home Value Index (found [here](https://www.zillow.com/research/data/)) which \"reflects the typical value for homes in the 35th to 65th percentile range for a given region.\" We thought this would be a good estimate of housing prices in various cities. This dataset is organized by metropolitan statistical area (MSA), which usually encompasses multiple counties surrounding a large city. We thought this would give us more accurate and varied data as opposed to using data from the cities' limits themselves. \n",
    "\n",
    "\n",
    "\n",
    "The cities we decided to focus on are: New York, NY; Boston, MA; Washington, DC; San Francisco, CA; Los Angeles, CA; Miami, FL; Louisville, KY; Cincinatti, OH; Houston, TX; Denver, CO; Chicago, IL; and Seattle, WA. We thought these choices were a good variety of climate, geography, and demographics.\n",
    "\n",
    "As for the factors that we want to compare with housing prices, we found a [useful table builder](https://data.census.gov/mdat/#/) on the US Census Website that allowed us to gather data on education completion, household income, gross rent as a percentage of income (used to estimate home affordability), and property taxes for each of the intended MSAs. Unfortunately, these tables were slightly difficult to organize due to the fact that the date could only be organized by counties or districts, not MSAs. To get around this, we downloaded the csv files and consolidated them below so that we had 1 datapoint for each category in each MSA.\n",
    "\n",
    "We also wanted to see if weather or climate had an effect on housing prices, so we utilized the [NOAA National Weather Service Website](https://w2.weather.gov/climate/) to calculate the Mean High Temperature, Mean Low Temperature, and Mean Annual Temperature in 2018 for each city. **(Data has not yet been implemented. Unsure if we should add it)** \n",
    "\n",
    "In addition to these factores, we wanted to analyze the effect of crime on housing prices. We found datasets on the [FBI website](https://ucr.fbi.gov/crime-in-the-u.s/2018/crime-in-the-u.s.-2018/topic-pages/tables/table-6) organized by MSA and year. We chose to record Violent Crime per 100k, Robbery per 100k, Property Crime per 100k, and Burglary per 100k for our our project. **Not all of our cities had data for 2018; in these cases we used data from 2017.** \n",
    "**(Data has not yet been implemented. Unsure if we should add it.)** \n",
    "\n",
    "We chose to focus on the year 2018, since it was the most recent year that was shared by all of our datasets."
   ]
  },
  {
   "cell_type": "code",
   "execution_count": 4,
   "metadata": {},
   "outputs": [],
   "source": [
    "import numpy as np\n",
    "import pandas as pd\n",
    "import matplotlib.pyplot as plt\n",
    "\n",
    "##Reading the ZHVI file and creating a base dataframe.\n",
    "msazhvi = pd.read_csv(\"MSAZHVI.csv\")\n",
    "msazhvi.head()\n",
    "\n",
    "##Averaging out the 12 months in 2018 to obtain 1 value for the entire year.\n",
    "msazhvi[\"2018 ZHVI\"] = msazhvi[\"2018-01-31\"] + msazhvi[\"2018-02-28\"] + msazhvi[\"2018-03-31\"] + msazhvi[\"2018-04-30\"] + msazhvi[\"2018-05-31\"] + msazhvi[\"2018-06-30\"] + msazhvi[\"2018-07-31\"] + msazhvi[\"2018-08-31\"] + msazhvi[\"2018-09-30\"] + msazhvi[\"2018-10-31\"] + msazhvi[\"2018-11-30\"] + msazhvi[\"2018-12-31\"]\n",
    "msazhvi[\"2018 ZHVI\"]= msazhvi[\"2018 ZHVI\"]/12\n",
    "\n",
    "##Renaming columns\n",
    "msazhvi = msazhvi[[\"RegionName\", \"2018 ZHVI\"]]\n",
    "\n",
    "##Choosing cities\n",
    "msazhvi = msazhvi[msazhvi[\"RegionName\"].isin([\"New York, NY\", \"Chicago, IL\", \"Houston, TX\", \"Boston, MA\", \"Louisville-Jefferson County, KY\", \"Cincinnati, OH\", \"Washington, DC\", \"Denver, CO\", \"San Francisco, CA\", \"Los Angeles-Long Beach-Anaheim, CA\", \"Miami-Fort Lauderdale, FL\", \"Seattle, WA\", ])]\n",
    "\n",
    "##Creating columns to be filled\n",
    "msazhvi[\"Mean HS/Equivalent Educated\"] = np.nan\n",
    "msazhvi[\"Mean Bachelor's Degree Holding\"] = np.nan\n",
    "msazhvi[\"Mean Postgraduate Educated\"] = np.nan\n",
    "msazhvi[\"Mean Income\"] = np.nan\n",
    "msazhvi[\"Mean Property Tax\"] = np.nan\n",
    "msazhvi[\"Mean Rent as a Percentage of Income\"] = np.nan"
   ]
  },
  {
   "cell_type": "code",
   "execution_count": 5,
   "metadata": {},
   "outputs": [],
   "source": [
    "##This Function consolidates the data from our education and housing data sets\n",
    "def MSA_data_frame_builder(household, education):\n",
    "    \n",
    "    ##Education data set\n",
    "    ed = pd.read_csv(education)\n",
    "    ##Housing Data Set\n",
    "    db = pd.read_csv(household)\n",
    "    \n",
    "    ##Column for percentage of population with a high school diploma\n",
    "    hs_or_equivalent = []\n",
    "    ##Column for percentage of population with a Bachelor's degree\n",
    "    bachelors = []\n",
    "    ##Column for percentage of population with a Postgraduate degree\n",
    "    postgrad = []\n",
    "    \n",
    "    ##for loop that finds the percentages of the population for each column (since the data is raw values, not divided over population)\n",
    "    for i in range(len(ed[\"Selected Geographies\"])):\n",
    "        percent = (ed[\"Regular high school diploma\"][i] + ed[\"GED or alternative credential\"][i])/ed[\"Total\"][i]\n",
    "        hs_or_equivalent.append(percent)\n",
    "        percent = ed[\"Bachelor's degree\"][i]/ ed[\"Total\"][i]\n",
    "        bachelors.append(percent)\n",
    "        percent = (ed[\"Master's degree\"][i] + ed[\"Professional degree beyond a bachelor's degree\"][i] + ed[\"Doctorate degree\"][i])/ ed[\"Total\"][i]\n",
    "        postgrad.append(percent)\n",
    "    \n",
    "    ##inserting averaged data into the data set\n",
    "    db[\"HS/Equivalent Education Percentage\"] = hs_or_equivalent\n",
    "    db[\"Bachelor's Percentage\"] = bachelors\n",
    "    db[\"Postgraduate Percentage\"] = postgrad\n",
    "    db.insert(loc=2, column=\"Total Population\", value=ed[\"Total\"])\n",
    "    return db\n",
    "\n",
    "\n",
    "##creating datasets for each of our cities\n",
    "SF = MSA_data_frame_builder(\"Michael's Data/SF.csv\", \"Michael's Data/SFEducation.csv\")\n",
    "LA = MSA_data_frame_builder(\"Michael's Data/LA.csv\", \"Michael's Data/LAEducation.csv\")\n",
    "DE = MSA_data_frame_builder(\"Michael's Data/Denver.csv\", \"Michael's Data/DenverEducation.csv\")\n",
    "\n",
    "NY = MSA_data_frame_builder(\"John's Data/NYC/NYC.csv\", \"John's Data/NYC/NYCEducation.csv\")\n",
    "BT = MSA_data_frame_builder(\"John's Data/Boston/Boston.csv\", \"John's Data/Boston/BostonEducation.csv\")\n",
    "CC = MSA_data_frame_builder(\"John's Data/Cincinnati/Cincinnati.csv\", \"John's Data/Cincinnati/CincinnatiEducation.csv\")\n",
    "\n",
    "DC = MSA_data_frame_builder(\"Patricio's Data/DC/DCHouses.csv\", \"Patricio's Data/DC/DCEducation.csv\")\n",
    "LV = MSA_data_frame_builder(\"Patricio's Data/Louisville/LouisvilleHouses.csv\", \"Patricio's Data/Louisville/LouisvilleEducation.csv\")\n",
    "ST = MSA_data_frame_builder(\"Patricio's Data/Seattle/SeattleHouses.csv\", \"Patricio's Data/Seattle/SeattleEducation.csv\")\n",
    "\n",
    "CH = MSA_data_frame_builder(\"Colin's Data/ChicagoData/Chicago.csv\", \"Colin's Data/ChicagoData/ChicagoEducation.csv\")\n",
    "HO = MSA_data_frame_builder(\"Colin's Data/HoustonData/Houston.csv\", \"Colin's Data/HoustonData/HoustonEducation.csv\")\n",
    "MI = MSA_data_frame_builder(\"Colin's Data/Miami-Ft.Lauderdale/Miami.csv\", \"Colin's Data/Miami-Ft.Lauderdale/MiamiEducation.csv\")\n"
   ]
  },
  {
   "cell_type": "code",
   "execution_count": 6,
   "metadata": {},
   "outputs": [
    {
     "data": {
      "text/html": [
       "<div>\n",
       "<style scoped>\n",
       "    .dataframe tbody tr th:only-of-type {\n",
       "        vertical-align: middle;\n",
       "    }\n",
       "\n",
       "    .dataframe tbody tr th {\n",
       "        vertical-align: top;\n",
       "    }\n",
       "\n",
       "    .dataframe thead th {\n",
       "        text-align: right;\n",
       "    }\n",
       "</style>\n",
       "<table border=\"1\" class=\"dataframe\">\n",
       "  <thead>\n",
       "    <tr style=\"text-align: right;\">\n",
       "      <th></th>\n",
       "      <th>RegionName</th>\n",
       "      <th>2018 ZHVI</th>\n",
       "      <th>Mean HS/Equivalent Educated</th>\n",
       "      <th>Mean Bachelor's Degree Holding</th>\n",
       "      <th>Mean Postgraduate Educated</th>\n",
       "      <th>Mean Income</th>\n",
       "      <th>Mean Property Tax</th>\n",
       "      <th>Mean Rent as a Percentage of Income</th>\n",
       "    </tr>\n",
       "  </thead>\n",
       "  <tbody>\n",
       "    <tr>\n",
       "      <th>1</th>\n",
       "      <td>New York, NY</td>\n",
       "      <td>4.702898e+05</td>\n",
       "      <td>0.191949</td>\n",
       "      <td>0.180329</td>\n",
       "      <td>0.123016</td>\n",
       "      <td>97641.232946</td>\n",
       "      <td>4064.339243</td>\n",
       "      <td>16.904336</td>\n",
       "    </tr>\n",
       "    <tr>\n",
       "      <th>2</th>\n",
       "      <td>Los Angeles-Long Beach-Anaheim, CA</td>\n",
       "      <td>6.584842e+05</td>\n",
       "      <td>0.161437</td>\n",
       "      <td>0.163677</td>\n",
       "      <td>0.082337</td>\n",
       "      <td>89949.963421</td>\n",
       "      <td>2458.409629</td>\n",
       "      <td>19.269835</td>\n",
       "    </tr>\n",
       "    <tr>\n",
       "      <th>3</th>\n",
       "      <td>Chicago, IL</td>\n",
       "      <td>2.363690e+05</td>\n",
       "      <td>0.192492</td>\n",
       "      <td>0.168804</td>\n",
       "      <td>0.104656</td>\n",
       "      <td>82888.935938</td>\n",
       "      <td>3580.639054</td>\n",
       "      <td>11.365745</td>\n",
       "    </tr>\n",
       "    <tr>\n",
       "      <th>6</th>\n",
       "      <td>Houston, TX</td>\n",
       "      <td>2.076934e+05</td>\n",
       "      <td>0.176815</td>\n",
       "      <td>0.138221</td>\n",
       "      <td>0.076109</td>\n",
       "      <td>74356.187856</td>\n",
       "      <td>2460.132827</td>\n",
       "      <td>12.184813</td>\n",
       "    </tr>\n",
       "    <tr>\n",
       "      <th>7</th>\n",
       "      <td>Washington, DC</td>\n",
       "      <td>4.165819e+05</td>\n",
       "      <td>0.139137</td>\n",
       "      <td>0.193117</td>\n",
       "      <td>0.180565</td>\n",
       "      <td>120560.818279</td>\n",
       "      <td>2940.142413</td>\n",
       "      <td>12.535437</td>\n",
       "    </tr>\n",
       "    <tr>\n",
       "      <th>8</th>\n",
       "      <td>Miami-Fort Lauderdale, FL</td>\n",
       "      <td>2.871426e+05</td>\n",
       "      <td>0.202726</td>\n",
       "      <td>0.159232</td>\n",
       "      <td>0.098067</td>\n",
       "      <td>59572.771936</td>\n",
       "      <td>1796.829220</td>\n",
       "      <td>14.138335</td>\n",
       "    </tr>\n",
       "    <tr>\n",
       "      <th>10</th>\n",
       "      <td>Boston, MA</td>\n",
       "      <td>4.790218e+05</td>\n",
       "      <td>0.163174</td>\n",
       "      <td>0.194791</td>\n",
       "      <td>0.159662</td>\n",
       "      <td>103301.029820</td>\n",
       "      <td>3285.172256</td>\n",
       "      <td>13.718253</td>\n",
       "    </tr>\n",
       "    <tr>\n",
       "      <th>11</th>\n",
       "      <td>San Francisco, CA</td>\n",
       "      <td>1.103116e+06</td>\n",
       "      <td>0.127812</td>\n",
       "      <td>0.229953</td>\n",
       "      <td>0.152991</td>\n",
       "      <td>131980.118375</td>\n",
       "      <td>3790.872647</td>\n",
       "      <td>14.226921</td>\n",
       "    </tr>\n",
       "    <tr>\n",
       "      <th>15</th>\n",
       "      <td>Seattle, WA</td>\n",
       "      <td>5.061742e+05</td>\n",
       "      <td>0.147645</td>\n",
       "      <td>0.197843</td>\n",
       "      <td>0.117782</td>\n",
       "      <td>102034.485722</td>\n",
       "      <td>2810.999842</td>\n",
       "      <td>13.163311</td>\n",
       "    </tr>\n",
       "    <tr>\n",
       "      <th>21</th>\n",
       "      <td>Denver, CO</td>\n",
       "      <td>4.225489e+05</td>\n",
       "      <td>0.156835</td>\n",
       "      <td>0.199444</td>\n",
       "      <td>0.114301</td>\n",
       "      <td>110434.632370</td>\n",
       "      <td>1688.723471</td>\n",
       "      <td>11.666200</td>\n",
       "    </tr>\n",
       "    <tr>\n",
       "      <th>28</th>\n",
       "      <td>Cincinnati, OH</td>\n",
       "      <td>1.728423e+05</td>\n",
       "      <td>0.230931</td>\n",
       "      <td>0.135901</td>\n",
       "      <td>0.082551</td>\n",
       "      <td>66424.547917</td>\n",
       "      <td>1619.872282</td>\n",
       "      <td>10.139453</td>\n",
       "    </tr>\n",
       "    <tr>\n",
       "      <th>43</th>\n",
       "      <td>Louisville-Jefferson County, KY</td>\n",
       "      <td>1.692404e+05</td>\n",
       "      <td>0.200339</td>\n",
       "      <td>0.120550</td>\n",
       "      <td>0.080917</td>\n",
       "      <td>58752.250144</td>\n",
       "      <td>1062.477617</td>\n",
       "      <td>9.711910</td>\n",
       "    </tr>\n",
       "  </tbody>\n",
       "</table>\n",
       "</div>"
      ],
      "text/plain": [
       "                            RegionName     2018 ZHVI  \\\n",
       "1                         New York, NY  4.702898e+05   \n",
       "2   Los Angeles-Long Beach-Anaheim, CA  6.584842e+05   \n",
       "3                          Chicago, IL  2.363690e+05   \n",
       "6                          Houston, TX  2.076934e+05   \n",
       "7                       Washington, DC  4.165819e+05   \n",
       "8            Miami-Fort Lauderdale, FL  2.871426e+05   \n",
       "10                          Boston, MA  4.790218e+05   \n",
       "11                   San Francisco, CA  1.103116e+06   \n",
       "15                         Seattle, WA  5.061742e+05   \n",
       "21                          Denver, CO  4.225489e+05   \n",
       "28                      Cincinnati, OH  1.728423e+05   \n",
       "43     Louisville-Jefferson County, KY  1.692404e+05   \n",
       "\n",
       "    Mean HS/Equivalent Educated  Mean Bachelor's Degree Holding  \\\n",
       "1                      0.191949                        0.180329   \n",
       "2                      0.161437                        0.163677   \n",
       "3                      0.192492                        0.168804   \n",
       "6                      0.176815                        0.138221   \n",
       "7                      0.139137                        0.193117   \n",
       "8                      0.202726                        0.159232   \n",
       "10                     0.163174                        0.194791   \n",
       "11                     0.127812                        0.229953   \n",
       "15                     0.147645                        0.197843   \n",
       "21                     0.156835                        0.199444   \n",
       "28                     0.230931                        0.135901   \n",
       "43                     0.200339                        0.120550   \n",
       "\n",
       "    Mean Postgraduate Educated    Mean Income  Mean Property Tax  \\\n",
       "1                     0.123016   97641.232946        4064.339243   \n",
       "2                     0.082337   89949.963421        2458.409629   \n",
       "3                     0.104656   82888.935938        3580.639054   \n",
       "6                     0.076109   74356.187856        2460.132827   \n",
       "7                     0.180565  120560.818279        2940.142413   \n",
       "8                     0.098067   59572.771936        1796.829220   \n",
       "10                    0.159662  103301.029820        3285.172256   \n",
       "11                    0.152991  131980.118375        3790.872647   \n",
       "15                    0.117782  102034.485722        2810.999842   \n",
       "21                    0.114301  110434.632370        1688.723471   \n",
       "28                    0.082551   66424.547917        1619.872282   \n",
       "43                    0.080917   58752.250144        1062.477617   \n",
       "\n",
       "    Mean Rent as a Percentage of Income  \n",
       "1                             16.904336  \n",
       "2                             19.269835  \n",
       "3                             11.365745  \n",
       "6                             12.184813  \n",
       "7                             12.535437  \n",
       "8                             14.138335  \n",
       "10                            13.718253  \n",
       "11                            14.226921  \n",
       "15                            13.163311  \n",
       "21                            11.666200  \n",
       "28                            10.139453  \n",
       "43                             9.711910  "
      ]
     },
     "execution_count": 6,
     "metadata": {},
     "output_type": "execute_result"
    }
   ],
   "source": [
    "##Function finds the weighted means of each Metropolitan Statistical Area (utilizing county data). Takes in a name and a dataframe\n",
    "def weightedMeans(location, MSAdata):\n",
    "    hs = 0\n",
    "    bach = 0\n",
    "    post = 0\n",
    "    inc = 0\n",
    "    tax = 0\n",
    "    grpip = 0\n",
    "    \n",
    "    totalHouses = MSAdata[\"Households\"].sum()\n",
    "    totalPop = MSAdata[\"Total Population\"].sum()\n",
    "    \n",
    "    for i in range(len(MSAdata.index)-1):\n",
    "        hs += MSAdata[\"HS/Equivalent Education Percentage\"][i]*MSAdata[\"Total Population\"][i]/totalPop\n",
    "        bach += MSAdata[\"Bachelor's Percentage\"][i]*MSAdata[\"Total Population\"][i]/totalPop\n",
    "        post += MSAdata[\"Postgraduate Percentage\"][i]*MSAdata[\"Total Population\"][i]/totalPop\n",
    "        inc += MSAdata[\"Household income (past 12 months, use ADJINC to adjust HINCP to constant dollars)\"][i]*MSAdata[\"Households\"][i]/totalHouses\n",
    "        tax += MSAdata[\"Property taxes (yearly real estate taxes)\"][i]*MSAdata[\"Households\"][i]/totalHouses\n",
    "        grpip += MSAdata[\"Gross rent as a percentage of household income past 12 months\"][i]*MSAdata[\"Households\"][i]/totalHouses\n",
    "    \n",
    "    msazhvi.loc[(msazhvi[\"RegionName\"] == location), \"Mean HS/Equivalent Educated\"] = hs\n",
    "    msazhvi.loc[(msazhvi[\"RegionName\"] == location), \"Mean Bachelor's Degree Holding\"] = bach\n",
    "    msazhvi.loc[(msazhvi[\"RegionName\"] == location), \"Mean Postgraduate Educated\"] = post\n",
    "    msazhvi.loc[(msazhvi[\"RegionName\"] == location), \"Mean Income\"] = inc\n",
    "    msazhvi.loc[(msazhvi[\"RegionName\"] == location), \"Mean Property Tax\"] = tax\n",
    "    msazhvi.loc[(msazhvi[\"RegionName\"] == location), \"Mean Rent as a Percentage of Income\"] = grpip\n",
    "\n",
    "weightedMeans(\"San Francisco, CA\", SF)\n",
    "weightedMeans(\"Los Angeles-Long Beach-Anaheim, CA\", LA)\n",
    "weightedMeans(\"Denver, CO\", DE)\n",
    "\n",
    "weightedMeans(\"New York, NY\", NY)\n",
    "weightedMeans(\"Boston, MA\", BT)\n",
    "weightedMeans(\"Cincinnati, OH\", CC)\n",
    "\n",
    "weightedMeans(\"Washington, DC\", DC)\n",
    "weightedMeans(\"Louisville-Jefferson County, KY\", LV)\n",
    "weightedMeans(\"Seattle, WA\", ST)\n",
    "\n",
    "weightedMeans(\"Chicago, IL\", CH)\n",
    "weightedMeans(\"Houston, TX\", HO)\n",
    "weightedMeans(\"Miami-Fort Lauderdale, FL\", MI)\n",
    "\n",
    "\n",
    "msazhvi"
   ]
  },
  {
   "cell_type": "markdown",
   "metadata": {},
   "source": [
    "---\n",
    "## Data Description"
   ]
  },
  {
   "cell_type": "markdown",
   "metadata": {},
   "source": [
    "The rows represent 12 Metropolitan Statistical Areas (MSAs) throughout different geographical regions of the US. The columns are different attributes of this MSA, including average home value, highest education attained, income, property taxes, and rent as a percent of income. This dataset was created to interpret our data easier. We had many different observations and calculations that culminated into our final data frame. All data was free and we required no funding, but it came from places like the census and .gov sources. The processes where we ignored data came from looking at the country geographically and choosing cities from diversified areas. We recorded data that we felt could have an impact on housing prices, and other metrics that may be reflective of wealthy areas. We preprocessed some data in excel to make it easier to be called on later for each city. The census did not allow multiple variables at once, so every city had 5 different downloads alone to create two .csv files for the city. People were involved and they were aware, since they had filled out the census. Our data sources are linked in the data collection section\n"
   ]
  },
  {
   "cell_type": "markdown",
   "metadata": {},
   "source": [
    "---\n",
    "## Data Limitations"
   ]
  },
  {
   "cell_type": "markdown",
   "metadata": {},
   "source": [
    "- The census data does match up with the Zillow data exactly. This is because the Zillow data was categorized by Metropolitan Statistical Area (MSA) and the census data was categorized by county. To equate the two data sets, we had to search up how the MSA's for each city were defined as counties and manually select the counties that were counted. "
   ]
  },
  {
   "cell_type": "markdown",
   "metadata": {},
   "source": [
    "---\n",
    "## Explatory Data Analysis"
   ]
  },
  {
   "cell_type": "markdown",
   "metadata": {},
   "source": [
    "A few scatterplots comparing economic factors and their correlations to typical housing price. It seems that there is a positive line of fit between typical housing price and mean income, property tax, and rent as a percentage of income."
   ]
  },
  {
   "cell_type": "code",
   "execution_count": 7,
   "metadata": {},
   "outputs": [],
   "source": [
    "import matplotlib.pyplot as plt"
   ]
  },
  {
   "cell_type": "code",
   "execution_count": 9,
   "metadata": {
    "scrolled": false
   },
   "outputs": [
    {
     "data": {
      "text/plain": [
       "Text(0.5, 1.0, 'Mean Income vs Typical Housing Price')"
      ]
     },
     "execution_count": 9,
     "metadata": {},
     "output_type": "execute_result"
    },
    {
     "data": {
      "image/png": "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\n",
      "text/plain": [
       "<Figure size 432x288 with 1 Axes>"
      ]
     },
     "metadata": {
      "needs_background": "light"
     },
     "output_type": "display_data"
    }
   ],
   "source": [
    "plt.scatter(msazhvi[\"Mean Income\"], msazhvi[\"2018 ZHVI\"])\n",
    "plt.xlabel(\"Mean Income\")\n",
    "plt.ylabel(\"Typical Housing Price\")\n",
    "plt.title(\"Mean Income vs Typical Housing Price\")"
   ]
  },
  {
   "cell_type": "code",
   "execution_count": 10,
   "metadata": {
    "scrolled": false
   },
   "outputs": [
    {
     "data": {
      "text/plain": [
       "Text(0.5, 1.0, 'Average Property Tax vs Typical Housing Price')"
      ]
     },
     "execution_count": 10,
     "metadata": {},
     "output_type": "execute_result"
    },
    {
     "data": {
      "image/png": "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\n",
      "text/plain": [
       "<Figure size 432x288 with 1 Axes>"
      ]
     },
     "metadata": {
      "needs_background": "light"
     },
     "output_type": "display_data"
    }
   ],
   "source": [
    "plt.scatter(msazhvi[\"Mean Property Tax\"], msazhvi[\"2018 ZHVI\"])\n",
    "plt.xlabel(\"Average Property Tax\")\n",
    "plt.ylabel(\"Typical Housing Price\")\n",
    "plt.title(\"Average Property Tax vs Typical Housing Price\")"
   ]
  },
  {
   "cell_type": "code",
   "execution_count": 11,
   "metadata": {
    "scrolled": true
   },
   "outputs": [
    {
     "data": {
      "text/plain": [
       "Text(0.5, 1.0, 'Mean Rent as a Percentage of Income vs Typical Housing Price')"
      ]
     },
     "execution_count": 11,
     "metadata": {},
     "output_type": "execute_result"
    },
    {
     "data": {
      "image/png": "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\n",
      "text/plain": [
       "<Figure size 432x288 with 1 Axes>"
      ]
     },
     "metadata": {
      "needs_background": "light"
     },
     "output_type": "display_data"
    }
   ],
   "source": [
    "plt.scatter(msazhvi[\"Mean Rent as a Percentage of Income\"], msazhvi[\"2018 ZHVI\"])\n",
    "plt.xlabel(\"Mean Rent as a Percentage of Income\")\n",
    "plt.ylabel(\"Typical Housing Price\")\n",
    "plt.title(\"Mean Rent as a Percentage of Income vs Typical Housing Price\")"
   ]
  },
  {
   "cell_type": "markdown",
   "metadata": {},
   "source": [
    "The following are a few pearson correlations of two factors compared to typical housing price. It seems that there is a high negative correlation between housing price and the percentage of the population with a high school diploma. Conversely, there seems to be a high correlation between housing price and percentage of population that has a bachelor's degree. "
   ]
  },
  {
   "cell_type": "code",
   "execution_count": 13,
   "metadata": {
    "scrolled": false
   },
   "outputs": [
    {
     "name": "stdout",
     "output_type": "stream",
     "text": [
      "Pearson Correlation:                              2018 ZHVI  Mean HS/Equivalent Educated\n",
      "2018 ZHVI                      1.00000                     -0.74545\n",
      "Mean HS/Equivalent Educated   -0.74545                      1.00000\n"
     ]
    }
   ],
   "source": [
    "correlation = msazhvi.loc[:,[\"2018 ZHVI\",\"Mean HS/Equivalent Educated\"]]\n",
    "\n",
    "print(f\"Pearson Correlation: {correlation.corr()}\")"
   ]
  },
  {
   "cell_type": "code",
   "execution_count": 14,
   "metadata": {},
   "outputs": [
    {
     "name": "stdout",
     "output_type": "stream",
     "text": [
      "Pearson Correlation:                                 2018 ZHVI  Mean Bachelor's Degree Holding\n",
      "2018 ZHVI                        1.000000                        0.792884\n",
      "Mean Bachelor's Degree Holding   0.792884                        1.000000\n"
     ]
    }
   ],
   "source": [
    "correlation = msazhvi.loc[:,[\"2018 ZHVI\",\"Mean Bachelor's Degree Holding\"]]\n",
    "\n",
    "print(f\"Pearson Correlation: {correlation.corr()}\")"
   ]
  },
  {
   "cell_type": "markdown",
   "metadata": {},
   "source": [
    "---\n",
    "## Questions for Reviewers"
   ]
  },
  {
   "cell_type": "markdown",
   "metadata": {},
   "source": [
    "- Is having crime and weather data too much to analyze considering all the other data we gathered? None of this data is included in the exploratory data analysis because we did not have enough time to fully format it. This data is however reputable and interesting to us.\n",
    "- What other sorts of data analysis would you recommend we perform considering the data we have here?"
    "- Do we have too few cities?"
    "- Are there any other potential factors that you believe we could connect to housing prices?"
    "- Conversely, do you think any of the factors we currently have are not useful/interesting for our research question?"
    "- Was our idea to use MSAs instead of actual city limits a good one?"
   ]
  },
  {
   "cell_type": "code",
   "execution_count": null,
   "metadata": {},
   "outputs": [],
   "source": []
  }
 ],
 "metadata": {
  "kernelspec": {
   "display_name": "Python 3",
   "language": "python",
   "name": "python3"
  },
  "language_info": {
   "codemirror_mode": {
    "name": "ipython",
    "version": 3
   },
   "file_extension": ".py",
   "mimetype": "text/x-python",
   "name": "python",
   "nbconvert_exporter": "python",
   "pygments_lexer": "ipython3",

   "version": "3.7.9"
  }
 },
 "nbformat": 4,
 "nbformat_minor": 4
}
