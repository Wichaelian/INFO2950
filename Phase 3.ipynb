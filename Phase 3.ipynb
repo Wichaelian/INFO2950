{
 "cells": [
  {
   "cell_type": "markdown",
   "metadata": {},
   "source": [
    "# INFO 2950 Project Phase III"
   ]
  },
  {
   "cell_type": "markdown",
   "metadata": {},
   "source": [
    "Analysis Number 1: Multivariable linear regression predicting housing prices based on all factors. Similar to HW 6, we will try to combine education level, mean income, mean property tax, mean rent as percent of income, temperature, and crime to determine if we are able to get an accurate model to predict housing prices of our Metropolitan Statistical Areas. We will then compare our prediction to the actual prices. We will display the coefficients of each predictor and the R^2 for the entire set. From this data, we will select the variables that are the most valid predictors and graph a 3D scatterplot showing our predictions."
   ]
  },
  {
   "cell_type": "markdown",
   "metadata": {},
   "source": [
    "Analysis Number 2: We pick the strongest correlated variables from Analysis 1 (say for example r^2 greater than 0.8), and perform a permutation test on these variables to see if these relations are generalizable. In this case, the permutation test would involve dividing the variables into different groups and calculating a test statistic = mean_group1 - mean_group2. We shuffle our assignments and obtain a distribution of test statistics to give some context to our own value."
   ]
  },
  {
   "cell_type": "markdown",
   "metadata": {},
   "source": [
    "## Questions for Reviewers:"
   ]
  },
  {
   "cell_type": "markdown",
   "metadata": {},
   "source": [
    "How do we deal with predictors that may be correlated with each other? For example, income and education are probably correlated to some degree. Would this then cause our prediction to account for something twice?\n",
    "\n",
    "How will we be able to tell if our analyses are significant or useful? What would happen if our correlations are not high, but not extremely low, for example?"
   ]
  }
 ],
 "metadata": {
  "kernelspec": {
   "display_name": "Python 3",
   "language": "python",
   "name": "python3"
  },
  "language_info": {
   "codemirror_mode": {
    "name": "ipython",
    "version": 3
   },
   "file_extension": ".py",
   "mimetype": "text/x-python",
   "name": "python",
   "nbconvert_exporter": "python",
   "pygments_lexer": "ipython3",
   "version": "3.7.9"
  }
 },
 "nbformat": 4,
 "nbformat_minor": 4
}
