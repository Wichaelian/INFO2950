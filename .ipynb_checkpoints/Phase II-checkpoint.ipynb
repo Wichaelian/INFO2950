{
 "cells": [
  {
   "cell_type": "markdown",
   "metadata": {},
   "source": [
    "# INFO 2950 Project Phase II"
   ]
  },
  {
   "cell_type": "markdown",
   "metadata": {},
   "source": [
    "By Colin Hoffer, Michael Wang, John Lo, and Patricio Fraga-Errecart"
   ]
  },
  {
   "cell_type": "markdown",
   "metadata": {},
   "source": [
    "---\n",
    "## Research Questions"
   ]
  },
  {
   "cell_type": "markdown",
   "metadata": {},
   "source": [
    "The effects of various factors (education, taxes, income) on average housing prices.\n",
    "What factors are the best for predicting housing prices within a particular city?"
   ]
  },
  {
   "cell_type": "markdown",
   "metadata": {},
   "source": [
    "---\n",
    "## Data Collection and Cleaning"
   ]
  },
  {
   "cell_type": "markdown",
   "metadata": {},
   "source": [
    "The first dataset we decided to use was the Zillow Home Value Index (found [here](https://www.zillow.com/research/data/)) which \"reflects the typical value for homes in the 35th to 65th percentile range for a given region.\" We thought this would be a good estimate of housing prices in various cities. This dataset is organized by metropolitan statistical area (MSA), which usually encompasses multiple counties surrounding a large city. We thought this would give us more accurate and varied data as opposed to using data from the cities' limits themselves. \n",
    "\n",
    "\n",
    "\n",
    "The cities we decided to focus on are: New York, NY; Boston, MA; Washington, DC; San Francisco, CA; Los Angeles, CA; Miami, FL; Louisville, KY; Cincinatti, OH; Houston, TX; Denver, CO; Chicago, IL; and Seattle, WA. We thought these choices were a good variety of climate, geography, and demographics.\n",
    "\n",
    "As for the factors that we want to compare with housing prices, we found a [useful table builder](https://data.census.gov/mdat/#/) on the US Census Website that allowed us to gather data on education completion, household income, gross rent as a percentage of income (used to estimate home affordability), and property taxes for each of the intended MSAs. Unfortunately, these tables were slightly difficult to organize due to the fact that the date could only be organized by counties or districts, not MSAs. To get around this, we downloaded the csv files and consolidated them below so that we had 1 datapoint for each category in each MSA.\n",
    "\n",
    "We also wanted to see if weather or climate had an effect on housing prices, so we utilized the [NOAA National Weather Service Website](https://w2.weather.gov/climate/) to calculate the Mean High Temperature, Mean Low Temperature, and Mean Annual Temperature in 2018 for each city. **We manually inputted this data into our final dataset. (Temporary? Might change)** \n",
    "\n",
    "In addition to these factores, we wanted to analyze the effect of crime on housing prices. We found datasets on the [FBI website](https://ucr.fbi.gov/crime-in-the-u.s/2018/crime-in-the-u.s.-2018/topic-pages/tables/table-6) organized by MSA and year. We chose to record Violent Crime per 100k, Robbery per 100k, Property Crime per 100k, and Burglary per 100k for our our project. **Not all of our cities had data for 2018; in these cases we used data from 2017.** \n",
    "**We manually inputted this data into our final dataset. (Temporary? Might change)** \n",
    "\n",
    "We chose to focus on the year 2018, since it was the most recent year that was shared by all of our datasets."
   ]
  },
  {
   "cell_type": "code",
   "execution_count": 15,
   "metadata": {},
   "outputs": [],
   "source": [
    "import numpy as np\n",
    "import pandas as pd\n",
    "import matplotlib.pyplot as plt\n",
    "msazhvi = pd.read_csv(\"MSAZHVI.csv\")\n",
    "msazhvi.head()\n",
    "msazhvi[\"2018 ZHVI\"] = msazhvi[\"2018-01-31\"] + msazhvi[\"2018-02-28\"] + msazhvi[\"2018-03-31\"] + msazhvi[\"2018-04-30\"] + msazhvi[\"2018-05-31\"] + msazhvi[\"2018-06-30\"] + msazhvi[\"2018-07-31\"] + msazhvi[\"2018-08-31\"] + msazhvi[\"2018-09-30\"] + msazhvi[\"2018-10-31\"] + msazhvi[\"2018-11-30\"] + msazhvi[\"2018-12-31\"]\n",
    "msazhvi[\"2018 ZHVI\"]= msazhvi[\"2018 ZHVI\"]/12\n",
    "msazhvi = msazhvi[[\"RegionName\", \"2018 ZHVI\"]]\n",
    "msazhvi = msazhvi[msazhvi[\"RegionName\"].isin([\"New York, NY\", \"Chicago, IL\", \"Houston, TX\", \"Boston, MA\", \"Louisville-Jefferson County, KY\", \"Cincinnati, OH\", \"Washington, DC\", \"Denver, CO\", \"San Francisco, CA\", \"Los Angeles-Long Beach-Anaheim, CA\", \"Miami-Fort Lauderdale, FL\", \"Seattle, WA\", ])]\n",
    "msazhvi[\"Mean HS/Equivalent Educated\"] = np.nan\n",
    "msazhvi[\"Mean Bachelor's Degree Holding\"] = np.nan\n",
    "msazhvi[\"Mean Postgraduate Educated\"] = np.nan\n",
    "msazhvi[\"Mean Income\"] = np.nan\n",
    "msazhvi[\"Mean Property Tax\"] = np.nan\n",
    "msazhvi[\"Mean Rent as a Percentage of Income\"] = np.nan"
   ]
  },
  {
   "cell_type": "code",
   "execution_count": 19,
   "metadata": {},
   "outputs": [],
   "source": [
    "def MSA_data_frame_builder(household, education):\n",
    "    ed = pd.read_csv(education)\n",
    "    db = pd.read_csv(household)\n",
    "    hs_or_equivalent = []\n",
    "    bachelors = []\n",
    "    postgrad = []\n",
    "    for i in range(len(ed[\"Selected Geographies\"])):\n",
    "        percent = (ed[\"Regular high school diploma\"][i] + ed[\"GED or alternative credential\"][i])/ed[\"Total\"][i]\n",
    "        hs_or_equivalent.append(percent)\n",
    "        percent = ed[\"Bachelor's degree\"][i]/ ed[\"Total\"][i]\n",
    "        bachelors.append(percent)\n",
    "        percent = (ed[\"Master's degree\"][i] + ed[\"Professional degree beyond a bachelor's degree\"][i] + ed[\"Doctorate degree\"][i])/ ed[\"Total\"][i]\n",
    "        postgrad.append(percent)\n",
    "    db[\"HS/Equivalent Education Percentage\"] = hs_or_equivalent\n",
    "    db[\"Bachelor's Percentage\"] = bachelors\n",
    "    db[\"Postgraduate Percentage\"] = postgrad\n",
    "    db.insert(loc=2, column=\"Total Population\", value=ed[\"Total\"])\n",
    "    return db\n",
    "\n",
    "\n",
    "SF = MSA_data_frame_builder(\"Michael's Data/SF.csv\", \"Michael's Data/SFEducation.csv\")\n",
    "LA = MSA_data_frame_builder(\"Michael's Data/LA.csv\", \"Michael's Data/LAEducation.csv\")\n",
    "DE = MSA_data_frame_builder(\"Michael's Data/Denver.csv\", \"Michael's Data/DenverEducation.csv\")\n",
    "\n",
    "NY = MSA_data_frame_builder(\"John's Data/NYC/NYC.csv\", \"John's Data/NYC/NYCEducation.csv\")\n",
    "BT = MSA_data_frame_builder(\"John's Data/Boston/Boston.csv\", \"John's Data/Boston/BostonEducation.csv\")\n",
    "CC = MSA_data_frame_builder(\"John's Data/Cincinnati/Cincinnati.csv\", \"John's Data/Cincinnati/CincinnatiEducation.csv\")\n",
    "\n",
    "DC = MSA_data_frame_builder(\"Patricio's Data/DC/DCHouses.csv\", \"Patricio's Data/DC/DCEducation.csv\")\n",
    "LV = MSA_data_frame_builder(\"Patricio's Data/Louisville/LouisvilleHouses.csv\", \"Patricio's Data/Louisville/LouisvilleEducation.csv\")\n",
    "ST = MSA_data_frame_builder(\"Patricio's Data/Seattle/SeattleHouses.csv\", \"Patricio's Data/Seattle/SeattleEducation.csv\")\n",
    "\n",
    "CH = MSA_data_frame_builder(\"Colin's Data/ChicagoData/Chicago.csv\", \"Colin's Data/ChicagoData/ChicagoEducation.csv\")\n",
    "HO = MSA_data_frame_builder(\"Colin's Data/HoustonData/Houston.csv\", \"Colin's Data/HoustonData/HoustonEducation.csv\")\n",
    "MI = MSA_data_frame_builder(\"Colin's Data/Miami-Ft.Lauderdale/Miami.csv\", \"Colin's Data/Miami-Ft.Lauderdale/MiamiEducation.csv\")\n"
   ]
  },
  {
   "cell_type": "code",
   "execution_count": 22,
   "metadata": {},
   "outputs": [
    {
     "data": {
      "text/html": [
       "<div>\n",
       "<style scoped>\n",
       "    .dataframe tbody tr th:only-of-type {\n",
       "        vertical-align: middle;\n",
       "    }\n",
       "\n",
       "    .dataframe tbody tr th {\n",
       "        vertical-align: top;\n",
       "    }\n",
       "\n",
       "    .dataframe thead th {\n",
       "        text-align: right;\n",
       "    }\n",
       "</style>\n",
       "<table border=\"1\" class=\"dataframe\">\n",
       "  <thead>\n",
       "    <tr style=\"text-align: right;\">\n",
       "      <th></th>\n",
       "      <th>RegionName</th>\n",
       "      <th>2018 ZHVI</th>\n",
       "      <th>Mean HS/Equivalent Educated</th>\n",
       "      <th>Mean Bachelor's Degree Holding</th>\n",
       "      <th>Mean Postgraduate Educated</th>\n",
       "      <th>Mean Income</th>\n",
       "      <th>Mean Property Tax</th>\n",
       "      <th>Mean Rent as a Percentage of Income</th>\n",
       "    </tr>\n",
       "  </thead>\n",
       "  <tbody>\n",
       "    <tr>\n",
       "      <th>1</th>\n",
       "      <td>New York, NY</td>\n",
       "      <td>4.702898e+05</td>\n",
       "      <td>0.191949</td>\n",
       "      <td>0.180329</td>\n",
       "      <td>0.123016</td>\n",
       "      <td>97641.232946</td>\n",
       "      <td>4064.339243</td>\n",
       "      <td>16.904336</td>\n",
       "    </tr>\n",
       "    <tr>\n",
       "      <th>2</th>\n",
       "      <td>Los Angeles-Long Beach-Anaheim, CA</td>\n",
       "      <td>6.584842e+05</td>\n",
       "      <td>0.161437</td>\n",
       "      <td>0.163677</td>\n",
       "      <td>0.082337</td>\n",
       "      <td>89949.963421</td>\n",
       "      <td>2458.409629</td>\n",
       "      <td>19.269835</td>\n",
       "    </tr>\n",
       "    <tr>\n",
       "      <th>3</th>\n",
       "      <td>Chicago, IL</td>\n",
       "      <td>2.363690e+05</td>\n",
       "      <td>0.192492</td>\n",
       "      <td>0.168804</td>\n",
       "      <td>0.104656</td>\n",
       "      <td>82888.935938</td>\n",
       "      <td>3580.639054</td>\n",
       "      <td>11.365745</td>\n",
       "    </tr>\n",
       "    <tr>\n",
       "      <th>6</th>\n",
       "      <td>Houston, TX</td>\n",
       "      <td>2.076934e+05</td>\n",
       "      <td>0.176815</td>\n",
       "      <td>0.138221</td>\n",
       "      <td>0.076109</td>\n",
       "      <td>74356.187856</td>\n",
       "      <td>2460.132827</td>\n",
       "      <td>12.184813</td>\n",
       "    </tr>\n",
       "    <tr>\n",
       "      <th>7</th>\n",
       "      <td>Washington, DC</td>\n",
       "      <td>4.165819e+05</td>\n",
       "      <td>0.139137</td>\n",
       "      <td>0.193117</td>\n",
       "      <td>0.180565</td>\n",
       "      <td>120560.818279</td>\n",
       "      <td>2940.142413</td>\n",
       "      <td>12.535437</td>\n",
       "    </tr>\n",
       "    <tr>\n",
       "      <th>8</th>\n",
       "      <td>Miami-Fort Lauderdale, FL</td>\n",
       "      <td>2.871426e+05</td>\n",
       "      <td>0.202726</td>\n",
       "      <td>0.159232</td>\n",
       "      <td>0.098067</td>\n",
       "      <td>59572.771936</td>\n",
       "      <td>1796.829220</td>\n",
       "      <td>14.138335</td>\n",
       "    </tr>\n",
       "    <tr>\n",
       "      <th>10</th>\n",
       "      <td>Boston, MA</td>\n",
       "      <td>4.790218e+05</td>\n",
       "      <td>0.163174</td>\n",
       "      <td>0.194791</td>\n",
       "      <td>0.159662</td>\n",
       "      <td>103301.029820</td>\n",
       "      <td>3285.172256</td>\n",
       "      <td>13.718253</td>\n",
       "    </tr>\n",
       "    <tr>\n",
       "      <th>11</th>\n",
       "      <td>San Francisco, CA</td>\n",
       "      <td>1.103116e+06</td>\n",
       "      <td>0.127812</td>\n",
       "      <td>0.229953</td>\n",
       "      <td>0.152991</td>\n",
       "      <td>131980.118375</td>\n",
       "      <td>3790.872647</td>\n",
       "      <td>14.226921</td>\n",
       "    </tr>\n",
       "    <tr>\n",
       "      <th>15</th>\n",
       "      <td>Seattle, WA</td>\n",
       "      <td>5.061742e+05</td>\n",
       "      <td>0.147645</td>\n",
       "      <td>0.197843</td>\n",
       "      <td>0.117782</td>\n",
       "      <td>102034.485722</td>\n",
       "      <td>2810.999842</td>\n",
       "      <td>13.163311</td>\n",
       "    </tr>\n",
       "    <tr>\n",
       "      <th>21</th>\n",
       "      <td>Denver, CO</td>\n",
       "      <td>4.225489e+05</td>\n",
       "      <td>0.156835</td>\n",
       "      <td>0.199444</td>\n",
       "      <td>0.114301</td>\n",
       "      <td>110434.632370</td>\n",
       "      <td>1688.723471</td>\n",
       "      <td>11.666200</td>\n",
       "    </tr>\n",
       "    <tr>\n",
       "      <th>28</th>\n",
       "      <td>Cincinnati, OH</td>\n",
       "      <td>1.728423e+05</td>\n",
       "      <td>0.230931</td>\n",
       "      <td>0.135901</td>\n",
       "      <td>0.082551</td>\n",
       "      <td>66424.547917</td>\n",
       "      <td>1619.872282</td>\n",
       "      <td>10.139453</td>\n",
       "    </tr>\n",
       "    <tr>\n",
       "      <th>43</th>\n",
       "      <td>Louisville-Jefferson County, KY</td>\n",
       "      <td>1.692404e+05</td>\n",
       "      <td>0.200339</td>\n",
       "      <td>0.120550</td>\n",
       "      <td>0.080917</td>\n",
       "      <td>58752.250144</td>\n",
       "      <td>1062.477617</td>\n",
       "      <td>9.711910</td>\n",
       "    </tr>\n",
       "  </tbody>\n",
       "</table>\n",
       "</div>"
      ],
      "text/plain": [
       "                            RegionName     2018 ZHVI  \\\n",
       "1                         New York, NY  4.702898e+05   \n",
       "2   Los Angeles-Long Beach-Anaheim, CA  6.584842e+05   \n",
       "3                          Chicago, IL  2.363690e+05   \n",
       "6                          Houston, TX  2.076934e+05   \n",
       "7                       Washington, DC  4.165819e+05   \n",
       "8            Miami-Fort Lauderdale, FL  2.871426e+05   \n",
       "10                          Boston, MA  4.790218e+05   \n",
       "11                   San Francisco, CA  1.103116e+06   \n",
       "15                         Seattle, WA  5.061742e+05   \n",
       "21                          Denver, CO  4.225489e+05   \n",
       "28                      Cincinnati, OH  1.728423e+05   \n",
       "43     Louisville-Jefferson County, KY  1.692404e+05   \n",
       "\n",
       "    Mean HS/Equivalent Educated  Mean Bachelor's Degree Holding  \\\n",
       "1                      0.191949                        0.180329   \n",
       "2                      0.161437                        0.163677   \n",
       "3                      0.192492                        0.168804   \n",
       "6                      0.176815                        0.138221   \n",
       "7                      0.139137                        0.193117   \n",
       "8                      0.202726                        0.159232   \n",
       "10                     0.163174                        0.194791   \n",
       "11                     0.127812                        0.229953   \n",
       "15                     0.147645                        0.197843   \n",
       "21                     0.156835                        0.199444   \n",
       "28                     0.230931                        0.135901   \n",
       "43                     0.200339                        0.120550   \n",
       "\n",
       "    Mean Postgraduate Educated    Mean Income  Mean Property Tax  \\\n",
       "1                     0.123016   97641.232946        4064.339243   \n",
       "2                     0.082337   89949.963421        2458.409629   \n",
       "3                     0.104656   82888.935938        3580.639054   \n",
       "6                     0.076109   74356.187856        2460.132827   \n",
       "7                     0.180565  120560.818279        2940.142413   \n",
       "8                     0.098067   59572.771936        1796.829220   \n",
       "10                    0.159662  103301.029820        3285.172256   \n",
       "11                    0.152991  131980.118375        3790.872647   \n",
       "15                    0.117782  102034.485722        2810.999842   \n",
       "21                    0.114301  110434.632370        1688.723471   \n",
       "28                    0.082551   66424.547917        1619.872282   \n",
       "43                    0.080917   58752.250144        1062.477617   \n",
       "\n",
       "    Mean Rent as a Percentage of Income  \n",
       "1                             16.904336  \n",
       "2                             19.269835  \n",
       "3                             11.365745  \n",
       "6                             12.184813  \n",
       "7                             12.535437  \n",
       "8                             14.138335  \n",
       "10                            13.718253  \n",
       "11                            14.226921  \n",
       "15                            13.163311  \n",
       "21                            11.666200  \n",
       "28                            10.139453  \n",
       "43                             9.711910  "
      ]
     },
     "execution_count": 22,
     "metadata": {},
     "output_type": "execute_result"
    }
   ],
   "source": [
    "def weightedMeans(location, MSAdata):\n",
    "    hs = 0\n",
    "    bach = 0\n",
    "    post = 0\n",
    "    inc = 0\n",
    "    tax = 0\n",
    "    grpip = 0\n",
    "    \n",
    "    totalHouses = MSAdata[\"Households\"].sum()\n",
    "    totalPop = MSAdata[\"Total Population\"].sum()\n",
    "    \n",
    "    for i in range(len(MSAdata.index)-1):\n",
    "        hs += MSAdata[\"HS/Equivalent Education Percentage\"][i]*MSAdata[\"Total Population\"][i]/totalPop\n",
    "        bach += MSAdata[\"Bachelor's Percentage\"][i]*MSAdata[\"Total Population\"][i]/totalPop\n",
    "        post += MSAdata[\"Postgraduate Percentage\"][i]*MSAdata[\"Total Population\"][i]/totalPop\n",
    "        inc += MSAdata[\"Household income (past 12 months, use ADJINC to adjust HINCP to constant dollars)\"][i]*MSAdata[\"Households\"][i]/totalHouses\n",
    "        tax += MSAdata[\"Property taxes (yearly real estate taxes)\"][i]*MSAdata[\"Households\"][i]/totalHouses\n",
    "        grpip += MSAdata[\"Gross rent as a percentage of household income past 12 months\"][i]*MSAdata[\"Households\"][i]/totalHouses\n",
    "    \n",
    "    msazhvi.loc[(msazhvi[\"RegionName\"] == location), \"Mean HS/Equivalent Educated\"] = hs\n",
    "    msazhvi.loc[(msazhvi[\"RegionName\"] == location), \"Mean Bachelor's Degree Holding\"] = bach\n",
    "    msazhvi.loc[(msazhvi[\"RegionName\"] == location), \"Mean Postgraduate Educated\"] = post\n",
    "    msazhvi.loc[(msazhvi[\"RegionName\"] == location), \"Mean Income\"] = inc\n",
    "    msazhvi.loc[(msazhvi[\"RegionName\"] == location), \"Mean Property Tax\"] = tax\n",
    "    msazhvi.loc[(msazhvi[\"RegionName\"] == location), \"Mean Rent as a Percentage of Income\"] = grpip\n",
    "\n",
    "weightedMeans(\"San Francisco, CA\", SF)\n",
    "weightedMeans(\"Los Angeles-Long Beach-Anaheim, CA\", LA)\n",
    "weightedMeans(\"Denver, CO\", DE)\n",
    "\n",
    "weightedMeans(\"New York, NY\", NY)\n",
    "weightedMeans(\"Boston, MA\", BT)\n",
    "weightedMeans(\"Cincinnati, OH\", CC)\n",
    "\n",
    "weightedMeans(\"Washington, DC\", DC)\n",
    "weightedMeans(\"Louisville-Jefferson County, KY\", LV)\n",
    "weightedMeans(\"Seattle, WA\", ST)\n",
    "\n",
    "weightedMeans(\"Chicago, IL\", CH)\n",
    "weightedMeans(\"Houston, TX\", HO)\n",
    "weightedMeans(\"Miami-Fort Lauderdale, FL\", MI)\n",
    "\n",
    "\n",
    "msazhvi"
   ]
  },
  {
   "cell_type": "markdown",
   "metadata": {},
   "source": [
    "---\n",
    "## Data Description"
   ]
  },
  {
   "cell_type": "markdown",
   "metadata": {},
   "source": [
    "The rows represent 12 Metropolitan Statistical Areas (MSAs) throughout different geographical regions of the US. The columns are different attributes of this MSA, including average home value, highest education attained, income, property taxes, and rent as a percent of income. This dataset was created to interpret our data easier. We had many different observations and calculations that culminated into our final data frame. All data was free and we required no funding, but it came from places like the census and .gov sources. The processes where we ignored data came from looking at the country geographically and choosing cities from diversified areas. We recorded data that we felt could have an impact on housing prices, and other metrics that may be reflective of wealthy areas. We preprocessed some data in excel to make it easier to be called on later for each city. The census did not allow multiple variables at once, so every city had 5 different downloads alone to create two .csv files for the city. People were involved and they were aware, since they had filled out the census. Our data sources are linked in the data collection section\n"
   ]
  },
  {
   "cell_type": "markdown",
   "metadata": {},
   "source": [
    "---\n",
    "## Data Limitations"
   ]
  },
  {
   "cell_type": "markdown",
   "metadata": {},
   "source": [
    "- The census data does match up with the Zillow data exactly. This is because the Zillow data was categorized by Metropolitan Statistical Area (MSA) and the census data was categorized by county. To equate the two data sets, we had to search up how the MSA's for each city were defined as counties and manually select the counties that were counted. "
   ]
  },
  {
   "cell_type": "markdown",
   "metadata": {},
   "source": [
    "---\n",
    "## Explatory Data Analysis"
   ]
  },
  {
   "cell_type": "code",
   "execution_count": 23,
   "metadata": {},
   "outputs": [
    {
     "data": {
      "text/plain": [
       "Text(0.5, 1.0, 'Mean Income vs Typical Housing Price')"
      ]
     },
     "execution_count": 23,
     "metadata": {},
     "output_type": "execute_result"
    },
    {
     "data": {
      "image/png": "[encoded data removed]",
      "text/plain": [
       "<Figure size 432x288 with 1 Axes>"
      ]
     },
     "metadata": {
      "needs_background": "light"
     },
     "output_type": "display_data"
    }
   ],
   "source": [
    "plt.scatter(msazhvi[\"Mean Income\"], msazhvi[\"2018 ZHVI\"], alpha=0.3)\n",
    "plt.xlabel(\"Mean Income\")\n",
    "plt.ylabel(\"Typical Housing Price\")\n",
    "plt.title(\"Mean Income vs Typical Housing Price\")"
   ]
  },
  {
   "cell_type": "markdown",
   "metadata": {},
   "source": [
    "---\n",
    "## Questions for Reviewers"
   ]
  },
  {
   "cell_type": "markdown",
   "metadata": {},
   "source": [
    "- Is having crime and weather data too much to analyze considering all the other data we gathered"
   ]
  }
 ],
 "metadata": {
  "kernelspec": {
   "display_name": "Python 3",
   "language": "python",
   "name": "python3"
  },
  "language_info": {
   "codemirror_mode": {
    "name": "ipython",
    "version": 3
   },
   "file_extension": ".py",
   "mimetype": "text/x-python",
   "name": "python",
   "nbconvert_exporter": "python",
   "pygments_lexer": "ipython3",
   "version": "3.7.9"
  }
 },
 "nbformat": 4,
 "nbformat_minor": 4
}
