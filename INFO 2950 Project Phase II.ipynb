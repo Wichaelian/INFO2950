{
 "cells": [
  {
   "cell_type": "markdown",
   "metadata": {},
   "source": [
    "# INFO 2950 Project Phase II \n",
    "By Colin Hoffer, Michael Wang, John Lo, and Patricio Fraga-Errecart"
   ]
  },
  {
   "cell_type": "markdown",
   "metadata": {},
   "source": [
    "---\n",
    "## Research Questions"
   ]
  },
  {
   "cell_type": "markdown",
   "metadata": {},
   "source": [
    " The effects of various factors (education, taxes, income) on housing prices.\n",
    " What factors are the best for predicting housing prices within a particular county?"
   ]
  },
  {
   "cell_type": "markdown",
   "metadata": {},
   "source": [
    "---\n",
    "## Data Collection and Cleaning"
   ]
  },
  {
   "cell_type": "markdown",
   "metadata": {},
   "source": [
    "The first dataset we decided to use was the Zillow Home Value Index (found [here](https://www.zillow.com/research/data/)) which \"reflects the typical value for homes in the 35th to 65th percentile range for a given region.\" We thought this would be a good estimate of housing prices in various cities. This dataset is organized by metropolitan statistical area (MSA), which usually encompasses multiple counties surrounding a large city. We thought this would give us more accurate and varied data as opposed to using data from the cities' limits themselves. \n",
    "\n",
    "\n",
    "\n",
    "The cities we decided to focus on are: New York, NY; Boston, MA; Washington, DC; San Francisco, CA; Los Angeles, CA; Miami, FL; Louisville, KY; Cincinatti, OH; Houston, TX; Denver, CO; Chicago, IL; and Seattle, WA. We thought these choices were a good variety of climate, geography, and demographics.\n",
    "\n",
    "As for the factors that we want to compare with housing prices, we found a [useful table builder](https://data.census.gov/mdat/#/) on the US Census Website that allowed us to gather data on education completion, household income, gross rent as a percentage of income (used to estimate home affordability), and property taxes for each of the intended MSAs. Unfortunately, these tables were slightly difficult to organize due to the fact that the date could only be organized by counties or districts, not MSAs. To get around this, we downloaded the csv files and consolidated them below so that we had 1 datapoint for each category in each MSA.\n",
    "\n",
    "We also wanted to see if weather or climate had an effect on housing prices, so we utilized the [NOAA National Weather Service Website](https://w2.weather.gov/climate/) to calculate the Mean High Temperature, Mean Low Temperature, and Mean Annual Temperature in 2018 for each city. **We manually inputted this data into our final dataset. (Temporary? Might change)** \n",
    "\n",
    "In addition to these factores, we wanted to analyze the effect of crime on housing prices. We found datasets on the [FBI website](https://ucr.fbi.gov/crime-in-the-u.s/2018/crime-in-the-u.s.-2018/topic-pages/tables/table-6) organized by MSA and year. We chose to record Violent Crime per 100k, Robbery per 100k, Property Crime per 100k, and Burglary per 100k for our our project. **Not all of our cities had data for 2018; in these cases we used data from 2017.** \n",
    "**We manually inputted this data into our final dataset. (Temporary? Might change)** \n",
    "\n",
    "We chose to focus on the year 2018, since it was the most recent year that was shared by all of our datasets."
   ]
  },
  {
   "cell_type": "code",
   "execution_count": 11,
   "metadata": {},
   "outputs": [
    {
     "name": "stdout",
     "output_type": "stream",
     "text": [
      "High School diploma: 12.33%\n",
      "Bachelor's degree: 23.30%\n",
      "Master's degree: 10.26%\n"
     ]
    }
   ],
   "source": [
    "import pandas as pd\n",
    "SFEducation = pd.read_csv(\"Michael's Data/SFEducation.csv\")\n",
    "print(\"High School diploma: \" + \"{:.2f}\".format(100 * SFEducation.iloc[0][\"Regular high school diploma\"] / db.iloc[0][\"Total\"]) + \"%\")\n",
    "print(\"Bachelor's degree: \" + \"{:.2f}\".format(100 * SFEducation.iloc[0][\"Bachelor's degree\"] / db.iloc[0][\"Total\"]) + \"%\")\n",
    "print(\"Master's degree: \" + \"{:.2f}\".format(100 * SFEducation.iloc[0][\"Master's degree\"] / db.iloc[0][\"Total\"]) + \"%\")"
   ]
  },
  {
   "cell_type": "code",
   "execution_count": 35,
   "metadata": {},
   "outputs": [
    {
     "name": "stdout",
     "output_type": "stream",
     "text": [
      "Mean income: $135406.49\n"
     ]
    }
   ],
   "source": [
    "SFIncome = pd.read_csv(\"Michael's Data/SFIncome.csv\")\n",
    "SFIncome = SFIncome.rename(columns={\"Household income (past 12 months, use ADJINC to adjust HINCP to constant dollars)\": \"Income\"})\n",
    "print(\"Mean income: $\" + \"{:.2f}\".format(SFIncome[\"Income\"].mean()))"
   ]
  },
  {
   "cell_type": "code",
   "execution_count": 36,
   "metadata": {},
   "outputs": [
    {
     "data": {
      "text/html": [
       "<div>\n",
       "<style scoped>\n",
       "    .dataframe tbody tr th:only-of-type {\n",
       "        vertical-align: middle;\n",
       "    }\n",
       "\n",
       "    .dataframe tbody tr th {\n",
       "        vertical-align: top;\n",
       "    }\n",
       "\n",
       "    .dataframe thead th {\n",
       "        text-align: right;\n",
       "    }\n",
       "</style>\n",
       "<table border=\"1\" class=\"dataframe\">\n",
       "  <thead>\n",
       "    <tr style=\"text-align: right;\">\n",
       "      <th></th>\n",
       "      <th>Selected Geographies</th>\n",
       "      <th>Unnamed: 1</th>\n",
       "    </tr>\n",
       "  </thead>\n",
       "  <tbody>\n",
       "    <tr>\n",
       "      <th>0</th>\n",
       "      <td>Alameda County (Northwest)--Oakland (Northwest...</td>\n",
       "      <td>84703</td>\n",
       "    </tr>\n",
       "    <tr>\n",
       "      <th>1</th>\n",
       "      <td>Alameda County (Northeast)--Oakland (East) &amp; P...</td>\n",
       "      <td>60634</td>\n",
       "    </tr>\n",
       "    <tr>\n",
       "      <th>2</th>\n",
       "      <td>Alameda County (North Central)--Oakland City (...</td>\n",
       "      <td>45274</td>\n",
       "    </tr>\n",
       "    <tr>\n",
       "      <th>3</th>\n",
       "      <td>Alameda County (West)--San Leandro, Alameda &amp; ...</td>\n",
       "      <td>66871</td>\n",
       "    </tr>\n",
       "    <tr>\n",
       "      <th>4</th>\n",
       "      <td>Alameda County (North Central)--Castro Valley,...</td>\n",
       "      <td>47279</td>\n",
       "    </tr>\n",
       "  </tbody>\n",
       "</table>\n",
       "</div>"
      ],
      "text/plain": [
       "                                Selected Geographies  Unnamed: 1\n",
       "0  Alameda County (Northwest)--Oakland (Northwest...       84703\n",
       "1  Alameda County (Northeast)--Oakland (East) & P...       60634\n",
       "2  Alameda County (North Central)--Oakland City (...       45274\n",
       "3  Alameda County (West)--San Leandro, Alameda & ...       66871\n",
       "4  Alameda County (North Central)--Castro Valley,...       47279"
      ]
     },
     "execution_count": 36,
     "metadata": {},
     "output_type": "execute_result"
    }
   ],
   "source": [
    "SFRentIncome = pd.read_csv(\"Michael's Data/SFRentIncome.csv\")\n",
    "SFRentIncome.head()"
   ]
  },
  {
   "cell_type": "markdown",
   "metadata": {},
   "source": [
    "---\n",
    "## Data Description"
   ]
  },
  {
   "cell_type": "markdown",
   "metadata": {},
   "source": [
    "TODO"
   ]
  },
  {
   "cell_type": "markdown",
   "metadata": {},
   "source": [
    "---\n",
    "## Data Limitations"
   ]
  },
  {
   "cell_type": "markdown",
   "metadata": {},
   "source": [
    "TODO"
   ]
  },
  {
   "cell_type": "markdown",
   "metadata": {},
   "source": [
    "---\n",
    "## Exploratory Data Analysis"
   ]
  },
  {
   "cell_type": "markdown",
   "metadata": {},
   "source": [
    "TODO"
   ]
  },
  {
   "cell_type": "markdown",
   "metadata": {},
   "source": [
    "---\n",
    "## Questions For Reviewers"
   ]
  }
 ],
 "metadata": {
  "kernelspec": {
   "display_name": "Python 3",
   "language": "python",
   "name": "python3"
  },
  "language_info": {
   "codemirror_mode": {
    "name": "ipython",
    "version": 3
   },
   "file_extension": ".py",
   "mimetype": "text/x-python",
   "name": "python",
   "nbconvert_exporter": "python",
   "pygments_lexer": "ipython3",
   "version": "3.8.5"
  }
 },
 "nbformat": 4,
 "nbformat_minor": 4
}
