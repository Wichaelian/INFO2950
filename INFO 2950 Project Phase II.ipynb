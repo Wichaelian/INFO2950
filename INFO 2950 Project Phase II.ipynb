{
 "cells": [
  {
   "cell_type": "markdown",
   "metadata": {},
   "source": [
    "# INFO 2950 Project Phase II \n",
    "By Colin Hoffer, Michael Wang, John Lo, and Patricio Fraga-Errecart"
   ]
  },
  {
   "cell_type": "markdown",
   "metadata": {},
   "source": [
    "---\n",
    "## Research Questions"
   ]
  },
  {
   "cell_type": "markdown",
   "metadata": {},
   "source": [
    " The effects of various factors (education, taxes, income) on housing prices.\n",
    " What factors are the best for predicting housing prices within a particular county?"
   ]
  },
  {
   "cell_type": "markdown",
   "metadata": {},
   "source": [
    "---\n",
    "## Data Collection and Cleaning"
   ]
  },
  {
   "cell_type": "markdown",
   "metadata": {},
   "source": [
    "The first dataset we decided to use was the Zillow Home Value Index (found [here](https://www.zillow.com/research/data/)) which \"reflects the typical value for homes in the 35th to 65th percentile range for a given region.\" We thought this would be a good estimate of housing prices in various cities. This dataset is organized by metropolitan statistical area (MSA), which usually encompasses multiple counties surrounding a large city. We thought this would give us more accurate and varied data as opposed to using data from the cities' limits themselves. \n",
    "\n",
    "\n",
    "\n",
    "The cities we decided to focus on are: New York, NY; Boston, MA; Washington, DC; San Francisco, CA; Los Angeles, CA; Miami, FL; Louisville, KY; Cincinatti, OH; Houston, TX; Denver, CO; Chicago, IL; and Seattle, WA. We thought these choices were a good variety of climate, geography, and demographics.\n",
    "\n",
    "As for the factors that we want to compare with housing prices, we found a [useful table builder](https://data.census.gov/mdat/#/) on the US Census Website that allowed us to gather data on education completion, household income, gross rent as a percentage of income (used to estimate home affordability), and property taxes for each of the intended MSAs. Unfortunately, these tables were slightly difficult to organize due to the fact that the date could only be organized by counties or districts, not MSAs. To get around this, we downloaded the csv files and consolidated them below so that we had 1 datapoint for each category in each MSA.\n",
    "\n",
    "We also wanted to see if weather or climate had an effect on housing prices, so we utilized the [NOAA National Weather Service Website](https://w2.weather.gov/climate/) to calculate the Mean High Temperature, Mean Low Temperature, and Mean Annual Temperature in 2018 for each city. **We manually inputted this data into our final dataset. (Temporary? Might change)** \n",
    "\n",
    "In addition to these factores, we wanted to analyze the effect of crime on housing prices. We found datasets on the [FBI website](https://ucr.fbi.gov/crime-in-the-u.s/2018/crime-in-the-u.s.-2018/topic-pages/tables/table-6) organized by MSA and year. We chose to record Violent Crime per 100k, Robbery per 100k, Property Crime per 100k, and Burglary per 100k for our our project. **Not all of our cities had data for 2018; in these cases we used data from 2017.** \n",
    "**We manually inputted this data into our final dataset. (Temporary? Might change)** \n",
    "\n",
    "We chose to focus on the year 2018, since it was the most recent year that was shared by all of our datasets."
   ]
  },
  {
   "cell_type": "code",
   "execution_count": 1,
   "metadata": {},
   "outputs": [
    {
     "data": {
      "text/html": [
       "<div>\n",
       "<style scoped>\n",
       "    .dataframe tbody tr th:only-of-type {\n",
       "        vertical-align: middle;\n",
       "    }\n",
       "\n",
       "    .dataframe tbody tr th {\n",
       "        vertical-align: top;\n",
       "    }\n",
       "\n",
       "    .dataframe thead th {\n",
       "        text-align: right;\n",
       "    }\n",
       "</style>\n",
       "<table border=\"1\" class=\"dataframe\">\n",
       "  <thead>\n",
       "    <tr style=\"text-align: right;\">\n",
       "      <th></th>\n",
       "      <th>RegionName</th>\n",
       "      <th>2018 ZHVI</th>\n",
       "    </tr>\n",
       "  </thead>\n",
       "  <tbody>\n",
       "    <tr>\n",
       "      <th>0</th>\n",
       "      <td>United States</td>\n",
       "      <td>2792989.0</td>\n",
       "    </tr>\n",
       "    <tr>\n",
       "      <th>1</th>\n",
       "      <td>New York, NY</td>\n",
       "      <td>5643478.0</td>\n",
       "    </tr>\n",
       "    <tr>\n",
       "      <th>2</th>\n",
       "      <td>Los Angeles-Long Beach-Anaheim, CA</td>\n",
       "      <td>7901810.0</td>\n",
       "    </tr>\n",
       "    <tr>\n",
       "      <th>3</th>\n",
       "      <td>Chicago, IL</td>\n",
       "      <td>2836428.0</td>\n",
       "    </tr>\n",
       "    <tr>\n",
       "      <th>4</th>\n",
       "      <td>Dallas-Fort Worth, TX</td>\n",
       "      <td>2882564.0</td>\n",
       "    </tr>\n",
       "  </tbody>\n",
       "</table>\n",
       "</div>"
      ],
      "text/plain": [
       "                           RegionName  2018 ZHVI\n",
       "0                       United States  2792989.0\n",
       "1                        New York, NY  5643478.0\n",
       "2  Los Angeles-Long Beach-Anaheim, CA  7901810.0\n",
       "3                         Chicago, IL  2836428.0\n",
       "4               Dallas-Fort Worth, TX  2882564.0"
      ]
     },
     "execution_count": 1,
     "metadata": {},
     "output_type": "execute_result"
    }
   ],
   "source": [
    "import pandas as pd\n",
    "msazhvi = pd.read_csv(\"MSAZHVI.csv\")\n",
    "msazhvi.head()\n",
    "msazhvi[\"2018 ZHVI\"] = msazhvi[\"2018-01-31\"] + msazhvi[\"2018-02-28\"] + msazhvi[\"2018-03-31\"] + msazhvi[\"2018-04-30\"] + msazhvi[\"2018-05-31\"] + msazhvi[\"2018-06-30\"] + msazhvi[\"2018-07-31\"] + msazhvi[\"2018-08-31\"] + msazhvi[\"2018-09-30\"] + msazhvi[\"2018-10-31\"] + msazhvi[\"2018-11-30\"] + msazhvi[\"2018-12-31\"]\n",
    "msazhvi = msazhvi[[\"RegionName\", \"2018 ZHVI\"]]\n",
    "msazhvi.head()"
   ]
  },
  {
   "cell_type": "code",
   "execution_count": null,
   "metadata": {},
   "outputs": [],
   "source": [
    "def MSA_data_frame_builder(household, education):\n",
    "    ed = pd.read_csv(education)\n",
    "    db = pd.read_csv(household)\n",
    "    hs_or_equivalent = []\n",
    "    bachelors = []\n",
    "    postgrad = []\n",
    "    for i in range(len(ed[\"Selected Geographies\"])):\n",
    "        percent = (ed[\"Regular high school diploma\"][i] + ed[\"GED or alternative credential\"][i])/ed[\"Total\"][i]\n",
    "        hs_or_equivalent.append(percent)\n",
    "        percent = ed[\"Bachelor's degree\"][i]/ ed[\"Total\"][i]\n",
    "        bachelors.append(percent)\n",
    "        percent = (ed[\"Master's degree\"][i] + ed[\"Professional degree beyond a bachelor's degree\"][i] + ed[\"Doctorate degree\"][i])/ ed[\"Total\"][i]\n",
    "        postgrad.append(percent)\n",
    "    db[\"HS/Equivalent Education Percentage\"] = hs_or_equivalent\n",
    "    db[\"Bachelor's Percentage\"] = bachelors\n",
    "    db[\"Postgraduate Percentage\"] = postgrad\n",
    "    db.insert(loc=2, column=\"Total Population\", ) = ed[\"Total\"]\n",
    "    return db\n",
    "\n",
    "SF = MSA_data_frame_builder(\"Michael's Data/SF.csv\", \"Michael's Data/SFEducation.csv\")\n",
    "SF.head()\n",
    "    "
   ]
  },
  {
   "cell_type": "code",
   "execution_count": 7,
   "metadata": {},
   "outputs": [],
   "source": [
    "def weightedMeans(MSAdata):\n",
    "    "
   ]
  },
  {
   "cell_type": "code",
   "execution_count": null,
   "metadata": {},
   "outputs": [],
   "source": []
  },
  {
   "cell_type": "markdown",
   "metadata": {},
   "source": [
    "---\n",
    "## Data Description"
   ]
  },
  {
   "cell_type": "markdown",
   "metadata": {},
   "source": [
    "test john\n"
   ]
  },
  {
   "cell_type": "markdown",
   "metadata": {},
   "source": [
    "---\n",
    "## Data Limitations"
   ]
  },
  {
   "cell_type": "markdown",
   "metadata": {},
   "source": [
    "TODO"
   ]
  },
  {
   "cell_type": "markdown",
   "metadata": {},
   "source": [
    "---\n",
    "## Exploratory Data Analysis"
   ]
  },
  {
   "cell_type": "markdown",
   "metadata": {},
   "source": [
    "TODO"
   ]
  },
  {
   "cell_type": "markdown",
   "metadata": {},
   "source": [
    "---\n",
    "## Questions For Reviewers"
   ]
  }
 ],
 "metadata": {
  "kernelspec": {
   "display_name": "Python 3",
   "language": "python",
   "name": "python3"
  },
  "language_info": {
   "codemirror_mode": {
    "name": "ipython",
    "version": 3
   },
   "file_extension": ".py",
   "mimetype": "text/x-python",
   "name": "python",
   "nbconvert_exporter": "python",
   "pygments_lexer": "ipython3",
   "version": "3.7.9"
  }
 },
 "nbformat": 4,
 "nbformat_minor": 4
}
