{
 "cells": [
  {
   "cell_type": "markdown",
   "metadata": {},
   "source": [
    "# INFO 2950 Project Phase II \n",
    "By Colin Hoffer, Michael Wang, John Lo, and Patricio Fraga-Errecart"
   ]
  },
  {
   "cell_type": "markdown",
   "metadata": {},
   "source": [
    "---\n",
    "## Research Questions"
   ]
  },
  {
   "cell_type": "markdown",
   "metadata": {},
   "source": [
    " The effects of various factors (education, taxes, income) on average housing prices.\n",
    " What factors are the best for predicting housing prices within a particular county?"
   ]
  },
  {
   "cell_type": "markdown",
   "metadata": {},
   "source": [
    "---\n",
    "## Data Collection and Cleaning"
   ]
  },
  {
   "cell_type": "code",
   "execution_count": 2,
   "metadata": {},
   "outputs": [
    {
     "name": "stdout",
     "output_type": "stream",
     "text": [
      "High School diploma: 12.33%\n",
      "Bachelor's degree: 23.30%\n",
      "Master's degree: 10.26%\n"
     ]
    }
   ],
   "source": [
    "import pandas as pd\n",
    "SFEducation = pd.read_csv(\"Michael's Data/SFEducation.csv\")\n",
    "print(\"High School diploma: \" + \"{:.2f}\".format(100 * SFEducation.iloc[0][\"Regular high school diploma\"] / SFEducation.iloc[0][\"Total\"]) + \"%\")\n",
    "print(\"Bachelor's degree: \" + \"{:.2f}\".format(100 * SFEducation.iloc[0][\"Bachelor's degree\"] / SFEducation.iloc[0][\"Total\"]) + \"%\")\n",
    "print(\"Master's degree: \" + \"{:.2f}\".format(100 * SFEducation.iloc[0][\"Master's degree\"] / SFEducation.iloc[0][\"Total\"]) + \"%\")"
   ]
  },
  {
   "cell_type": "code",
   "execution_count": 3,
   "metadata": {},
   "outputs": [
    {
     "name": "stdout",
     "output_type": "stream",
     "text": [
      "Mean income: $135406.49\n"
     ]
    }
   ],
   "source": [
    "SFIncome = pd.read_csv(\"Michael's Data/SFIncome.csv\")\n",
    "SFIncome = SFIncome.rename(columns={\"Household income (past 12 months, use ADJINC to adjust HINCP to constant dollars)\": \"Income\"})\n",
    "print(\"Mean income: $\" + \"{:.2f}\".format(SFIncome[\"Income\"].mean()))"
   ]
  },
  {
   "cell_type": "code",
   "execution_count": 9,
   "metadata": {},
   "outputs": [
    {
     "name": "stdout",
     "output_type": "stream",
     "text": [
      "Average GRPIP: 14.18%\n"
     ]
    }
   ],
   "source": [
    "SFRentIncome = pd.read_csv(\"Michael's Data/SFRentIncome.csv\")\n",
    "SFRentIncome = SFRentIncome.rename(columns={\"Gross rent as a percentage of household income past 12 months\": \"GRPIP\"})\n",
    "print(\"Average GRPIP: \" + \"{:.2f}\".format(SFRentIncome[\"GRPIP\"].mean()) + \"%\")"
   ]
  },
  {
   "cell_type": "code",
   "execution_count": 11,
   "metadata": {},
   "outputs": [
    {
     "name": "stdout",
     "output_type": "stream",
     "text": [
      "Mean tax: $104114.76\n"
     ]
    }
   ],
   "source": [
    "SFTax = pd.read_csv(\"Michael's Data/SFTax.csv\")\n",
    "SFTax = SFTax.rename(columns={\"Unnamed: 1\": \"Tax\"})\n",
    "print(\"Mean tax: $\" + \"{:.2f}\".format(SFTax[\"Tax\"].mean()))"
   ]
  },
  {
   "cell_type": "code",
   "execution_count": 40,
   "metadata": {},
   "outputs": [],
   "source": [
    "#dataset 1 is your tax data, dataset 2 is your education data\n",
    "def meanTax(dataset1, dataset2):\n",
    "    tax = pd.read_csv(dataset1)\n",
    "    ed_for_purpose_of_population = pd.read_csv(dataset2)\n",
    "    tax = tax.rename(columns={\"Unnamed: 1\": \"Tax\"})\n",
    "    avg = 0\n",
    "    for i in range(len(tax[\"Selected Geographies\"])-1):\n",
    "        avg += tax[\"Tax\"][i]*ed_for_purpose_of_population[\"Total\"][i]/ed_for_purpose_of_population[\"Total\"][0]\n",
    "    print(\"Mean tax: $\" + \"{:.2f}\".format(avg))\n",
    "\n",
    "#dataset 1 is your income data, dataset 2 is your education data\n",
    "def meanInc(dataset1, dataset2):\n",
    "    inc = pd.read_csv(dataset1)\n",
    "    ed_for_purpose_of_population = pd.read_csv(dataset2)\n",
    "    inc = inc.rename(columns={\"Household income (past 12 months, use ADJINC to adjust HINCP to constant dollars)\": \"Income\"})\n",
    "    avg = 0\n",
    "    for i in range(len(inc[\"Selected Geographies\"])-1):\n",
    "        avg += inc[\"Income\"][i]*ed_for_purpose_of_population[\"Total\"][i]/ed_for_purpose_of_population[\"Total\"][0]\n",
    "    print(\"Mean income: $\" + \"{:.2f}\".format(avg))\n",
    "    \n",
    "#dataset 1 is your GRPIP data, dataset 2 is your education data\n",
    "def meanGR(dataset1, dataset2):\n",
    "    grpip = pd.read_csv(dataset1)\n",
    "    ed_for_purpose_of_population = pd.read_csv(dataset2)\n",
    "    grpip = grpip.rename(columns={\"Gross rent as a percentage of household income past 12 months\": \"GRPIP\"})\n",
    "    avg = 0\n",
    "    for i in range(len(grpip[\"Selected Geographies\"])-1):\n",
    "        avg += grpip[\"GRPIP\"][i]*ed_for_purpose_of_population[\"Total\"][i]/ed_for_purpose_of_population[\"Total\"][0]\n",
    "    print(\"Mean GRPIP: $\" + \"{:.2f}\".format(avg))"
   ]
  },
  {
   "cell_type": "code",
   "execution_count": 41,
   "metadata": {},
   "outputs": [
    {
     "name": "stdout",
     "output_type": "stream",
     "text": [
      "Mean tax: $1824477.66\n",
      "Mean income: $208877.41\n"
     ]
    }
   ],
   "source": [
    "meanTax(\"Michael's Data/SFTax.csv\", \"Michael's Data/SFEducation.csv\")\n",
    "meanInc(\"Michael's Data/SFIncome.csv\", \"Michael's Data/SFEducation.csv\")\n",
    "mean"
   ]
  },
  {
   "cell_type": "markdown",
   "metadata": {},
   "source": [
    "---\n",
    "## Data Description"
   ]
  },
  {
   "cell_type": "markdown",
   "metadata": {},
   "source": [
    "TODO"
   ]
  },
  {
   "cell_type": "markdown",
   "metadata": {},
   "source": [
    "---\n",
    "## Data Limitations"
   ]
  },
  {
   "cell_type": "markdown",
   "metadata": {},
   "source": [
    "TODO"
   ]
  },
  {
   "cell_type": "markdown",
   "metadata": {},
   "source": [
    "---\n",
    "## Exploratory Data Analysis"
   ]
  },
  {
   "cell_type": "markdown",
   "metadata": {},
   "source": [
    "TODO"
   ]
  },
  {
   "cell_type": "markdown",
   "metadata": {},
   "source": [
    "---\n",
    "## Questions For Reviewers"
   ]
  }
 ],
 "metadata": {
  "kernelspec": {
   "display_name": "Python 3",
   "language": "python",
   "name": "python3"
  },
  "language_info": {
   "codemirror_mode": {
    "name": "ipython",
    "version": 3
   },
   "file_extension": ".py",
   "mimetype": "text/x-python",
   "name": "python",
   "nbconvert_exporter": "python",
   "pygments_lexer": "ipython3",
   "version": "3.7.9"
  }
 },
 "nbformat": 4,
 "nbformat_minor": 4
}
